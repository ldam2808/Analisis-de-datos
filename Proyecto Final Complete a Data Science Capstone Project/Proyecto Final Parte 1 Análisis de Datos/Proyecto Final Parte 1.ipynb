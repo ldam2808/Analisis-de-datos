{
 "cells": [
  {
   "cell_type": "markdown",
   "metadata": {},
   "source": [
    "## 1- Análisis de los Datos"
   ]
  },
  {
   "cell_type": "code",
   "execution_count": 90,
   "metadata": {},
   "outputs": [],
   "source": [
    "import pandas as pd\n",
    "import numpy as np\n",
    "import matplotlib.pyplot as plt"
   ]
  },
  {
   "cell_type": "code",
   "execution_count": 91,
   "metadata": {},
   "outputs": [],
   "source": [
    "filename = 'UCI_Credit_Card.csv'"
   ]
  },
  {
   "cell_type": "code",
   "execution_count": 92,
   "metadata": {},
   "outputs": [],
   "source": [
    "data = pd.read_csv(filename, index_col=0)"
   ]
  },
  {
   "cell_type": "code",
   "execution_count": 93,
   "metadata": {
    "scrolled": true
   },
   "outputs": [
    {
     "data": {
      "text/plain": [
       "Index(['LIMIT_BAL', 'SEX', 'EDUCATION', 'MARRIAGE', 'AGE', 'PAY_0', 'PAY_2',\n",
       "       'PAY_3', 'PAY_4', 'PAY_5', 'PAY_6', 'BILL_AMT1', 'BILL_AMT2',\n",
       "       'BILL_AMT3', 'BILL_AMT4', 'BILL_AMT5', 'BILL_AMT6', 'PAY_AMT1',\n",
       "       'PAY_AMT2', 'PAY_AMT3', 'PAY_AMT4', 'PAY_AMT5', 'PAY_AMT6',\n",
       "       'default.payment.next.month'],\n",
       "      dtype='object')"
      ]
     },
     "execution_count": 93,
     "metadata": {},
     "output_type": "execute_result"
    }
   ],
   "source": [
    "data.columns"
   ]
  },
  {
   "cell_type": "markdown",
   "metadata": {},
   "source": [
    "No fue necesario pasos de limpieza. Los datos se cargaron en un marco de datos de Pandas directamente desde el archivo CSV."
   ]
  },
  {
   "cell_type": "markdown",
   "metadata": {},
   "source": [
    "## 2- Verificando si hay datos perdidos"
   ]
  },
  {
   "cell_type": "code",
   "execution_count": 94,
   "metadata": {},
   "outputs": [
    {
     "name": "stdout",
     "output_type": "stream",
     "text": [
      "<class 'pandas.core.frame.DataFrame'>\n",
      "Int64Index: 30000 entries, 1 to 30000\n",
      "Data columns (total 24 columns):\n",
      " #   Column                      Non-Null Count  Dtype  \n",
      "---  ------                      --------------  -----  \n",
      " 0   LIMIT_BAL                   30000 non-null  float64\n",
      " 1   SEX                         30000 non-null  int64  \n",
      " 2   EDUCATION                   30000 non-null  int64  \n",
      " 3   MARRIAGE                    30000 non-null  int64  \n",
      " 4   AGE                         30000 non-null  int64  \n",
      " 5   PAY_0                       30000 non-null  int64  \n",
      " 6   PAY_2                       30000 non-null  int64  \n",
      " 7   PAY_3                       30000 non-null  int64  \n",
      " 8   PAY_4                       30000 non-null  int64  \n",
      " 9   PAY_5                       30000 non-null  int64  \n",
      " 10  PAY_6                       30000 non-null  int64  \n",
      " 11  BILL_AMT1                   30000 non-null  float64\n",
      " 12  BILL_AMT2                   30000 non-null  float64\n",
      " 13  BILL_AMT3                   30000 non-null  float64\n",
      " 14  BILL_AMT4                   30000 non-null  float64\n",
      " 15  BILL_AMT5                   30000 non-null  float64\n",
      " 16  BILL_AMT6                   30000 non-null  float64\n",
      " 17  PAY_AMT1                    30000 non-null  float64\n",
      " 18  PAY_AMT2                    30000 non-null  float64\n",
      " 19  PAY_AMT3                    30000 non-null  float64\n",
      " 20  PAY_AMT4                    30000 non-null  float64\n",
      " 21  PAY_AMT5                    30000 non-null  float64\n",
      " 22  PAY_AMT6                    30000 non-null  float64\n",
      " 23  default.payment.next.month  30000 non-null  int64  \n",
      "dtypes: float64(13), int64(11)\n",
      "memory usage: 5.7 MB\n"
     ]
    }
   ],
   "source": [
    "data.info()"
   ]
  },
  {
   "cell_type": "markdown",
   "metadata": {},
   "source": [
    "#### Verificando si hay valores nulos"
   ]
  },
  {
   "cell_type": "code",
   "execution_count": 95,
   "metadata": {},
   "outputs": [
    {
     "data": {
      "text/plain": [
       "0"
      ]
     },
     "execution_count": 95,
     "metadata": {},
     "output_type": "execute_result"
    }
   ],
   "source": [
    "data.isnull().sum().sum()"
   ]
  },
  {
   "cell_type": "markdown",
   "metadata": {},
   "source": [
    "#### * Como no hay valores NULL en ninguna de las columnas, no es necesario tratar con valores faltantes"
   ]
  },
  {
   "cell_type": "markdown",
   "metadata": {},
   "source": [
    "## 3-  Busqueda de valores atípicos."
   ]
  },
  {
   "cell_type": "code",
   "execution_count": 96,
   "metadata": {},
   "outputs": [],
   "source": [
    "pd.options.display.float_format = '{:,}'.format"
   ]
  },
  {
   "cell_type": "code",
   "execution_count": 97,
   "metadata": {},
   "outputs": [
    {
     "data": {
      "text/html": [
       "<div>\n",
       "<style scoped>\n",
       "    .dataframe tbody tr th:only-of-type {\n",
       "        vertical-align: middle;\n",
       "    }\n",
       "\n",
       "    .dataframe tbody tr th {\n",
       "        vertical-align: top;\n",
       "    }\n",
       "\n",
       "    .dataframe thead th {\n",
       "        text-align: right;\n",
       "    }\n",
       "</style>\n",
       "<table border=\"1\" class=\"dataframe\">\n",
       "  <thead>\n",
       "    <tr style=\"text-align: right;\">\n",
       "      <th></th>\n",
       "      <th>count</th>\n",
       "      <th>mean</th>\n",
       "      <th>std</th>\n",
       "      <th>min</th>\n",
       "      <th>25%</th>\n",
       "      <th>50%</th>\n",
       "      <th>75%</th>\n",
       "      <th>max</th>\n",
       "    </tr>\n",
       "  </thead>\n",
       "  <tbody>\n",
       "    <tr>\n",
       "      <th>LIMIT_BAL</th>\n",
       "      <td>30,000.0</td>\n",
       "      <td>167,484.32266666667</td>\n",
       "      <td>129,747.66156720239</td>\n",
       "      <td>10,000.0</td>\n",
       "      <td>50,000.0</td>\n",
       "      <td>140,000.0</td>\n",
       "      <td>240,000.0</td>\n",
       "      <td>1,000,000.0</td>\n",
       "    </tr>\n",
       "    <tr>\n",
       "      <th>SEX</th>\n",
       "      <td>30,000.0</td>\n",
       "      <td>1.6037333333333332</td>\n",
       "      <td>0.48912919609026045</td>\n",
       "      <td>1.0</td>\n",
       "      <td>1.0</td>\n",
       "      <td>2.0</td>\n",
       "      <td>2.0</td>\n",
       "      <td>2.0</td>\n",
       "    </tr>\n",
       "    <tr>\n",
       "      <th>EDUCATION</th>\n",
       "      <td>30,000.0</td>\n",
       "      <td>1.8531333333333333</td>\n",
       "      <td>0.7903486597207291</td>\n",
       "      <td>0.0</td>\n",
       "      <td>1.0</td>\n",
       "      <td>2.0</td>\n",
       "      <td>2.0</td>\n",
       "      <td>6.0</td>\n",
       "    </tr>\n",
       "    <tr>\n",
       "      <th>MARRIAGE</th>\n",
       "      <td>30,000.0</td>\n",
       "      <td>1.5518666666666667</td>\n",
       "      <td>0.5219696006132486</td>\n",
       "      <td>0.0</td>\n",
       "      <td>1.0</td>\n",
       "      <td>2.0</td>\n",
       "      <td>2.0</td>\n",
       "      <td>3.0</td>\n",
       "    </tr>\n",
       "    <tr>\n",
       "      <th>AGE</th>\n",
       "      <td>30,000.0</td>\n",
       "      <td>35.4855</td>\n",
       "      <td>9.217904068090188</td>\n",
       "      <td>21.0</td>\n",
       "      <td>28.0</td>\n",
       "      <td>34.0</td>\n",
       "      <td>41.0</td>\n",
       "      <td>79.0</td>\n",
       "    </tr>\n",
       "    <tr>\n",
       "      <th>PAY_0</th>\n",
       "      <td>30,000.0</td>\n",
       "      <td>-0.0167</td>\n",
       "      <td>1.1238015279973348</td>\n",
       "      <td>-2.0</td>\n",
       "      <td>-1.0</td>\n",
       "      <td>0.0</td>\n",
       "      <td>0.0</td>\n",
       "      <td>8.0</td>\n",
       "    </tr>\n",
       "    <tr>\n",
       "      <th>PAY_2</th>\n",
       "      <td>30,000.0</td>\n",
       "      <td>-0.13376666666666667</td>\n",
       "      <td>1.1971859730345533</td>\n",
       "      <td>-2.0</td>\n",
       "      <td>-1.0</td>\n",
       "      <td>0.0</td>\n",
       "      <td>0.0</td>\n",
       "      <td>8.0</td>\n",
       "    </tr>\n",
       "    <tr>\n",
       "      <th>PAY_3</th>\n",
       "      <td>30,000.0</td>\n",
       "      <td>-0.1662</td>\n",
       "      <td>1.1968675684465735</td>\n",
       "      <td>-2.0</td>\n",
       "      <td>-1.0</td>\n",
       "      <td>0.0</td>\n",
       "      <td>0.0</td>\n",
       "      <td>8.0</td>\n",
       "    </tr>\n",
       "    <tr>\n",
       "      <th>PAY_4</th>\n",
       "      <td>30,000.0</td>\n",
       "      <td>-0.22066666666666668</td>\n",
       "      <td>1.1691386224023375</td>\n",
       "      <td>-2.0</td>\n",
       "      <td>-1.0</td>\n",
       "      <td>0.0</td>\n",
       "      <td>0.0</td>\n",
       "      <td>8.0</td>\n",
       "    </tr>\n",
       "    <tr>\n",
       "      <th>PAY_5</th>\n",
       "      <td>30,000.0</td>\n",
       "      <td>-0.2662</td>\n",
       "      <td>1.1331874060027483</td>\n",
       "      <td>-2.0</td>\n",
       "      <td>-1.0</td>\n",
       "      <td>0.0</td>\n",
       "      <td>0.0</td>\n",
       "      <td>8.0</td>\n",
       "    </tr>\n",
       "    <tr>\n",
       "      <th>PAY_6</th>\n",
       "      <td>30,000.0</td>\n",
       "      <td>-0.2911</td>\n",
       "      <td>1.1499876256079027</td>\n",
       "      <td>-2.0</td>\n",
       "      <td>-1.0</td>\n",
       "      <td>0.0</td>\n",
       "      <td>0.0</td>\n",
       "      <td>8.0</td>\n",
       "    </tr>\n",
       "    <tr>\n",
       "      <th>BILL_AMT1</th>\n",
       "      <td>30,000.0</td>\n",
       "      <td>51,223.3309</td>\n",
       "      <td>73,635.86057552956</td>\n",
       "      <td>-165,580.0</td>\n",
       "      <td>3,558.75</td>\n",
       "      <td>22,381.5</td>\n",
       "      <td>67,091.0</td>\n",
       "      <td>964,511.0</td>\n",
       "    </tr>\n",
       "    <tr>\n",
       "      <th>BILL_AMT2</th>\n",
       "      <td>30,000.0</td>\n",
       "      <td>49,179.07516666667</td>\n",
       "      <td>71,173.76878252835</td>\n",
       "      <td>-69,777.0</td>\n",
       "      <td>2,984.75</td>\n",
       "      <td>21,200.0</td>\n",
       "      <td>64,006.25</td>\n",
       "      <td>983,931.0</td>\n",
       "    </tr>\n",
       "    <tr>\n",
       "      <th>BILL_AMT3</th>\n",
       "      <td>30,000.0</td>\n",
       "      <td>47,013.1548</td>\n",
       "      <td>69,349.38742703684</td>\n",
       "      <td>-157,264.0</td>\n",
       "      <td>2,666.25</td>\n",
       "      <td>20,088.5</td>\n",
       "      <td>60,164.75</td>\n",
       "      <td>1,664,089.0</td>\n",
       "    </tr>\n",
       "    <tr>\n",
       "      <th>BILL_AMT4</th>\n",
       "      <td>30,000.0</td>\n",
       "      <td>43,262.94896666666</td>\n",
       "      <td>64,332.85613391631</td>\n",
       "      <td>-170,000.0</td>\n",
       "      <td>2,326.75</td>\n",
       "      <td>19,052.0</td>\n",
       "      <td>54,506.0</td>\n",
       "      <td>891,586.0</td>\n",
       "    </tr>\n",
       "    <tr>\n",
       "      <th>BILL_AMT5</th>\n",
       "      <td>30,000.0</td>\n",
       "      <td>40,311.40096666667</td>\n",
       "      <td>60,797.15577026487</td>\n",
       "      <td>-81,334.0</td>\n",
       "      <td>1,763.0</td>\n",
       "      <td>18,104.5</td>\n",
       "      <td>50,190.5</td>\n",
       "      <td>927,171.0</td>\n",
       "    </tr>\n",
       "    <tr>\n",
       "      <th>BILL_AMT6</th>\n",
       "      <td>30,000.0</td>\n",
       "      <td>38,871.7604</td>\n",
       "      <td>59,554.10753674573</td>\n",
       "      <td>-339,603.0</td>\n",
       "      <td>1,256.0</td>\n",
       "      <td>17,071.0</td>\n",
       "      <td>49,198.25</td>\n",
       "      <td>961,664.0</td>\n",
       "    </tr>\n",
       "    <tr>\n",
       "      <th>PAY_AMT1</th>\n",
       "      <td>30,000.0</td>\n",
       "      <td>5,663.5805</td>\n",
       "      <td>16,563.280354025766</td>\n",
       "      <td>0.0</td>\n",
       "      <td>1,000.0</td>\n",
       "      <td>2,100.0</td>\n",
       "      <td>5,006.0</td>\n",
       "      <td>873,552.0</td>\n",
       "    </tr>\n",
       "    <tr>\n",
       "      <th>PAY_AMT2</th>\n",
       "      <td>30,000.0</td>\n",
       "      <td>5,921.1635</td>\n",
       "      <td>23,040.87040205724</td>\n",
       "      <td>0.0</td>\n",
       "      <td>833.0</td>\n",
       "      <td>2,009.0</td>\n",
       "      <td>5,000.0</td>\n",
       "      <td>1,684,259.0</td>\n",
       "    </tr>\n",
       "    <tr>\n",
       "      <th>PAY_AMT3</th>\n",
       "      <td>30,000.0</td>\n",
       "      <td>5,225.6815</td>\n",
       "      <td>17,606.961469803104</td>\n",
       "      <td>0.0</td>\n",
       "      <td>390.0</td>\n",
       "      <td>1,800.0</td>\n",
       "      <td>4,505.0</td>\n",
       "      <td>896,040.0</td>\n",
       "    </tr>\n",
       "    <tr>\n",
       "      <th>PAY_AMT4</th>\n",
       "      <td>30,000.0</td>\n",
       "      <td>4,826.076866666666</td>\n",
       "      <td>15,666.159744032007</td>\n",
       "      <td>0.0</td>\n",
       "      <td>296.0</td>\n",
       "      <td>1,500.0</td>\n",
       "      <td>4,013.25</td>\n",
       "      <td>621,000.0</td>\n",
       "    </tr>\n",
       "    <tr>\n",
       "      <th>PAY_AMT5</th>\n",
       "      <td>30,000.0</td>\n",
       "      <td>4,799.387633333334</td>\n",
       "      <td>15,278.305679144789</td>\n",
       "      <td>0.0</td>\n",
       "      <td>252.5</td>\n",
       "      <td>1,500.0</td>\n",
       "      <td>4,031.5</td>\n",
       "      <td>426,529.0</td>\n",
       "    </tr>\n",
       "    <tr>\n",
       "      <th>PAY_AMT6</th>\n",
       "      <td>30,000.0</td>\n",
       "      <td>5,215.502566666667</td>\n",
       "      <td>17,777.4657754353</td>\n",
       "      <td>0.0</td>\n",
       "      <td>117.75</td>\n",
       "      <td>1,500.0</td>\n",
       "      <td>4,000.0</td>\n",
       "      <td>528,666.0</td>\n",
       "    </tr>\n",
       "    <tr>\n",
       "      <th>default.payment.next.month</th>\n",
       "      <td>30,000.0</td>\n",
       "      <td>0.2212</td>\n",
       "      <td>0.41506180569093337</td>\n",
       "      <td>0.0</td>\n",
       "      <td>0.0</td>\n",
       "      <td>0.0</td>\n",
       "      <td>0.0</td>\n",
       "      <td>1.0</td>\n",
       "    </tr>\n",
       "  </tbody>\n",
       "</table>\n",
       "</div>"
      ],
      "text/plain": [
       "                              count                 mean                 std  \\\n",
       "LIMIT_BAL                  30,000.0  167,484.32266666667 129,747.66156720239   \n",
       "SEX                        30,000.0   1.6037333333333332 0.48912919609026045   \n",
       "EDUCATION                  30,000.0   1.8531333333333333  0.7903486597207291   \n",
       "MARRIAGE                   30,000.0   1.5518666666666667  0.5219696006132486   \n",
       "AGE                        30,000.0              35.4855   9.217904068090188   \n",
       "PAY_0                      30,000.0              -0.0167  1.1238015279973348   \n",
       "PAY_2                      30,000.0 -0.13376666666666667  1.1971859730345533   \n",
       "PAY_3                      30,000.0              -0.1662  1.1968675684465735   \n",
       "PAY_4                      30,000.0 -0.22066666666666668  1.1691386224023375   \n",
       "PAY_5                      30,000.0              -0.2662  1.1331874060027483   \n",
       "PAY_6                      30,000.0              -0.2911  1.1499876256079027   \n",
       "BILL_AMT1                  30,000.0          51,223.3309  73,635.86057552956   \n",
       "BILL_AMT2                  30,000.0   49,179.07516666667  71,173.76878252835   \n",
       "BILL_AMT3                  30,000.0          47,013.1548  69,349.38742703684   \n",
       "BILL_AMT4                  30,000.0   43,262.94896666666  64,332.85613391631   \n",
       "BILL_AMT5                  30,000.0   40,311.40096666667  60,797.15577026487   \n",
       "BILL_AMT6                  30,000.0          38,871.7604  59,554.10753674573   \n",
       "PAY_AMT1                   30,000.0           5,663.5805 16,563.280354025766   \n",
       "PAY_AMT2                   30,000.0           5,921.1635  23,040.87040205724   \n",
       "PAY_AMT3                   30,000.0           5,225.6815 17,606.961469803104   \n",
       "PAY_AMT4                   30,000.0   4,826.076866666666 15,666.159744032007   \n",
       "PAY_AMT5                   30,000.0   4,799.387633333334 15,278.305679144789   \n",
       "PAY_AMT6                   30,000.0   5,215.502566666667   17,777.4657754353   \n",
       "default.payment.next.month 30,000.0               0.2212 0.41506180569093337   \n",
       "\n",
       "                                  min      25%       50%       75%         max  \n",
       "LIMIT_BAL                    10,000.0 50,000.0 140,000.0 240,000.0 1,000,000.0  \n",
       "SEX                               1.0      1.0       2.0       2.0         2.0  \n",
       "EDUCATION                         0.0      1.0       2.0       2.0         6.0  \n",
       "MARRIAGE                          0.0      1.0       2.0       2.0         3.0  \n",
       "AGE                              21.0     28.0      34.0      41.0        79.0  \n",
       "PAY_0                            -2.0     -1.0       0.0       0.0         8.0  \n",
       "PAY_2                            -2.0     -1.0       0.0       0.0         8.0  \n",
       "PAY_3                            -2.0     -1.0       0.0       0.0         8.0  \n",
       "PAY_4                            -2.0     -1.0       0.0       0.0         8.0  \n",
       "PAY_5                            -2.0     -1.0       0.0       0.0         8.0  \n",
       "PAY_6                            -2.0     -1.0       0.0       0.0         8.0  \n",
       "BILL_AMT1                  -165,580.0 3,558.75  22,381.5  67,091.0   964,511.0  \n",
       "BILL_AMT2                   -69,777.0 2,984.75  21,200.0 64,006.25   983,931.0  \n",
       "BILL_AMT3                  -157,264.0 2,666.25  20,088.5 60,164.75 1,664,089.0  \n",
       "BILL_AMT4                  -170,000.0 2,326.75  19,052.0  54,506.0   891,586.0  \n",
       "BILL_AMT5                   -81,334.0  1,763.0  18,104.5  50,190.5   927,171.0  \n",
       "BILL_AMT6                  -339,603.0  1,256.0  17,071.0 49,198.25   961,664.0  \n",
       "PAY_AMT1                          0.0  1,000.0   2,100.0   5,006.0   873,552.0  \n",
       "PAY_AMT2                          0.0    833.0   2,009.0   5,000.0 1,684,259.0  \n",
       "PAY_AMT3                          0.0    390.0   1,800.0   4,505.0   896,040.0  \n",
       "PAY_AMT4                          0.0    296.0   1,500.0  4,013.25   621,000.0  \n",
       "PAY_AMT5                          0.0    252.5   1,500.0   4,031.5   426,529.0  \n",
       "PAY_AMT6                          0.0   117.75   1,500.0   4,000.0   528,666.0  \n",
       "default.payment.next.month        0.0      0.0       0.0       0.0         1.0  "
      ]
     },
     "execution_count": 97,
     "metadata": {},
     "output_type": "execute_result"
    }
   ],
   "source": [
    "data.describe().transpose()"
   ]
  },
  {
   "cell_type": "markdown",
   "metadata": {},
   "source": [
    "### Visualización por atributos"
   ]
  },
  {
   "cell_type": "markdown",
   "metadata": {},
   "source": [
    "### Sexo"
   ]
  },
  {
   "cell_type": "code",
   "execution_count": 98,
   "metadata": {},
   "outputs": [
    {
     "data": {
      "text/plain": [
       "<matplotlib.axes._subplots.AxesSubplot at 0x206485f6640>"
      ]
     },
     "execution_count": 98,
     "metadata": {},
     "output_type": "execute_result"
    },
    {
     "data": {
      "image/png": "[encoded data removed]",
      "text/plain": [
       "<Figure size 432x288 with 1 Axes>"
      ]
     },
     "metadata": {
      "needs_background": "light"
     },
     "output_type": "display_data"
    }
   ],
   "source": [
    "data[['SEX']].plot(kind='box')"
   ]
  },
  {
   "cell_type": "markdown",
   "metadata": {},
   "source": [
    "#### No hay valores atípicos para Sexo porque los valores en este conjunto de datos solo toman 2 valores"
   ]
  },
  {
   "cell_type": "markdown",
   "metadata": {},
   "source": [
    "### Educación"
   ]
  },
  {
   "cell_type": "code",
   "execution_count": 99,
   "metadata": {},
   "outputs": [
    {
     "data": {
      "text/plain": [
       "<matplotlib.axes._subplots.AxesSubplot at 0x20648a1b040>"
      ]
     },
     "execution_count": 99,
     "metadata": {},
     "output_type": "execute_result"
    },
    {
     "data": {
      "image/png": "[encoded data removed]",
      "text/plain": [
       "<Figure size 432x288 with 1 Axes>"
      ]
     },
     "metadata": {
      "needs_background": "light"
     },
     "output_type": "display_data"
    }
   ],
   "source": [
    "data['EDUCATION'].plot(kind='hist', bins=100)"
   ]
  },
  {
   "cell_type": "markdown",
   "metadata": {},
   "source": [
    "##### Los valores para la educación son \n",
    "1 =(Posgrado), \n",
    "2=(Universidad),\n",
    "3 (Secundaria), \n",
    "valores 4, 5 y 6 que representan (otros) y (desconocidos). \n",
    "\n",
    "Estos últimos son valores atípicos pero no inesperados. Curiosamente tambien hay valores en 0 para Educación, los cuales no deberían de estar."
   ]
  },
  {
   "cell_type": "markdown",
   "metadata": {},
   "source": [
    "### Casados"
   ]
  },
  {
   "cell_type": "code",
   "execution_count": 100,
   "metadata": {},
   "outputs": [
    {
     "data": {
      "text/plain": [
       "<matplotlib.axes._subplots.AxesSubplot at 0x2064c3267c0>"
      ]
     },
     "execution_count": 100,
     "metadata": {},
     "output_type": "execute_result"
    },
    {
     "data": {
      "image/png": "[encoded data removed]",
      "text/plain": [
       "<Figure size 432x288 with 1 Axes>"
      ]
     },
     "metadata": {
      "needs_background": "light"
     },
     "output_type": "display_data"
    }
   ],
   "source": [
    "data[['MARRIAGE']].plot(kind='box')"
   ]
  },
  {
   "cell_type": "code",
   "execution_count": 101,
   "metadata": {},
   "outputs": [
    {
     "data": {
      "text/plain": [
       "count             30,000.0\n",
       "mean    1.5518666666666667\n",
       "std     0.5219696006132486\n",
       "min                    0.0\n",
       "25%                    1.0\n",
       "50%                    2.0\n",
       "75%                    2.0\n",
       "max                    3.0\n",
       "Name: MARRIAGE, dtype: float64"
      ]
     },
     "execution_count": 101,
     "metadata": {},
     "output_type": "execute_result"
    }
   ],
   "source": [
    "data['MARRIAGE'].describe()"
   ]
  },
  {
   "cell_type": "code",
   "execution_count": 102,
   "metadata": {},
   "outputs": [
    {
     "data": {
      "text/plain": [
       "<matplotlib.axes._subplots.AxesSubplot at 0x2064c379e50>"
      ]
     },
     "execution_count": 102,
     "metadata": {},
     "output_type": "execute_result"
    },
    {
     "data": {
      "image/png": "[encoded data removed]",
      "text/plain": [
       "<Figure size 432x288 with 1 Axes>"
      ]
     },
     "metadata": {
      "needs_background": "light"
     },
     "output_type": "display_data"
    }
   ],
   "source": [
    "data['MARRIAGE'].plot(kind='hist')"
   ]
  },
  {
   "cell_type": "code",
   "execution_count": 103,
   "metadata": {},
   "outputs": [
    {
     "data": {
      "text/plain": [
       "(54, 24)"
      ]
     },
     "execution_count": 103,
     "metadata": {},
     "output_type": "execute_result"
    }
   ],
   "source": [
    "data[data['MARRIAGE'] == 0].shape"
   ]
  },
  {
   "cell_type": "markdown",
   "metadata": {},
   "source": [
    "Para el atributo casados, la gran mayoría de los valores son 1=(casados) y 2=(solteros) como se esperaría. Sin embargo hay algunos valores que son iguales a 3=(\"Otros\"), sin embargo curiosamente hay algunos valores (54 para ser exactos) que son iguales a 0, lo que no debería ser posible."
   ]
  },
  {
   "cell_type": "markdown",
   "metadata": {},
   "source": [
    "### Observación de Limit_BAL "
   ]
  },
  {
   "cell_type": "code",
   "execution_count": 104,
   "metadata": {},
   "outputs": [
    {
     "data": {
      "text/plain": [
       "<matplotlib.axes._subplots.AxesSubplot at 0x2064c3da850>"
      ]
     },
     "execution_count": 104,
     "metadata": {},
     "output_type": "execute_result"
    },
    {
     "data": {
      "image/png": "[encoded data removed]",
      "text/plain": [
       "<Figure size 432x288 with 1 Axes>"
      ]
     },
     "metadata": {
      "needs_background": "light"
     },
     "output_type": "display_data"
    }
   ],
   "source": [
    "data['LIMIT_BAL'].plot(kind='box')"
   ]
  },
  {
   "cell_type": "code",
   "execution_count": 105,
   "metadata": {},
   "outputs": [
    {
     "data": {
      "text/plain": [
       "<matplotlib.axes._subplots.AxesSubplot at 0x2064c43e070>"
      ]
     },
     "execution_count": 105,
     "metadata": {},
     "output_type": "execute_result"
    },
    {
     "data": {
      "image/png": "[encoded data removed]",
      "text/plain": [
       "<Figure size 432x288 with 1 Axes>"
      ]
     },
     "metadata": {
      "needs_background": "light"
     },
     "output_type": "display_data"
    }
   ],
   "source": [
    "data['LIMIT_BAL'].plot(kind='hist', bins=25)"
   ]
  },
  {
   "cell_type": "code",
   "execution_count": 106,
   "metadata": {},
   "outputs": [
    {
     "data": {
      "text/plain": [
       "count              30,000.0\n",
       "mean    167,484.32266666667\n",
       "std     129,747.66156720239\n",
       "min                10,000.0\n",
       "25%                50,000.0\n",
       "50%               140,000.0\n",
       "75%               240,000.0\n",
       "max             1,000,000.0\n",
       "Name: LIMIT_BAL, dtype: float64"
      ]
     },
     "execution_count": 106,
     "metadata": {},
     "output_type": "execute_result"
    }
   ],
   "source": [
    "data['LIMIT_BAL'].describe()"
   ]
  },
  {
   "cell_type": "code",
   "execution_count": 107,
   "metadata": {},
   "outputs": [
    {
     "data": {
      "text/plain": [
       "1000000.0"
      ]
     },
     "execution_count": 107,
     "metadata": {},
     "output_type": "execute_result"
    }
   ],
   "source": [
    "data['LIMIT_BAL'].max()"
   ]
  },
  {
   "cell_type": "code",
   "execution_count": 108,
   "metadata": {},
   "outputs": [
    {
     "data": {
      "text/plain": [
       "(18850, 24)"
      ]
     },
     "execution_count": 108,
     "metadata": {},
     "output_type": "execute_result"
    }
   ],
   "source": [
    "data[data['LIMIT_BAL'] < 200000].shape"
   ]
  },
  {
   "cell_type": "code",
   "execution_count": 109,
   "metadata": {},
   "outputs": [
    {
     "data": {
      "text/plain": [
       "(30000, 24)"
      ]
     },
     "execution_count": 109,
     "metadata": {},
     "output_type": "execute_result"
    }
   ],
   "source": [
    "data.shape"
   ]
  },
  {
   "cell_type": "markdown",
   "metadata": {},
   "source": [
    "La mayoría de los valores (18850) se agrupan por debajo de 200,000 de crédito dado. Algunos valores atípicos aparecen por encima del valor máximo no atípico de 525,000 cuando estamos utilizando la definición de un valor atípico que es cualquier valor\n",
    "\n",
    "a) mayor que el valor Q3 + 1.5 * (el rango intercuartil) y\n",
    "b) cualquier valor menor que Q1 - 1.5 * (el rango intercuartil)\n",
    "\n",
    "Estos valores tienen mucho sentido, por lo que no es necesario deshacerse de ellos."
   ]
  },
  {
   "cell_type": "markdown",
   "metadata": {},
   "source": [
    "### Edad"
   ]
  },
  {
   "cell_type": "code",
   "execution_count": 110,
   "metadata": {},
   "outputs": [
    {
     "data": {
      "text/plain": [
       "<matplotlib.axes._subplots.AxesSubplot at 0x2064c4bb190>"
      ]
     },
     "execution_count": 110,
     "metadata": {},
     "output_type": "execute_result"
    },
    {
     "data": {
      "image/png": "[encoded data removed]",
      "text/plain": [
       "<Figure size 432x288 with 1 Axes>"
      ]
     },
     "metadata": {
      "needs_background": "light"
     },
     "output_type": "display_data"
    }
   ],
   "source": [
    "data['AGE'].plot(kind='box')"
   ]
  },
  {
   "cell_type": "code",
   "execution_count": 111,
   "metadata": {},
   "outputs": [
    {
     "data": {
      "text/plain": [
       "<matplotlib.axes._subplots.AxesSubplot at 0x2064c4da1f0>"
      ]
     },
     "execution_count": 111,
     "metadata": {},
     "output_type": "execute_result"
    },
    {
     "data": {
      "image/png": "[encoded data removed]",
      "text/plain": [
       "<Figure size 432x288 with 1 Axes>"
      ]
     },
     "metadata": {
      "needs_background": "light"
     },
     "output_type": "display_data"
    }
   ],
   "source": [
    "data['AGE'].plot(kind='hist', bins=10)"
   ]
  },
  {
   "cell_type": "code",
   "execution_count": 112,
   "metadata": {},
   "outputs": [
    {
     "data": {
      "text/plain": [
       "<matplotlib.axes._subplots.AxesSubplot at 0x2064c516e50>"
      ]
     },
     "execution_count": 112,
     "metadata": {},
     "output_type": "execute_result"
    },
    {
     "data": {
      "image/png": "[encoded data removed]",
      "text/plain": [
       "<Figure size 432x288 with 1 Axes>"
      ]
     },
     "metadata": {
      "needs_background": "light"
     },
     "output_type": "display_data"
    }
   ],
   "source": [
    "data['AGE'].plot(kind='hist', bins=10, cumulative=True)"
   ]
  },
  {
   "cell_type": "code",
   "execution_count": 113,
   "metadata": {},
   "outputs": [
    {
     "data": {
      "text/plain": [
       "count            30,000.0\n",
       "mean              35.4855\n",
       "std     9.217904068090188\n",
       "min                  21.0\n",
       "25%                  28.0\n",
       "50%                  34.0\n",
       "75%                  41.0\n",
       "max                  79.0\n",
       "Name: AGE, dtype: float64"
      ]
     },
     "execution_count": 113,
     "metadata": {},
     "output_type": "execute_result"
    }
   ],
   "source": [
    "data['AGE'].describe()"
   ]
  },
  {
   "cell_type": "code",
   "execution_count": 114,
   "metadata": {},
   "outputs": [
    {
     "data": {
      "text/plain": [
       "(272, 24)"
      ]
     },
     "execution_count": 114,
     "metadata": {},
     "output_type": "execute_result"
    }
   ],
   "source": [
    "data[data['AGE'] >= 60.5].shape"
   ]
  },
  {
   "cell_type": "code",
   "execution_count": 115,
   "metadata": {},
   "outputs": [
    {
     "data": {
      "text/plain": [
       "0.009066666666666667"
      ]
     },
     "execution_count": 115,
     "metadata": {},
     "output_type": "execute_result"
    }
   ],
   "source": [
    "272/30000"
   ]
  },
  {
   "cell_type": "markdown",
   "metadata": {},
   "source": [
    "Vemos que la mayoría (75% en este caso) de los valores caen entre 21 años y 41 años. Casi el 1% de los valores en este conjunto de datos se pueden clasificar como valores atípicos, ya que tienen edades superiores a 60,5 años. Sin embargo, estas edades mayores puden que tengan sentido y no considero que requieran ningún manejo especial."
   ]
  },
  {
   "cell_type": "markdown",
   "metadata": {},
   "source": [
    "### Columnas con estado de reembolso"
   ]
  },
  {
   "cell_type": "code",
   "execution_count": 116,
   "metadata": {},
   "outputs": [
    {
     "data": {
      "text/plain": [
       "<matplotlib.axes._subplots.AxesSubplot at 0x20647dd38e0>"
      ]
     },
     "execution_count": 116,
     "metadata": {},
     "output_type": "execute_result"
    },
    {
     "data": {
      "image/png": "[encoded data removed]",
      "text/plain": [
       "<Figure size 432x288 with 1 Axes>"
      ]
     },
     "metadata": {
      "needs_background": "light"
     },
     "output_type": "display_data"
    }
   ],
   "source": [
    "data[['PAY_0', 'PAY_2', 'PAY_3', 'PAY_4', 'PAY_5', 'PAY_6']].plot(kind='box')"
   ]
  },
  {
   "cell_type": "code",
   "execution_count": 117,
   "metadata": {},
   "outputs": [
    {
     "data": {
      "text/html": [
       "<div>\n",
       "<style scoped>\n",
       "    .dataframe tbody tr th:only-of-type {\n",
       "        vertical-align: middle;\n",
       "    }\n",
       "\n",
       "    .dataframe tbody tr th {\n",
       "        vertical-align: top;\n",
       "    }\n",
       "\n",
       "    .dataframe thead th {\n",
       "        text-align: right;\n",
       "    }\n",
       "</style>\n",
       "<table border=\"1\" class=\"dataframe\">\n",
       "  <thead>\n",
       "    <tr style=\"text-align: right;\">\n",
       "      <th></th>\n",
       "      <th>PAY_0</th>\n",
       "      <th>PAY_2</th>\n",
       "      <th>PAY_3</th>\n",
       "      <th>PAY_4</th>\n",
       "      <th>PAY_5</th>\n",
       "      <th>PAY_6</th>\n",
       "    </tr>\n",
       "  </thead>\n",
       "  <tbody>\n",
       "    <tr>\n",
       "      <th>count</th>\n",
       "      <td>30,000.0</td>\n",
       "      <td>30,000.0</td>\n",
       "      <td>30,000.0</td>\n",
       "      <td>30,000.0</td>\n",
       "      <td>30,000.0</td>\n",
       "      <td>30,000.0</td>\n",
       "    </tr>\n",
       "    <tr>\n",
       "      <th>mean</th>\n",
       "      <td>-0.0167</td>\n",
       "      <td>-0.13376666666666667</td>\n",
       "      <td>-0.1662</td>\n",
       "      <td>-0.22066666666666668</td>\n",
       "      <td>-0.2662</td>\n",
       "      <td>-0.2911</td>\n",
       "    </tr>\n",
       "    <tr>\n",
       "      <th>std</th>\n",
       "      <td>1.1238015279973348</td>\n",
       "      <td>1.1971859730345533</td>\n",
       "      <td>1.1968675684465735</td>\n",
       "      <td>1.1691386224023375</td>\n",
       "      <td>1.1331874060027483</td>\n",
       "      <td>1.1499876256079027</td>\n",
       "    </tr>\n",
       "    <tr>\n",
       "      <th>min</th>\n",
       "      <td>-2.0</td>\n",
       "      <td>-2.0</td>\n",
       "      <td>-2.0</td>\n",
       "      <td>-2.0</td>\n",
       "      <td>-2.0</td>\n",
       "      <td>-2.0</td>\n",
       "    </tr>\n",
       "    <tr>\n",
       "      <th>25%</th>\n",
       "      <td>-1.0</td>\n",
       "      <td>-1.0</td>\n",
       "      <td>-1.0</td>\n",
       "      <td>-1.0</td>\n",
       "      <td>-1.0</td>\n",
       "      <td>-1.0</td>\n",
       "    </tr>\n",
       "    <tr>\n",
       "      <th>50%</th>\n",
       "      <td>0.0</td>\n",
       "      <td>0.0</td>\n",
       "      <td>0.0</td>\n",
       "      <td>0.0</td>\n",
       "      <td>0.0</td>\n",
       "      <td>0.0</td>\n",
       "    </tr>\n",
       "    <tr>\n",
       "      <th>75%</th>\n",
       "      <td>0.0</td>\n",
       "      <td>0.0</td>\n",
       "      <td>0.0</td>\n",
       "      <td>0.0</td>\n",
       "      <td>0.0</td>\n",
       "      <td>0.0</td>\n",
       "    </tr>\n",
       "    <tr>\n",
       "      <th>max</th>\n",
       "      <td>8.0</td>\n",
       "      <td>8.0</td>\n",
       "      <td>8.0</td>\n",
       "      <td>8.0</td>\n",
       "      <td>8.0</td>\n",
       "      <td>8.0</td>\n",
       "    </tr>\n",
       "  </tbody>\n",
       "</table>\n",
       "</div>"
      ],
      "text/plain": [
       "                   PAY_0                PAY_2              PAY_3  \\\n",
       "count           30,000.0             30,000.0           30,000.0   \n",
       "mean             -0.0167 -0.13376666666666667            -0.1662   \n",
       "std   1.1238015279973348   1.1971859730345533 1.1968675684465735   \n",
       "min                 -2.0                 -2.0               -2.0   \n",
       "25%                 -1.0                 -1.0               -1.0   \n",
       "50%                  0.0                  0.0                0.0   \n",
       "75%                  0.0                  0.0                0.0   \n",
       "max                  8.0                  8.0                8.0   \n",
       "\n",
       "                     PAY_4              PAY_5              PAY_6  \n",
       "count             30,000.0           30,000.0           30,000.0  \n",
       "mean  -0.22066666666666668            -0.2662            -0.2911  \n",
       "std     1.1691386224023375 1.1331874060027483 1.1499876256079027  \n",
       "min                   -2.0               -2.0               -2.0  \n",
       "25%                   -1.0               -1.0               -1.0  \n",
       "50%                    0.0                0.0                0.0  \n",
       "75%                    0.0                0.0                0.0  \n",
       "max                    8.0                8.0                8.0  "
      ]
     },
     "execution_count": 117,
     "metadata": {},
     "output_type": "execute_result"
    }
   ],
   "source": [
    "data[['PAY_0', 'PAY_2', 'PAY_3', 'PAY_4', 'PAY_5', 'PAY_6']].describe()"
   ]
  },
  {
   "cell_type": "code",
   "execution_count": 118,
   "metadata": {},
   "outputs": [
    {
     "data": {
      "text/plain": [
       "<matplotlib.axes._subplots.AxesSubplot at 0x20648c75130>"
      ]
     },
     "execution_count": 118,
     "metadata": {},
     "output_type": "execute_result"
    },
    {
     "data": {
      "image/png": "[encoded data removed]",
      "text/plain": [
       "<Figure size 432x288 with 1 Axes>"
      ]
     },
     "metadata": {
      "needs_background": "light"
     },
     "output_type": "display_data"
    },
    {
     "data": {
      "image/png": "[encoded data removed]",
      "text/plain": [
       "<Figure size 432x288 with 1 Axes>"
      ]
     },
     "metadata": {
      "needs_background": "light"
     },
     "output_type": "display_data"
    },
    {
     "data": {
      "image/png": "[encoded data removed]",
      "text/plain": [
       "<Figure size 432x288 with 1 Axes>"
      ]
     },
     "metadata": {
      "needs_background": "light"
     },
     "output_type": "display_data"
    },
    {
     "data": {
      "image/png": "[encoded data removed]",
      "text/plain": [
       "<Figure size 432x288 with 1 Axes>"
      ]
     },
     "metadata": {
      "needs_background": "light"
     },
     "output_type": "display_data"
    },
    {
     "data": {
      "image/png": "[encoded data removed]",
      "text/plain": [
       "<Figure size 432x288 with 1 Axes>"
      ]
     },
     "metadata": {
      "needs_background": "light"
     },
     "output_type": "display_data"
    },
    {
     "data": {
      "image/png": "[encoded data removed]",
      "text/plain": [
       "<Figure size 432x288 with 1 Axes>"
      ]
     },
     "metadata": {
      "needs_background": "light"
     },
     "output_type": "display_data"
    }
   ],
   "source": [
    "data[['PAY_0']].plot(kind='hist')\n",
    "data[['PAY_2']].plot(kind='hist')\n",
    "data[['PAY_3']].plot(kind='hist')\n",
    "data[['PAY_4']].plot(kind='hist')\n",
    "data[['PAY_5']].plot(kind='hist')\n",
    "data[['PAY_6']].plot(kind='hist')"
   ]
  },
  {
   "cell_type": "markdown",
   "metadata": {},
   "source": [
    "Lo curioso en estas observaciones es que la mayoría de los valores para cada columna son 0 o -2, que no deberían ser valores admitidos, de acuerdo con las descripciones del conjunto de datos. Aparte de eso considero que, todos los demás valores son compatibles, aunque parece que los valores se desplazan hacia abajo por 1 ya que el máximo es 9 y la descripción del conjunto de datos dice que debería ser 8. Todos los valores mayores o iguales a 2 se consideran valores atípicos y ya que El 10% de las filas tienen valores mayores o iguales a 2, aproximadamente el 10% del conjunto de datos se considera atípico. Sin embargo, estos valores tienen sentido y creo que deben mantenerse."
   ]
  },
  {
   "cell_type": "markdown",
   "metadata": {},
   "source": [
    "### Estados de cuenta"
   ]
  },
  {
   "cell_type": "code",
   "execution_count": 119,
   "metadata": {},
   "outputs": [
    {
     "data": {
      "text/plain": [
       "<matplotlib.axes._subplots.AxesSubplot at 0x20648ca6970>"
      ]
     },
     "execution_count": 119,
     "metadata": {},
     "output_type": "execute_result"
    },
    {
     "data": {
      "image/png": "[encoded data removed]",
      "text/plain": [
       "<Figure size 432x288 with 1 Axes>"
      ]
     },
     "metadata": {
      "needs_background": "light"
     },
     "output_type": "display_data"
    }
   ],
   "source": [
    "data[['BILL_AMT1', 'BILL_AMT2', 'BILL_AMT3', 'BILL_AMT4', 'BILL_AMT5', 'BILL_AMT6']].plot(kind='box')"
   ]
  },
  {
   "cell_type": "code",
   "execution_count": 120,
   "metadata": {},
   "outputs": [
    {
     "data": {
      "image/png": "[encoded data removed]",
      "text/plain": [
       "<Figure size 432x288 with 1 Axes>"
      ]
     },
     "metadata": {
      "needs_background": "light"
     },
     "output_type": "display_data"
    },
    {
     "data": {
      "image/png": "[encoded data removed]",
      "text/plain": [
       "<Figure size 432x288 with 1 Axes>"
      ]
     },
     "metadata": {
      "needs_background": "light"
     },
     "output_type": "display_data"
    },
    {
     "data": {
      "image/png": "[encoded data removed]",
      "text/plain": [
       "<Figure size 432x288 with 1 Axes>"
      ]
     },
     "metadata": {
      "needs_background": "light"
     },
     "output_type": "display_data"
    },
    {
     "data": {
      "image/png": "[encoded data removed]",
      "text/plain": [
       "<Figure size 432x288 with 1 Axes>"
      ]
     },
     "metadata": {
      "needs_background": "light"
     },
     "output_type": "display_data"
    },
    {
     "data": {
      "image/png": "[encoded data removed]",
      "text/plain": [
       "<Figure size 432x288 with 1 Axes>"
      ]
     },
     "metadata": {
      "needs_background": "light"
     },
     "output_type": "display_data"
    },
    {
     "data": {
      "image/png": "[encoded data removed]",
      "text/plain": [
       "<Figure size 432x288 with 1 Axes>"
      ]
     },
     "metadata": {
      "needs_background": "light"
     },
     "output_type": "display_data"
    }
   ],
   "source": [
    "for i in range (1,7):\n",
    "    data[['BILL_AMT' + str(i)]].plot(kind='hist')"
   ]
  },
  {
   "cell_type": "code",
   "execution_count": 121,
   "metadata": {},
   "outputs": [
    {
     "data": {
      "text/html": [
       "<div>\n",
       "<style scoped>\n",
       "    .dataframe tbody tr th:only-of-type {\n",
       "        vertical-align: middle;\n",
       "    }\n",
       "\n",
       "    .dataframe tbody tr th {\n",
       "        vertical-align: top;\n",
       "    }\n",
       "\n",
       "    .dataframe thead th {\n",
       "        text-align: right;\n",
       "    }\n",
       "</style>\n",
       "<table border=\"1\" class=\"dataframe\">\n",
       "  <thead>\n",
       "    <tr style=\"text-align: right;\">\n",
       "      <th></th>\n",
       "      <th>BILL_AMT1</th>\n",
       "      <th>BILL_AMT2</th>\n",
       "      <th>BILL_AMT3</th>\n",
       "      <th>BILL_AMT4</th>\n",
       "      <th>BILL_AMT5</th>\n",
       "      <th>BILL_AMT6</th>\n",
       "    </tr>\n",
       "  </thead>\n",
       "  <tbody>\n",
       "    <tr>\n",
       "      <th>count</th>\n",
       "      <td>30,000.0</td>\n",
       "      <td>30,000.0</td>\n",
       "      <td>30,000.0</td>\n",
       "      <td>30,000.0</td>\n",
       "      <td>30,000.0</td>\n",
       "      <td>30,000.0</td>\n",
       "    </tr>\n",
       "    <tr>\n",
       "      <th>mean</th>\n",
       "      <td>51,223.3309</td>\n",
       "      <td>49,179.07516666667</td>\n",
       "      <td>47,013.1548</td>\n",
       "      <td>43,262.94896666666</td>\n",
       "      <td>40,311.40096666667</td>\n",
       "      <td>38,871.7604</td>\n",
       "    </tr>\n",
       "    <tr>\n",
       "      <th>std</th>\n",
       "      <td>73,635.86057552956</td>\n",
       "      <td>71,173.76878252835</td>\n",
       "      <td>69,349.38742703684</td>\n",
       "      <td>64,332.85613391631</td>\n",
       "      <td>60,797.15577026487</td>\n",
       "      <td>59,554.10753674573</td>\n",
       "    </tr>\n",
       "    <tr>\n",
       "      <th>min</th>\n",
       "      <td>-165,580.0</td>\n",
       "      <td>-69,777.0</td>\n",
       "      <td>-157,264.0</td>\n",
       "      <td>-170,000.0</td>\n",
       "      <td>-81,334.0</td>\n",
       "      <td>-339,603.0</td>\n",
       "    </tr>\n",
       "    <tr>\n",
       "      <th>25%</th>\n",
       "      <td>3,558.75</td>\n",
       "      <td>2,984.75</td>\n",
       "      <td>2,666.25</td>\n",
       "      <td>2,326.75</td>\n",
       "      <td>1,763.0</td>\n",
       "      <td>1,256.0</td>\n",
       "    </tr>\n",
       "    <tr>\n",
       "      <th>50%</th>\n",
       "      <td>22,381.5</td>\n",
       "      <td>21,200.0</td>\n",
       "      <td>20,088.5</td>\n",
       "      <td>19,052.0</td>\n",
       "      <td>18,104.5</td>\n",
       "      <td>17,071.0</td>\n",
       "    </tr>\n",
       "    <tr>\n",
       "      <th>75%</th>\n",
       "      <td>67,091.0</td>\n",
       "      <td>64,006.25</td>\n",
       "      <td>60,164.75</td>\n",
       "      <td>54,506.0</td>\n",
       "      <td>50,190.5</td>\n",
       "      <td>49,198.25</td>\n",
       "    </tr>\n",
       "    <tr>\n",
       "      <th>max</th>\n",
       "      <td>964,511.0</td>\n",
       "      <td>983,931.0</td>\n",
       "      <td>1,664,089.0</td>\n",
       "      <td>891,586.0</td>\n",
       "      <td>927,171.0</td>\n",
       "      <td>961,664.0</td>\n",
       "    </tr>\n",
       "  </tbody>\n",
       "</table>\n",
       "</div>"
      ],
      "text/plain": [
       "               BILL_AMT1          BILL_AMT2          BILL_AMT3  \\\n",
       "count           30,000.0           30,000.0           30,000.0   \n",
       "mean         51,223.3309 49,179.07516666667        47,013.1548   \n",
       "std   73,635.86057552956 71,173.76878252835 69,349.38742703684   \n",
       "min           -165,580.0          -69,777.0         -157,264.0   \n",
       "25%             3,558.75           2,984.75           2,666.25   \n",
       "50%             22,381.5           21,200.0           20,088.5   \n",
       "75%             67,091.0          64,006.25          60,164.75   \n",
       "max            964,511.0          983,931.0        1,664,089.0   \n",
       "\n",
       "               BILL_AMT4          BILL_AMT5          BILL_AMT6  \n",
       "count           30,000.0           30,000.0           30,000.0  \n",
       "mean  43,262.94896666666 40,311.40096666667        38,871.7604  \n",
       "std   64,332.85613391631 60,797.15577026487 59,554.10753674573  \n",
       "min           -170,000.0          -81,334.0         -339,603.0  \n",
       "25%             2,326.75            1,763.0            1,256.0  \n",
       "50%             19,052.0           18,104.5           17,071.0  \n",
       "75%             54,506.0           50,190.5          49,198.25  \n",
       "max            891,586.0          927,171.0          961,664.0  "
      ]
     },
     "execution_count": 121,
     "metadata": {},
     "output_type": "execute_result"
    }
   ],
   "source": [
    "data[['BILL_AMT1', 'BILL_AMT2', 'BILL_AMT3', 'BILL_AMT4', 'BILL_AMT5', 'BILL_AMT6']].describe()"
   ]
  },
  {
   "cell_type": "code",
   "execution_count": 122,
   "metadata": {},
   "outputs": [],
   "source": [
    "def dictionary(name):\n",
    "    d = {}\n",
    "    for i in range(1,7):\n",
    "        q3 = data[name + str(i)].quantile(0.75)\n",
    "        q1 = data[name + str(i)].quantile(0.25)\n",
    "        u = q3 + 1.5*(q3-q1)\n",
    "        l = q1 - 1.5*(q3-q1)\n",
    "        #print(len(data[(data[name + str(i)] > u) | (data[name + str(i)] < l)]))\n",
    "        d[name + \"_outliers{0}\".format(i)] = (len(data[(data[name + str(i)] > u) | (data[name + str(i)] < l)]))/30000\n",
    "    return d"
   ]
  },
  {
   "cell_type": "code",
   "execution_count": 123,
   "metadata": {},
   "outputs": [],
   "source": [
    "BILL_AMT_dict = dictionary('BILL_AMT')"
   ]
  },
  {
   "cell_type": "code",
   "execution_count": 124,
   "metadata": {},
   "outputs": [
    {
     "data": {
      "text/plain": [
       "{'BILL_AMT_outliers1': 0.08,\n",
       " 'BILL_AMT_outliers2': 0.07983333333333334,\n",
       " 'BILL_AMT_outliers3': 0.0823,\n",
       " 'BILL_AMT_outliers4': 0.0874,\n",
       " 'BILL_AMT_outliers5': 0.09083333333333334,\n",
       " 'BILL_AMT_outliers6': 0.08976666666666666}"
      ]
     },
     "execution_count": 124,
     "metadata": {},
     "output_type": "execute_result"
    }
   ],
   "source": [
    "BILL_AMT_dict"
   ]
  },
  {
   "cell_type": "markdown",
   "metadata": {},
   "source": [
    "Para los Bill Amounts, tenemos más \"valores atípicos\" de lo normal, con un rango de 7.9% a 9.1% de las filas consideradas atípicas. Estas filas ciertamente deben permanecer en nuestro conjunto de datos, ya que son muy relevantes para la tarea de predecir el incumplimiento de la tarjeta de crédito."
   ]
  },
  {
   "cell_type": "markdown",
   "metadata": {},
   "source": [
    "### Cantidad de pago previo"
   ]
  },
  {
   "cell_type": "code",
   "execution_count": 125,
   "metadata": {},
   "outputs": [
    {
     "data": {
      "text/plain": [
       "<matplotlib.axes._subplots.AxesSubplot at 0x20647d6c790>"
      ]
     },
     "execution_count": 125,
     "metadata": {},
     "output_type": "execute_result"
    },
    {
     "data": {
      "image/png": "[encoded data removed]",
      "text/plain": [
       "<Figure size 432x288 with 1 Axes>"
      ]
     },
     "metadata": {
      "needs_background": "light"
     },
     "output_type": "display_data"
    }
   ],
   "source": [
    "data[['PAY_AMT1', 'PAY_AMT2', 'PAY_AMT3', 'PAY_AMT4', 'PAY_AMT5', 'PAY_AMT6']].plot(kind='box')"
   ]
  },
  {
   "cell_type": "code",
   "execution_count": 126,
   "metadata": {},
   "outputs": [
    {
     "data": {
      "text/html": [
       "<div>\n",
       "<style scoped>\n",
       "    .dataframe tbody tr th:only-of-type {\n",
       "        vertical-align: middle;\n",
       "    }\n",
       "\n",
       "    .dataframe tbody tr th {\n",
       "        vertical-align: top;\n",
       "    }\n",
       "\n",
       "    .dataframe thead th {\n",
       "        text-align: right;\n",
       "    }\n",
       "</style>\n",
       "<table border=\"1\" class=\"dataframe\">\n",
       "  <thead>\n",
       "    <tr style=\"text-align: right;\">\n",
       "      <th></th>\n",
       "      <th>PAY_AMT1</th>\n",
       "      <th>PAY_AMT2</th>\n",
       "      <th>PAY_AMT3</th>\n",
       "      <th>PAY_AMT4</th>\n",
       "      <th>PAY_AMT5</th>\n",
       "      <th>PAY_AMT6</th>\n",
       "    </tr>\n",
       "  </thead>\n",
       "  <tbody>\n",
       "    <tr>\n",
       "      <th>count</th>\n",
       "      <td>30,000.0</td>\n",
       "      <td>30,000.0</td>\n",
       "      <td>30,000.0</td>\n",
       "      <td>30,000.0</td>\n",
       "      <td>30,000.0</td>\n",
       "      <td>30,000.0</td>\n",
       "    </tr>\n",
       "    <tr>\n",
       "      <th>mean</th>\n",
       "      <td>5,663.5805</td>\n",
       "      <td>5,921.1635</td>\n",
       "      <td>5,225.6815</td>\n",
       "      <td>4,826.076866666666</td>\n",
       "      <td>4,799.387633333334</td>\n",
       "      <td>5,215.502566666667</td>\n",
       "    </tr>\n",
       "    <tr>\n",
       "      <th>std</th>\n",
       "      <td>16,563.280354025766</td>\n",
       "      <td>23,040.87040205724</td>\n",
       "      <td>17,606.961469803104</td>\n",
       "      <td>15,666.159744032007</td>\n",
       "      <td>15,278.305679144789</td>\n",
       "      <td>17,777.4657754353</td>\n",
       "    </tr>\n",
       "    <tr>\n",
       "      <th>min</th>\n",
       "      <td>0.0</td>\n",
       "      <td>0.0</td>\n",
       "      <td>0.0</td>\n",
       "      <td>0.0</td>\n",
       "      <td>0.0</td>\n",
       "      <td>0.0</td>\n",
       "    </tr>\n",
       "    <tr>\n",
       "      <th>25%</th>\n",
       "      <td>1,000.0</td>\n",
       "      <td>833.0</td>\n",
       "      <td>390.0</td>\n",
       "      <td>296.0</td>\n",
       "      <td>252.5</td>\n",
       "      <td>117.75</td>\n",
       "    </tr>\n",
       "    <tr>\n",
       "      <th>50%</th>\n",
       "      <td>2,100.0</td>\n",
       "      <td>2,009.0</td>\n",
       "      <td>1,800.0</td>\n",
       "      <td>1,500.0</td>\n",
       "      <td>1,500.0</td>\n",
       "      <td>1,500.0</td>\n",
       "    </tr>\n",
       "    <tr>\n",
       "      <th>75%</th>\n",
       "      <td>5,006.0</td>\n",
       "      <td>5,000.0</td>\n",
       "      <td>4,505.0</td>\n",
       "      <td>4,013.25</td>\n",
       "      <td>4,031.5</td>\n",
       "      <td>4,000.0</td>\n",
       "    </tr>\n",
       "    <tr>\n",
       "      <th>max</th>\n",
       "      <td>873,552.0</td>\n",
       "      <td>1,684,259.0</td>\n",
       "      <td>896,040.0</td>\n",
       "      <td>621,000.0</td>\n",
       "      <td>426,529.0</td>\n",
       "      <td>528,666.0</td>\n",
       "    </tr>\n",
       "  </tbody>\n",
       "</table>\n",
       "</div>"
      ],
      "text/plain": [
       "                 PAY_AMT1           PAY_AMT2            PAY_AMT3  \\\n",
       "count            30,000.0           30,000.0            30,000.0   \n",
       "mean           5,663.5805         5,921.1635          5,225.6815   \n",
       "std   16,563.280354025766 23,040.87040205724 17,606.961469803104   \n",
       "min                   0.0                0.0                 0.0   \n",
       "25%               1,000.0              833.0               390.0   \n",
       "50%               2,100.0            2,009.0             1,800.0   \n",
       "75%               5,006.0            5,000.0             4,505.0   \n",
       "max             873,552.0        1,684,259.0           896,040.0   \n",
       "\n",
       "                 PAY_AMT4            PAY_AMT5           PAY_AMT6  \n",
       "count            30,000.0            30,000.0           30,000.0  \n",
       "mean   4,826.076866666666  4,799.387633333334 5,215.502566666667  \n",
       "std   15,666.159744032007 15,278.305679144789  17,777.4657754353  \n",
       "min                   0.0                 0.0                0.0  \n",
       "25%                 296.0               252.5             117.75  \n",
       "50%               1,500.0             1,500.0            1,500.0  \n",
       "75%              4,013.25             4,031.5            4,000.0  \n",
       "max             621,000.0           426,529.0          528,666.0  "
      ]
     },
     "execution_count": 126,
     "metadata": {},
     "output_type": "execute_result"
    }
   ],
   "source": [
    "data[['PAY_AMT1', 'PAY_AMT2', 'PAY_AMT3', 'PAY_AMT4', 'PAY_AMT5', 'PAY_AMT6']].describe()"
   ]
  },
  {
   "cell_type": "code",
   "execution_count": 127,
   "metadata": {},
   "outputs": [
    {
     "data": {
      "image/png": "[encoded data removed]",
      "text/plain": [
       "<Figure size 432x288 with 1 Axes>"
      ]
     },
     "metadata": {
      "needs_background": "light"
     },
     "output_type": "display_data"
    },
    {
     "data": {
      "image/png": "[encoded data removed]",
      "text/plain": [
       "<Figure size 432x288 with 1 Axes>"
      ]
     },
     "metadata": {
      "needs_background": "light"
     },
     "output_type": "display_data"
    },
    {
     "data": {
      "image/png": "[encoded data removed]",
      "text/plain": [
       "<Figure size 432x288 with 1 Axes>"
      ]
     },
     "metadata": {
      "needs_background": "light"
     },
     "output_type": "display_data"
    },
    {
     "data": {
      "image/png": "[encoded data removed]",
      "text/plain": [
       "<Figure size 432x288 with 1 Axes>"
      ]
     },
     "metadata": {
      "needs_background": "light"
     },
     "output_type": "display_data"
    },
    {
     "data": {
      "image/png": "[encoded data removed]",
      "text/plain": [
       "<Figure size 432x288 with 1 Axes>"
      ]
     },
     "metadata": {
      "needs_background": "light"
     },
     "output_type": "display_data"
    },
    {
     "data": {
      "image/png": "[encoded data removed]",
      "text/plain": [
       "<Figure size 432x288 with 1 Axes>"
      ]
     },
     "metadata": {
      "needs_background": "light"
     },
     "output_type": "display_data"
    }
   ],
   "source": [
    "for i in range (1,7):\n",
    "    data[['PAY_AMT' + str(i)]].plot(kind='hist')"
   ]
  },
  {
   "cell_type": "code",
   "execution_count": 128,
   "metadata": {},
   "outputs": [],
   "source": [
    "PAY_AMT_dict = dictionary('PAY_AMT')"
   ]
  },
  {
   "cell_type": "code",
   "execution_count": 129,
   "metadata": {},
   "outputs": [
    {
     "data": {
      "text/plain": [
       "{'PAY_AMT_outliers1': 0.0915,\n",
       " 'PAY_AMT_outliers2': 0.09046666666666667,\n",
       " 'PAY_AMT_outliers3': 0.0866,\n",
       " 'PAY_AMT_outliers4': 0.0998,\n",
       " 'PAY_AMT_outliers5': 0.09816666666666667,\n",
       " 'PAY_AMT_outliers6': 0.0986}"
      ]
     },
     "execution_count": 129,
     "metadata": {},
     "output_type": "execute_result"
    }
   ],
   "source": [
    "PAY_AMT_dict"
   ]
  },
  {
   "cell_type": "markdown",
   "metadata": {},
   "source": [
    "Podemos ver aquí que entre el 8,6% y el 10% de los pagos anteriores son valores atípicos estadísticos. Al igual que antes, estos números son técnicamente atípicos, aunque ciertamente deberían incluirse en el análisis porque\n",
    "a) no hay indicación de que los datos se hayan ingresado correctamente\n",
    "b) los valores atípicos afectan tanto los resultados como los supuestos y, por lo tanto, son relevantes\n",
    "c) se supone que los valores atípicos no están creando una asociación que no existía anteriormente (aunque esto aún no se ha examinado)"
   ]
  },
  {
   "cell_type": "markdown",
   "metadata": {},
   "source": [
    "### Default Payment"
   ]
  },
  {
   "cell_type": "code",
   "execution_count": 130,
   "metadata": {},
   "outputs": [
    {
     "data": {
      "text/plain": [
       "Index(['LIMIT_BAL', 'SEX', 'EDUCATION', 'MARRIAGE', 'AGE', 'PAY_0', 'PAY_2',\n",
       "       'PAY_3', 'PAY_4', 'PAY_5', 'PAY_6', 'BILL_AMT1', 'BILL_AMT2',\n",
       "       'BILL_AMT3', 'BILL_AMT4', 'BILL_AMT5', 'BILL_AMT6', 'PAY_AMT1',\n",
       "       'PAY_AMT2', 'PAY_AMT3', 'PAY_AMT4', 'PAY_AMT5', 'PAY_AMT6',\n",
       "       'default.payment.next.month'],\n",
       "      dtype='object')"
      ]
     },
     "execution_count": 130,
     "metadata": {},
     "output_type": "execute_result"
    }
   ],
   "source": [
    "data.columns"
   ]
  },
  {
   "cell_type": "code",
   "execution_count": 131,
   "metadata": {},
   "outputs": [
    {
     "data": {
      "text/plain": [
       "array([1, 0], dtype=int64)"
      ]
     },
     "execution_count": 131,
     "metadata": {},
     "output_type": "execute_result"
    }
   ],
   "source": [
    "data['default.payment.next.month'].unique()"
   ]
  },
  {
   "cell_type": "markdown",
   "metadata": {},
   "source": [
    "Solo posee 2 valores (Si y No)"
   ]
  }
 ],
 "metadata": {
  "kernelspec": {
   "display_name": "Python 3",
   "language": "python",
   "name": "python3"
  },
  "language_info": {
   "codemirror_mode": {
    "name": "ipython",
    "version": 3
   },
   "file_extension": ".py",
   "mimetype": "text/x-python",
   "name": "python",
   "nbconvert_exporter": "python",
   "pygments_lexer": "ipython3",
   "version": "3.8.1"
  }
 },
 "nbformat": 4,
 "nbformat_minor": 4
}
