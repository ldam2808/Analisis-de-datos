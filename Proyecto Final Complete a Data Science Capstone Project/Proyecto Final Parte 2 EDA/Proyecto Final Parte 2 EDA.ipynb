{
 "cells": [
  {
   "cell_type": "markdown",
   "metadata": {},
   "source": [
    "## Lectura sobre set de datos"
   ]
  },
  {
   "cell_type": "markdown",
   "metadata": {},
   "source": [
    "Antes de continuar, mostramos la información sobre el conjunto de datos que obtuvimos del manual del conjunto de datos, es decir, de Kaggle.\n",
    "\n",
    "De Kaggle, una descripción general de las variables:\n",
    "\n",
    "Hay 25 variables:\n",
    "\n",
    "ID: ID de cada cliente\n",
    "\n",
    "LIMIT_BAL: Cantidad de crédito otorgado en dólares NT (incluye crédito individual y familiar / complementario\n",
    "\n",
    "SEXO: Género (1 = masculino, 2 = femenino)\n",
    "\n",
    "EDUCACIÓN: (1 = escuela de posgrado, 2 = universidad, 3 = escuela secundaria, 4 = otros, 5 = desconocido, 6 = desconocido)\n",
    "MATRIMONIO: Estado civil (1 = casado, 2 = soltero, 3 = otros)\n",
    "\n",
    "EDAD: edad en años\n",
    "\n",
    "PAY_0: Estado de reembolso en septiembre de 2005 (-1 = pago debidamente, 1 = retraso en el pago durante un mes, 2 = retraso en el pago durante dos meses, ... 8 = retraso en el pago durante ocho meses, 9 = retraso en el pago durante nueve meses y encima)\n",
    "\n",
    "PAY_2: Estado de reembolso en agosto de 2005 (escala igual a la anterior)\n",
    "\n",
    "PAY_3: Estado de reembolso en julio de 2005 (escala igual a la anterior)\n",
    "\n",
    "PAY_4: Estado de reembolso en junio de 2005 (escala igual a la anterior)\n",
    "\n",
    "PAY_5: Estado de reembolso en mayo de 2005 (escala igual a la anterior)\n",
    "\n",
    "PAY_6: Estado de reembolso en abril de 2005 (escala igual a la anterior)\n",
    "\n",
    "BILL_AMT1: Monto del estado de cuenta en septiembre de 2005 (dólar NT)\n",
    "\n",
    "BILL_AMT2: Cantidad del estado de cuenta en agosto de 2005 (dólar NT)\n",
    "\n",
    "BILL_AMT3: Cantidad de extracto de cuenta en julio de 2005 (dólar NT)\n",
    "\n",
    "BILL_AMT4: Monto del estado de cuenta en junio de 2005 (dólar NT)\n",
    "\n",
    "BILL_AMT5: Monto del estado de cuenta en mayo de 2005 (dólar NT)\n",
    "\n",
    "BILL_AMT6: Cantidad del estado de cuenta en abril de 2005 (dólar NT)\n",
    "\n",
    "PAY_AMT1: Monto del pago anterior en septiembre de 2005 (dólar NT)\n",
    "\n",
    "PAY_AMT2: Monto del pago anterior en agosto de 2005 (dólar NT)\n",
    "\n",
    "PAY_AMT3: Monto del pago anterior en julio de 2005 (NT dólar)\n",
    "\n",
    "PAY_AMT4: Monto del pago anterior en junio de 2005 (dólar NT)\n",
    "\n",
    "PAY_AMT5: Monto del pago anterior en mayo de 2005 (NT dólar)\n",
    "\n",
    "PAY_AMT6: Monto del pago anterior en abril de 2005 (dólar NT) default.payment.next.month: Pago predeterminado (1 = sí, 0 = no)\n"
   ]
  },
  {
   "cell_type": "markdown",
   "metadata": {},
   "source": [
    "## Revisión los tipos de datos"
   ]
  },
  {
   "cell_type": "code",
   "execution_count": 2,
   "metadata": {},
   "outputs": [],
   "source": [
    "import pandas as pd\n",
    "import numpy as np\n",
    "import matplotlib.pyplot as plt\n",
    "import seaborn as sns\n",
    "from IPython.display import display\n",
    "import random"
   ]
  },
  {
   "cell_type": "code",
   "execution_count": 3,
   "metadata": {},
   "outputs": [],
   "source": [
    "filename = 'UCI_Credit_Card.csv'"
   ]
  },
  {
   "cell_type": "code",
   "execution_count": 4,
   "metadata": {},
   "outputs": [],
   "source": [
    "data = pd.read_csv(filename, index_col=0)"
   ]
  },
  {
   "cell_type": "code",
   "execution_count": 5,
   "metadata": {},
   "outputs": [
    {
     "data": {
      "text/html": [
       "<div>\n",
       "<style scoped>\n",
       "    .dataframe tbody tr th:only-of-type {\n",
       "        vertical-align: middle;\n",
       "    }\n",
       "\n",
       "    .dataframe tbody tr th {\n",
       "        vertical-align: top;\n",
       "    }\n",
       "\n",
       "    .dataframe thead th {\n",
       "        text-align: right;\n",
       "    }\n",
       "</style>\n",
       "<table border=\"1\" class=\"dataframe\">\n",
       "  <thead>\n",
       "    <tr style=\"text-align: right;\">\n",
       "      <th>ID</th>\n",
       "      <th>3128</th>\n",
       "      <th>16499</th>\n",
       "      <th>26019</th>\n",
       "      <th>1085</th>\n",
       "      <th>13959</th>\n",
       "    </tr>\n",
       "  </thead>\n",
       "  <tbody>\n",
       "    <tr>\n",
       "      <th>LIMIT_BAL</th>\n",
       "      <td>210000.0</td>\n",
       "      <td>50000.0</td>\n",
       "      <td>210000.0</td>\n",
       "      <td>80000.0</td>\n",
       "      <td>200000.0</td>\n",
       "    </tr>\n",
       "    <tr>\n",
       "      <th>SEX</th>\n",
       "      <td>1.0</td>\n",
       "      <td>1.0</td>\n",
       "      <td>2.0</td>\n",
       "      <td>2.0</td>\n",
       "      <td>2.0</td>\n",
       "    </tr>\n",
       "    <tr>\n",
       "      <th>EDUCATION</th>\n",
       "      <td>2.0</td>\n",
       "      <td>1.0</td>\n",
       "      <td>2.0</td>\n",
       "      <td>2.0</td>\n",
       "      <td>1.0</td>\n",
       "    </tr>\n",
       "    <tr>\n",
       "      <th>MARRIAGE</th>\n",
       "      <td>1.0</td>\n",
       "      <td>2.0</td>\n",
       "      <td>2.0</td>\n",
       "      <td>2.0</td>\n",
       "      <td>2.0</td>\n",
       "    </tr>\n",
       "    <tr>\n",
       "      <th>AGE</th>\n",
       "      <td>42.0</td>\n",
       "      <td>26.0</td>\n",
       "      <td>37.0</td>\n",
       "      <td>23.0</td>\n",
       "      <td>35.0</td>\n",
       "    </tr>\n",
       "    <tr>\n",
       "      <th>PAY_0</th>\n",
       "      <td>-1.0</td>\n",
       "      <td>0.0</td>\n",
       "      <td>0.0</td>\n",
       "      <td>-1.0</td>\n",
       "      <td>0.0</td>\n",
       "    </tr>\n",
       "    <tr>\n",
       "      <th>PAY_2</th>\n",
       "      <td>-1.0</td>\n",
       "      <td>0.0</td>\n",
       "      <td>0.0</td>\n",
       "      <td>0.0</td>\n",
       "      <td>0.0</td>\n",
       "    </tr>\n",
       "    <tr>\n",
       "      <th>PAY_3</th>\n",
       "      <td>-1.0</td>\n",
       "      <td>0.0</td>\n",
       "      <td>0.0</td>\n",
       "      <td>0.0</td>\n",
       "      <td>0.0</td>\n",
       "    </tr>\n",
       "    <tr>\n",
       "      <th>PAY_4</th>\n",
       "      <td>-1.0</td>\n",
       "      <td>0.0</td>\n",
       "      <td>0.0</td>\n",
       "      <td>0.0</td>\n",
       "      <td>0.0</td>\n",
       "    </tr>\n",
       "    <tr>\n",
       "      <th>PAY_5</th>\n",
       "      <td>-1.0</td>\n",
       "      <td>0.0</td>\n",
       "      <td>0.0</td>\n",
       "      <td>0.0</td>\n",
       "      <td>0.0</td>\n",
       "    </tr>\n",
       "    <tr>\n",
       "      <th>PAY_6</th>\n",
       "      <td>-1.0</td>\n",
       "      <td>2.0</td>\n",
       "      <td>0.0</td>\n",
       "      <td>0.0</td>\n",
       "      <td>0.0</td>\n",
       "    </tr>\n",
       "    <tr>\n",
       "      <th>BILL_AMT1</th>\n",
       "      <td>9377.0</td>\n",
       "      <td>46415.0</td>\n",
       "      <td>206157.0</td>\n",
       "      <td>57314.0</td>\n",
       "      <td>99291.0</td>\n",
       "    </tr>\n",
       "    <tr>\n",
       "      <th>BILL_AMT2</th>\n",
       "      <td>9534.0</td>\n",
       "      <td>38226.0</td>\n",
       "      <td>212566.0</td>\n",
       "      <td>58489.0</td>\n",
       "      <td>87757.0</td>\n",
       "    </tr>\n",
       "    <tr>\n",
       "      <th>BILL_AMT3</th>\n",
       "      <td>9850.0</td>\n",
       "      <td>31924.0</td>\n",
       "      <td>190867.0</td>\n",
       "      <td>50452.0</td>\n",
       "      <td>82417.0</td>\n",
       "    </tr>\n",
       "    <tr>\n",
       "      <th>BILL_AMT4</th>\n",
       "      <td>9905.0</td>\n",
       "      <td>19682.0</td>\n",
       "      <td>195323.0</td>\n",
       "      <td>51573.0</td>\n",
       "      <td>83877.0</td>\n",
       "    </tr>\n",
       "    <tr>\n",
       "      <th>BILL_AMT5</th>\n",
       "      <td>8540.0</td>\n",
       "      <td>19989.0</td>\n",
       "      <td>156651.0</td>\n",
       "      <td>49061.0</td>\n",
       "      <td>82814.0</td>\n",
       "    </tr>\n",
       "    <tr>\n",
       "      <th>BILL_AMT6</th>\n",
       "      <td>8785.0</td>\n",
       "      <td>20452.0</td>\n",
       "      <td>135493.0</td>\n",
       "      <td>33931.0</td>\n",
       "      <td>35484.0</td>\n",
       "    </tr>\n",
       "    <tr>\n",
       "      <th>PAY_AMT1</th>\n",
       "      <td>9540.0</td>\n",
       "      <td>1672.0</td>\n",
       "      <td>10000.0</td>\n",
       "      <td>2145.0</td>\n",
       "      <td>2742.0</td>\n",
       "    </tr>\n",
       "    <tr>\n",
       "      <th>PAY_AMT2</th>\n",
       "      <td>9856.0</td>\n",
       "      <td>1699.0</td>\n",
       "      <td>20000.0</td>\n",
       "      <td>2000.0</td>\n",
       "      <td>3000.0</td>\n",
       "    </tr>\n",
       "    <tr>\n",
       "      <th>PAY_AMT3</th>\n",
       "      <td>9905.0</td>\n",
       "      <td>1600.0</td>\n",
       "      <td>8000.0</td>\n",
       "      <td>2012.0</td>\n",
       "      <td>2018.0</td>\n",
       "    </tr>\n",
       "    <tr>\n",
       "      <th>PAY_AMT4</th>\n",
       "      <td>8540.0</td>\n",
       "      <td>901.0</td>\n",
       "      <td>10000.0</td>\n",
       "      <td>2049.0</td>\n",
       "      <td>2743.0</td>\n",
       "    </tr>\n",
       "    <tr>\n",
       "      <th>PAY_AMT5</th>\n",
       "      <td>8785.0</td>\n",
       "      <td>1500.0</td>\n",
       "      <td>4416.0</td>\n",
       "      <td>2008.0</td>\n",
       "      <td>1578.0</td>\n",
       "    </tr>\n",
       "    <tr>\n",
       "      <th>PAY_AMT6</th>\n",
       "      <td>3080.0</td>\n",
       "      <td>7.0</td>\n",
       "      <td>10000.0</td>\n",
       "      <td>1217.0</td>\n",
       "      <td>9013.0</td>\n",
       "    </tr>\n",
       "    <tr>\n",
       "      <th>default.payment.next.month</th>\n",
       "      <td>0.0</td>\n",
       "      <td>0.0</td>\n",
       "      <td>0.0</td>\n",
       "      <td>0.0</td>\n",
       "      <td>0.0</td>\n",
       "    </tr>\n",
       "  </tbody>\n",
       "</table>\n",
       "</div>"
      ],
      "text/plain": [
       "ID                             3128     16499     26019    1085      13959\n",
       "LIMIT_BAL                   210000.0  50000.0  210000.0  80000.0  200000.0\n",
       "SEX                              1.0      1.0       2.0      2.0       2.0\n",
       "EDUCATION                        2.0      1.0       2.0      2.0       1.0\n",
       "MARRIAGE                         1.0      2.0       2.0      2.0       2.0\n",
       "AGE                             42.0     26.0      37.0     23.0      35.0\n",
       "PAY_0                           -1.0      0.0       0.0     -1.0       0.0\n",
       "PAY_2                           -1.0      0.0       0.0      0.0       0.0\n",
       "PAY_3                           -1.0      0.0       0.0      0.0       0.0\n",
       "PAY_4                           -1.0      0.0       0.0      0.0       0.0\n",
       "PAY_5                           -1.0      0.0       0.0      0.0       0.0\n",
       "PAY_6                           -1.0      2.0       0.0      0.0       0.0\n",
       "BILL_AMT1                     9377.0  46415.0  206157.0  57314.0   99291.0\n",
       "BILL_AMT2                     9534.0  38226.0  212566.0  58489.0   87757.0\n",
       "BILL_AMT3                     9850.0  31924.0  190867.0  50452.0   82417.0\n",
       "BILL_AMT4                     9905.0  19682.0  195323.0  51573.0   83877.0\n",
       "BILL_AMT5                     8540.0  19989.0  156651.0  49061.0   82814.0\n",
       "BILL_AMT6                     8785.0  20452.0  135493.0  33931.0   35484.0\n",
       "PAY_AMT1                      9540.0   1672.0   10000.0   2145.0    2742.0\n",
       "PAY_AMT2                      9856.0   1699.0   20000.0   2000.0    3000.0\n",
       "PAY_AMT3                      9905.0   1600.0    8000.0   2012.0    2018.0\n",
       "PAY_AMT4                      8540.0    901.0   10000.0   2049.0    2743.0\n",
       "PAY_AMT5                      8785.0   1500.0    4416.0   2008.0    1578.0\n",
       "PAY_AMT6                      3080.0      7.0   10000.0   1217.0    9013.0\n",
       "default.payment.next.month       0.0      0.0       0.0      0.0       0.0"
      ]
     },
     "execution_count": 5,
     "metadata": {},
     "output_type": "execute_result"
    }
   ],
   "source": [
    "pd.set_option('display.max_columns', 500)\n",
    "data.sample(5).transpose()"
   ]
  },
  {
   "cell_type": "code",
   "execution_count": 6,
   "metadata": {},
   "outputs": [
    {
     "name": "stdout",
     "output_type": "stream",
     "text": [
      "<class 'pandas.core.frame.DataFrame'>\n",
      "Int64Index: 30000 entries, 1 to 30000\n",
      "Data columns (total 24 columns):\n",
      " #   Column                      Non-Null Count  Dtype  \n",
      "---  ------                      --------------  -----  \n",
      " 0   LIMIT_BAL                   30000 non-null  float64\n",
      " 1   SEX                         30000 non-null  int64  \n",
      " 2   EDUCATION                   30000 non-null  int64  \n",
      " 3   MARRIAGE                    30000 non-null  int64  \n",
      " 4   AGE                         30000 non-null  int64  \n",
      " 5   PAY_0                       30000 non-null  int64  \n",
      " 6   PAY_2                       30000 non-null  int64  \n",
      " 7   PAY_3                       30000 non-null  int64  \n",
      " 8   PAY_4                       30000 non-null  int64  \n",
      " 9   PAY_5                       30000 non-null  int64  \n",
      " 10  PAY_6                       30000 non-null  int64  \n",
      " 11  BILL_AMT1                   30000 non-null  float64\n",
      " 12  BILL_AMT2                   30000 non-null  float64\n",
      " 13  BILL_AMT3                   30000 non-null  float64\n",
      " 14  BILL_AMT4                   30000 non-null  float64\n",
      " 15  BILL_AMT5                   30000 non-null  float64\n",
      " 16  BILL_AMT6                   30000 non-null  float64\n",
      " 17  PAY_AMT1                    30000 non-null  float64\n",
      " 18  PAY_AMT2                    30000 non-null  float64\n",
      " 19  PAY_AMT3                    30000 non-null  float64\n",
      " 20  PAY_AMT4                    30000 non-null  float64\n",
      " 21  PAY_AMT5                    30000 non-null  float64\n",
      " 22  PAY_AMT6                    30000 non-null  float64\n",
      " 23  default.payment.next.month  30000 non-null  int64  \n",
      "dtypes: float64(13), int64(11)\n",
      "memory usage: 5.7 MB\n"
     ]
    }
   ],
   "source": [
    "data.info()"
   ]
  },
  {
   "cell_type": "markdown",
   "metadata": {},
   "source": [
    "Todas las columnas de este conjunto de datos tienen un tipo numérico. Son de valor flotante (continuo) o de valor int (discreto). Nada parece estar anormal de momento, así que podemos continuar."
   ]
  },
  {
   "cell_type": "code",
   "execution_count": 7,
   "metadata": {},
   "outputs": [
    {
     "data": {
      "text/plain": [
       "(30000, 24)"
      ]
     },
     "metadata": {},
     "output_type": "display_data"
    }
   ],
   "source": [
    "display(data.shape)"
   ]
  },
  {
   "cell_type": "code",
   "execution_count": 8,
   "metadata": {},
   "outputs": [
    {
     "data": {
      "text/html": [
       "<div>\n",
       "<style scoped>\n",
       "    .dataframe tbody tr th:only-of-type {\n",
       "        vertical-align: middle;\n",
       "    }\n",
       "\n",
       "    .dataframe tbody tr th {\n",
       "        vertical-align: top;\n",
       "    }\n",
       "\n",
       "    .dataframe thead th {\n",
       "        text-align: right;\n",
       "    }\n",
       "</style>\n",
       "<table border=\"1\" class=\"dataframe\">\n",
       "  <thead>\n",
       "    <tr style=\"text-align: right;\">\n",
       "      <th>ID</th>\n",
       "      <th>1</th>\n",
       "      <th>2</th>\n",
       "      <th>3</th>\n",
       "      <th>4</th>\n",
       "      <th>5</th>\n",
       "    </tr>\n",
       "  </thead>\n",
       "  <tbody>\n",
       "    <tr>\n",
       "      <th>LIMIT_BAL</th>\n",
       "      <td>20000.0</td>\n",
       "      <td>120000.0</td>\n",
       "      <td>90000.0</td>\n",
       "      <td>50000.0</td>\n",
       "      <td>50000.0</td>\n",
       "    </tr>\n",
       "    <tr>\n",
       "      <th>SEX</th>\n",
       "      <td>2.0</td>\n",
       "      <td>2.0</td>\n",
       "      <td>2.0</td>\n",
       "      <td>2.0</td>\n",
       "      <td>1.0</td>\n",
       "    </tr>\n",
       "    <tr>\n",
       "      <th>EDUCATION</th>\n",
       "      <td>2.0</td>\n",
       "      <td>2.0</td>\n",
       "      <td>2.0</td>\n",
       "      <td>2.0</td>\n",
       "      <td>2.0</td>\n",
       "    </tr>\n",
       "    <tr>\n",
       "      <th>MARRIAGE</th>\n",
       "      <td>1.0</td>\n",
       "      <td>2.0</td>\n",
       "      <td>2.0</td>\n",
       "      <td>1.0</td>\n",
       "      <td>1.0</td>\n",
       "    </tr>\n",
       "    <tr>\n",
       "      <th>AGE</th>\n",
       "      <td>24.0</td>\n",
       "      <td>26.0</td>\n",
       "      <td>34.0</td>\n",
       "      <td>37.0</td>\n",
       "      <td>57.0</td>\n",
       "    </tr>\n",
       "    <tr>\n",
       "      <th>PAY_0</th>\n",
       "      <td>2.0</td>\n",
       "      <td>-1.0</td>\n",
       "      <td>0.0</td>\n",
       "      <td>0.0</td>\n",
       "      <td>-1.0</td>\n",
       "    </tr>\n",
       "    <tr>\n",
       "      <th>PAY_2</th>\n",
       "      <td>2.0</td>\n",
       "      <td>2.0</td>\n",
       "      <td>0.0</td>\n",
       "      <td>0.0</td>\n",
       "      <td>0.0</td>\n",
       "    </tr>\n",
       "    <tr>\n",
       "      <th>PAY_3</th>\n",
       "      <td>-1.0</td>\n",
       "      <td>0.0</td>\n",
       "      <td>0.0</td>\n",
       "      <td>0.0</td>\n",
       "      <td>-1.0</td>\n",
       "    </tr>\n",
       "    <tr>\n",
       "      <th>PAY_4</th>\n",
       "      <td>-1.0</td>\n",
       "      <td>0.0</td>\n",
       "      <td>0.0</td>\n",
       "      <td>0.0</td>\n",
       "      <td>0.0</td>\n",
       "    </tr>\n",
       "    <tr>\n",
       "      <th>PAY_5</th>\n",
       "      <td>-2.0</td>\n",
       "      <td>0.0</td>\n",
       "      <td>0.0</td>\n",
       "      <td>0.0</td>\n",
       "      <td>0.0</td>\n",
       "    </tr>\n",
       "    <tr>\n",
       "      <th>PAY_6</th>\n",
       "      <td>-2.0</td>\n",
       "      <td>2.0</td>\n",
       "      <td>0.0</td>\n",
       "      <td>0.0</td>\n",
       "      <td>0.0</td>\n",
       "    </tr>\n",
       "    <tr>\n",
       "      <th>BILL_AMT1</th>\n",
       "      <td>3913.0</td>\n",
       "      <td>2682.0</td>\n",
       "      <td>29239.0</td>\n",
       "      <td>46990.0</td>\n",
       "      <td>8617.0</td>\n",
       "    </tr>\n",
       "    <tr>\n",
       "      <th>BILL_AMT2</th>\n",
       "      <td>3102.0</td>\n",
       "      <td>1725.0</td>\n",
       "      <td>14027.0</td>\n",
       "      <td>48233.0</td>\n",
       "      <td>5670.0</td>\n",
       "    </tr>\n",
       "    <tr>\n",
       "      <th>BILL_AMT3</th>\n",
       "      <td>689.0</td>\n",
       "      <td>2682.0</td>\n",
       "      <td>13559.0</td>\n",
       "      <td>49291.0</td>\n",
       "      <td>35835.0</td>\n",
       "    </tr>\n",
       "    <tr>\n",
       "      <th>BILL_AMT4</th>\n",
       "      <td>0.0</td>\n",
       "      <td>3272.0</td>\n",
       "      <td>14331.0</td>\n",
       "      <td>28314.0</td>\n",
       "      <td>20940.0</td>\n",
       "    </tr>\n",
       "    <tr>\n",
       "      <th>BILL_AMT5</th>\n",
       "      <td>0.0</td>\n",
       "      <td>3455.0</td>\n",
       "      <td>14948.0</td>\n",
       "      <td>28959.0</td>\n",
       "      <td>19146.0</td>\n",
       "    </tr>\n",
       "    <tr>\n",
       "      <th>BILL_AMT6</th>\n",
       "      <td>0.0</td>\n",
       "      <td>3261.0</td>\n",
       "      <td>15549.0</td>\n",
       "      <td>29547.0</td>\n",
       "      <td>19131.0</td>\n",
       "    </tr>\n",
       "    <tr>\n",
       "      <th>PAY_AMT1</th>\n",
       "      <td>0.0</td>\n",
       "      <td>0.0</td>\n",
       "      <td>1518.0</td>\n",
       "      <td>2000.0</td>\n",
       "      <td>2000.0</td>\n",
       "    </tr>\n",
       "    <tr>\n",
       "      <th>PAY_AMT2</th>\n",
       "      <td>689.0</td>\n",
       "      <td>1000.0</td>\n",
       "      <td>1500.0</td>\n",
       "      <td>2019.0</td>\n",
       "      <td>36681.0</td>\n",
       "    </tr>\n",
       "    <tr>\n",
       "      <th>PAY_AMT3</th>\n",
       "      <td>0.0</td>\n",
       "      <td>1000.0</td>\n",
       "      <td>1000.0</td>\n",
       "      <td>1200.0</td>\n",
       "      <td>10000.0</td>\n",
       "    </tr>\n",
       "    <tr>\n",
       "      <th>PAY_AMT4</th>\n",
       "      <td>0.0</td>\n",
       "      <td>1000.0</td>\n",
       "      <td>1000.0</td>\n",
       "      <td>1100.0</td>\n",
       "      <td>9000.0</td>\n",
       "    </tr>\n",
       "    <tr>\n",
       "      <th>PAY_AMT5</th>\n",
       "      <td>0.0</td>\n",
       "      <td>0.0</td>\n",
       "      <td>1000.0</td>\n",
       "      <td>1069.0</td>\n",
       "      <td>689.0</td>\n",
       "    </tr>\n",
       "    <tr>\n",
       "      <th>PAY_AMT6</th>\n",
       "      <td>0.0</td>\n",
       "      <td>2000.0</td>\n",
       "      <td>5000.0</td>\n",
       "      <td>1000.0</td>\n",
       "      <td>679.0</td>\n",
       "    </tr>\n",
       "    <tr>\n",
       "      <th>default.payment.next.month</th>\n",
       "      <td>1.0</td>\n",
       "      <td>1.0</td>\n",
       "      <td>0.0</td>\n",
       "      <td>0.0</td>\n",
       "      <td>0.0</td>\n",
       "    </tr>\n",
       "  </tbody>\n",
       "</table>\n",
       "</div>"
      ],
      "text/plain": [
       "ID                                1         2        3        4        5\n",
       "LIMIT_BAL                   20000.0  120000.0  90000.0  50000.0  50000.0\n",
       "SEX                             2.0       2.0      2.0      2.0      1.0\n",
       "EDUCATION                       2.0       2.0      2.0      2.0      2.0\n",
       "MARRIAGE                        1.0       2.0      2.0      1.0      1.0\n",
       "AGE                            24.0      26.0     34.0     37.0     57.0\n",
       "PAY_0                           2.0      -1.0      0.0      0.0     -1.0\n",
       "PAY_2                           2.0       2.0      0.0      0.0      0.0\n",
       "PAY_3                          -1.0       0.0      0.0      0.0     -1.0\n",
       "PAY_4                          -1.0       0.0      0.0      0.0      0.0\n",
       "PAY_5                          -2.0       0.0      0.0      0.0      0.0\n",
       "PAY_6                          -2.0       2.0      0.0      0.0      0.0\n",
       "BILL_AMT1                    3913.0    2682.0  29239.0  46990.0   8617.0\n",
       "BILL_AMT2                    3102.0    1725.0  14027.0  48233.0   5670.0\n",
       "BILL_AMT3                     689.0    2682.0  13559.0  49291.0  35835.0\n",
       "BILL_AMT4                       0.0    3272.0  14331.0  28314.0  20940.0\n",
       "BILL_AMT5                       0.0    3455.0  14948.0  28959.0  19146.0\n",
       "BILL_AMT6                       0.0    3261.0  15549.0  29547.0  19131.0\n",
       "PAY_AMT1                        0.0       0.0   1518.0   2000.0   2000.0\n",
       "PAY_AMT2                      689.0    1000.0   1500.0   2019.0  36681.0\n",
       "PAY_AMT3                        0.0    1000.0   1000.0   1200.0  10000.0\n",
       "PAY_AMT4                        0.0    1000.0   1000.0   1100.0   9000.0\n",
       "PAY_AMT5                        0.0       0.0   1000.0   1069.0    689.0\n",
       "PAY_AMT6                        0.0    2000.0   5000.0   1000.0    679.0\n",
       "default.payment.next.month      1.0       1.0      0.0      0.0      0.0"
      ]
     },
     "execution_count": 8,
     "metadata": {},
     "output_type": "execute_result"
    }
   ],
   "source": [
    "data.head().transpose()"
   ]
  },
  {
   "cell_type": "markdown",
   "metadata": {},
   "source": [
    "## Imprimir filas de muestra"
   ]
  },
  {
   "cell_type": "markdown",
   "metadata": {},
   "source": [
    "Imprimimos una porción aleatoria de filas \"para preservar el orden de las filas en caso de que los datos se clasifiquen o tengan otra estructura entre filas\".\n",
    "\n",
    "(https://www.kaggle.com/sohier/structured-eda-for-data-cleaning-results/)"
   ]
  },
  {
   "cell_type": "code",
   "execution_count": 9,
   "metadata": {},
   "outputs": [],
   "source": [
    "pd.options.display.float_format = '{:,}'.format # muestra números largos con comas"
   ]
  },
  {
   "cell_type": "code",
   "execution_count": 10,
   "metadata": {},
   "outputs": [
    {
     "data": {
      "text/html": [
       "<div>\n",
       "<style scoped>\n",
       "    .dataframe tbody tr th:only-of-type {\n",
       "        vertical-align: middle;\n",
       "    }\n",
       "\n",
       "    .dataframe tbody tr th {\n",
       "        vertical-align: top;\n",
       "    }\n",
       "\n",
       "    .dataframe thead th {\n",
       "        text-align: right;\n",
       "    }\n",
       "</style>\n",
       "<table border=\"1\" class=\"dataframe\">\n",
       "  <thead>\n",
       "    <tr style=\"text-align: right;\">\n",
       "      <th>ID</th>\n",
       "      <th>20953</th>\n",
       "      <th>20954</th>\n",
       "      <th>20955</th>\n",
       "      <th>20956</th>\n",
       "      <th>20957</th>\n",
       "    </tr>\n",
       "  </thead>\n",
       "  <tbody>\n",
       "    <tr>\n",
       "      <th>LIMIT_BAL</th>\n",
       "      <td>10,000.0</td>\n",
       "      <td>140,000.0</td>\n",
       "      <td>50,000.0</td>\n",
       "      <td>270,000.0</td>\n",
       "      <td>290,000.0</td>\n",
       "    </tr>\n",
       "    <tr>\n",
       "      <th>SEX</th>\n",
       "      <td>1.0</td>\n",
       "      <td>1.0</td>\n",
       "      <td>1.0</td>\n",
       "      <td>1.0</td>\n",
       "      <td>1.0</td>\n",
       "    </tr>\n",
       "    <tr>\n",
       "      <th>EDUCATION</th>\n",
       "      <td>3.0</td>\n",
       "      <td>2.0</td>\n",
       "      <td>2.0</td>\n",
       "      <td>2.0</td>\n",
       "      <td>2.0</td>\n",
       "    </tr>\n",
       "    <tr>\n",
       "      <th>MARRIAGE</th>\n",
       "      <td>2.0</td>\n",
       "      <td>2.0</td>\n",
       "      <td>2.0</td>\n",
       "      <td>1.0</td>\n",
       "      <td>2.0</td>\n",
       "    </tr>\n",
       "    <tr>\n",
       "      <th>AGE</th>\n",
       "      <td>37.0</td>\n",
       "      <td>41.0</td>\n",
       "      <td>36.0</td>\n",
       "      <td>44.0</td>\n",
       "      <td>30.0</td>\n",
       "    </tr>\n",
       "    <tr>\n",
       "      <th>PAY_0</th>\n",
       "      <td>0.0</td>\n",
       "      <td>0.0</td>\n",
       "      <td>-1.0</td>\n",
       "      <td>2.0</td>\n",
       "      <td>0.0</td>\n",
       "    </tr>\n",
       "    <tr>\n",
       "      <th>PAY_2</th>\n",
       "      <td>0.0</td>\n",
       "      <td>0.0</td>\n",
       "      <td>-1.0</td>\n",
       "      <td>0.0</td>\n",
       "      <td>0.0</td>\n",
       "    </tr>\n",
       "    <tr>\n",
       "      <th>PAY_3</th>\n",
       "      <td>0.0</td>\n",
       "      <td>0.0</td>\n",
       "      <td>-1.0</td>\n",
       "      <td>0.0</td>\n",
       "      <td>0.0</td>\n",
       "    </tr>\n",
       "    <tr>\n",
       "      <th>PAY_4</th>\n",
       "      <td>0.0</td>\n",
       "      <td>0.0</td>\n",
       "      <td>-1.0</td>\n",
       "      <td>0.0</td>\n",
       "      <td>0.0</td>\n",
       "    </tr>\n",
       "    <tr>\n",
       "      <th>PAY_5</th>\n",
       "      <td>0.0</td>\n",
       "      <td>0.0</td>\n",
       "      <td>-1.0</td>\n",
       "      <td>0.0</td>\n",
       "      <td>0.0</td>\n",
       "    </tr>\n",
       "    <tr>\n",
       "      <th>PAY_6</th>\n",
       "      <td>0.0</td>\n",
       "      <td>2.0</td>\n",
       "      <td>-1.0</td>\n",
       "      <td>0.0</td>\n",
       "      <td>0.0</td>\n",
       "    </tr>\n",
       "    <tr>\n",
       "      <th>BILL_AMT1</th>\n",
       "      <td>4,950.0</td>\n",
       "      <td>185,948.0</td>\n",
       "      <td>1,261.0</td>\n",
       "      <td>187,352.0</td>\n",
       "      <td>65,369.0</td>\n",
       "    </tr>\n",
       "    <tr>\n",
       "      <th>BILL_AMT2</th>\n",
       "      <td>5,963.0</td>\n",
       "      <td>170,133.0</td>\n",
       "      <td>1,261.0</td>\n",
       "      <td>179,247.0</td>\n",
       "      <td>67,270.0</td>\n",
       "    </tr>\n",
       "    <tr>\n",
       "      <th>BILL_AMT3</th>\n",
       "      <td>6,983.0</td>\n",
       "      <td>155,737.0</td>\n",
       "      <td>1,665.0</td>\n",
       "      <td>180,535.0</td>\n",
       "      <td>65,357.0</td>\n",
       "    </tr>\n",
       "    <tr>\n",
       "      <th>BILL_AMT4</th>\n",
       "      <td>7,993.0</td>\n",
       "      <td>140,586.0</td>\n",
       "      <td>1,261.0</td>\n",
       "      <td>187,524.0</td>\n",
       "      <td>66,893.0</td>\n",
       "    </tr>\n",
       "    <tr>\n",
       "      <th>BILL_AMT5</th>\n",
       "      <td>8,151.0</td>\n",
       "      <td>136,641.0</td>\n",
       "      <td>1,261.0</td>\n",
       "      <td>185,895.0</td>\n",
       "      <td>69,740.0</td>\n",
       "    </tr>\n",
       "    <tr>\n",
       "      <th>BILL_AMT6</th>\n",
       "      <td>8,322.0</td>\n",
       "      <td>117,308.0</td>\n",
       "      <td>390.0</td>\n",
       "      <td>190,396.0</td>\n",
       "      <td>56,411.0</td>\n",
       "    </tr>\n",
       "    <tr>\n",
       "      <th>PAY_AMT1</th>\n",
       "      <td>1,103.0</td>\n",
       "      <td>6,088.0</td>\n",
       "      <td>1,261.0</td>\n",
       "      <td>8,000.0</td>\n",
       "      <td>3,360.0</td>\n",
       "    </tr>\n",
       "    <tr>\n",
       "      <th>PAY_AMT2</th>\n",
       "      <td>1,123.0</td>\n",
       "      <td>5,677.0</td>\n",
       "      <td>1,665.0</td>\n",
       "      <td>6,700.0</td>\n",
       "      <td>3,000.0</td>\n",
       "    </tr>\n",
       "    <tr>\n",
       "      <th>PAY_AMT3</th>\n",
       "      <td>1,133.0</td>\n",
       "      <td>4,797.0</td>\n",
       "      <td>1,261.0</td>\n",
       "      <td>10,027.0</td>\n",
       "      <td>3,000.0</td>\n",
       "    </tr>\n",
       "    <tr>\n",
       "      <th>PAY_AMT4</th>\n",
       "      <td>291.0</td>\n",
       "      <td>15,414.0</td>\n",
       "      <td>1,261.0</td>\n",
       "      <td>6,700.0</td>\n",
       "      <td>4,000.0</td>\n",
       "    </tr>\n",
       "    <tr>\n",
       "      <th>PAY_AMT5</th>\n",
       "      <td>302.0</td>\n",
       "      <td>0.0</td>\n",
       "      <td>390.0</td>\n",
       "      <td>7,500.0</td>\n",
       "      <td>2,500.0</td>\n",
       "    </tr>\n",
       "    <tr>\n",
       "      <th>PAY_AMT6</th>\n",
       "      <td>1,000.0</td>\n",
       "      <td>2,330.0</td>\n",
       "      <td>390.0</td>\n",
       "      <td>7,000.0</td>\n",
       "      <td>8,000.0</td>\n",
       "    </tr>\n",
       "    <tr>\n",
       "      <th>default.payment.next.month</th>\n",
       "      <td>1.0</td>\n",
       "      <td>0.0</td>\n",
       "      <td>0.0</td>\n",
       "      <td>1.0</td>\n",
       "      <td>0.0</td>\n",
       "    </tr>\n",
       "  </tbody>\n",
       "</table>\n",
       "</div>"
      ],
      "text/plain": [
       "ID                            20953     20954    20955     20956     20957\n",
       "LIMIT_BAL                  10,000.0 140,000.0 50,000.0 270,000.0 290,000.0\n",
       "SEX                             1.0       1.0      1.0       1.0       1.0\n",
       "EDUCATION                       3.0       2.0      2.0       2.0       2.0\n",
       "MARRIAGE                        2.0       2.0      2.0       1.0       2.0\n",
       "AGE                            37.0      41.0     36.0      44.0      30.0\n",
       "PAY_0                           0.0       0.0     -1.0       2.0       0.0\n",
       "PAY_2                           0.0       0.0     -1.0       0.0       0.0\n",
       "PAY_3                           0.0       0.0     -1.0       0.0       0.0\n",
       "PAY_4                           0.0       0.0     -1.0       0.0       0.0\n",
       "PAY_5                           0.0       0.0     -1.0       0.0       0.0\n",
       "PAY_6                           0.0       2.0     -1.0       0.0       0.0\n",
       "BILL_AMT1                   4,950.0 185,948.0  1,261.0 187,352.0  65,369.0\n",
       "BILL_AMT2                   5,963.0 170,133.0  1,261.0 179,247.0  67,270.0\n",
       "BILL_AMT3                   6,983.0 155,737.0  1,665.0 180,535.0  65,357.0\n",
       "BILL_AMT4                   7,993.0 140,586.0  1,261.0 187,524.0  66,893.0\n",
       "BILL_AMT5                   8,151.0 136,641.0  1,261.0 185,895.0  69,740.0\n",
       "BILL_AMT6                   8,322.0 117,308.0    390.0 190,396.0  56,411.0\n",
       "PAY_AMT1                    1,103.0   6,088.0  1,261.0   8,000.0   3,360.0\n",
       "PAY_AMT2                    1,123.0   5,677.0  1,665.0   6,700.0   3,000.0\n",
       "PAY_AMT3                    1,133.0   4,797.0  1,261.0  10,027.0   3,000.0\n",
       "PAY_AMT4                      291.0  15,414.0  1,261.0   6,700.0   4,000.0\n",
       "PAY_AMT5                      302.0       0.0    390.0   7,500.0   2,500.0\n",
       "PAY_AMT6                    1,000.0   2,330.0    390.0   7,000.0   8,000.0\n",
       "default.payment.next.month      1.0       0.0      0.0       1.0       0.0"
      ]
     },
     "execution_count": 10,
     "metadata": {},
     "output_type": "execute_result"
    }
   ],
   "source": [
    "random.seed(42)\n",
    "data[random.randint(0, len(data)):].head().transpose() # transponemos para que podamos ver los valores"
   ]
  },
  {
   "cell_type": "markdown",
   "metadata": {},
   "source": [
    "Problema potencial: hay 0 en las columnas PAY_X (para X en (1,2,3,4,5,6)), por lo que la explicación del manual de esa columna no puede ser correcta."
   ]
  },
  {
   "cell_type": "markdown",
   "metadata": {},
   "source": [
    "## Resumen estadístico"
   ]
  },
  {
   "cell_type": "markdown",
   "metadata": {},
   "source": [
    "Esta etapa nos permite hacer una verificación de cordura básica sobre la distribución de los datos:"
   ]
  },
  {
   "cell_type": "code",
   "execution_count": 11,
   "metadata": {},
   "outputs": [
    {
     "data": {
      "text/html": [
       "<div>\n",
       "<style scoped>\n",
       "    .dataframe tbody tr th:only-of-type {\n",
       "        vertical-align: middle;\n",
       "    }\n",
       "\n",
       "    .dataframe tbody tr th {\n",
       "        vertical-align: top;\n",
       "    }\n",
       "\n",
       "    .dataframe thead th {\n",
       "        text-align: right;\n",
       "    }\n",
       "</style>\n",
       "<table border=\"1\" class=\"dataframe\">\n",
       "  <thead>\n",
       "    <tr style=\"text-align: right;\">\n",
       "      <th></th>\n",
       "      <th>count</th>\n",
       "      <th>mean</th>\n",
       "      <th>std</th>\n",
       "      <th>min</th>\n",
       "      <th>25%</th>\n",
       "      <th>50%</th>\n",
       "      <th>75%</th>\n",
       "      <th>max</th>\n",
       "    </tr>\n",
       "  </thead>\n",
       "  <tbody>\n",
       "    <tr>\n",
       "      <th>LIMIT_BAL</th>\n",
       "      <td>30,000.0</td>\n",
       "      <td>167,484.32266666667</td>\n",
       "      <td>129,747.66156720239</td>\n",
       "      <td>10,000.0</td>\n",
       "      <td>50,000.0</td>\n",
       "      <td>140,000.0</td>\n",
       "      <td>240,000.0</td>\n",
       "      <td>1,000,000.0</td>\n",
       "    </tr>\n",
       "    <tr>\n",
       "      <th>SEX</th>\n",
       "      <td>30,000.0</td>\n",
       "      <td>1.6037333333333332</td>\n",
       "      <td>0.48912919609026045</td>\n",
       "      <td>1.0</td>\n",
       "      <td>1.0</td>\n",
       "      <td>2.0</td>\n",
       "      <td>2.0</td>\n",
       "      <td>2.0</td>\n",
       "    </tr>\n",
       "    <tr>\n",
       "      <th>EDUCATION</th>\n",
       "      <td>30,000.0</td>\n",
       "      <td>1.8531333333333333</td>\n",
       "      <td>0.7903486597207291</td>\n",
       "      <td>0.0</td>\n",
       "      <td>1.0</td>\n",
       "      <td>2.0</td>\n",
       "      <td>2.0</td>\n",
       "      <td>6.0</td>\n",
       "    </tr>\n",
       "    <tr>\n",
       "      <th>MARRIAGE</th>\n",
       "      <td>30,000.0</td>\n",
       "      <td>1.5518666666666667</td>\n",
       "      <td>0.5219696006132486</td>\n",
       "      <td>0.0</td>\n",
       "      <td>1.0</td>\n",
       "      <td>2.0</td>\n",
       "      <td>2.0</td>\n",
       "      <td>3.0</td>\n",
       "    </tr>\n",
       "    <tr>\n",
       "      <th>AGE</th>\n",
       "      <td>30,000.0</td>\n",
       "      <td>35.4855</td>\n",
       "      <td>9.217904068090188</td>\n",
       "      <td>21.0</td>\n",
       "      <td>28.0</td>\n",
       "      <td>34.0</td>\n",
       "      <td>41.0</td>\n",
       "      <td>79.0</td>\n",
       "    </tr>\n",
       "    <tr>\n",
       "      <th>PAY_0</th>\n",
       "      <td>30,000.0</td>\n",
       "      <td>-0.0167</td>\n",
       "      <td>1.1238015279973348</td>\n",
       "      <td>-2.0</td>\n",
       "      <td>-1.0</td>\n",
       "      <td>0.0</td>\n",
       "      <td>0.0</td>\n",
       "      <td>8.0</td>\n",
       "    </tr>\n",
       "    <tr>\n",
       "      <th>PAY_2</th>\n",
       "      <td>30,000.0</td>\n",
       "      <td>-0.13376666666666667</td>\n",
       "      <td>1.1971859730345533</td>\n",
       "      <td>-2.0</td>\n",
       "      <td>-1.0</td>\n",
       "      <td>0.0</td>\n",
       "      <td>0.0</td>\n",
       "      <td>8.0</td>\n",
       "    </tr>\n",
       "    <tr>\n",
       "      <th>PAY_3</th>\n",
       "      <td>30,000.0</td>\n",
       "      <td>-0.1662</td>\n",
       "      <td>1.1968675684465735</td>\n",
       "      <td>-2.0</td>\n",
       "      <td>-1.0</td>\n",
       "      <td>0.0</td>\n",
       "      <td>0.0</td>\n",
       "      <td>8.0</td>\n",
       "    </tr>\n",
       "    <tr>\n",
       "      <th>PAY_4</th>\n",
       "      <td>30,000.0</td>\n",
       "      <td>-0.22066666666666668</td>\n",
       "      <td>1.1691386224023375</td>\n",
       "      <td>-2.0</td>\n",
       "      <td>-1.0</td>\n",
       "      <td>0.0</td>\n",
       "      <td>0.0</td>\n",
       "      <td>8.0</td>\n",
       "    </tr>\n",
       "    <tr>\n",
       "      <th>PAY_5</th>\n",
       "      <td>30,000.0</td>\n",
       "      <td>-0.2662</td>\n",
       "      <td>1.1331874060027483</td>\n",
       "      <td>-2.0</td>\n",
       "      <td>-1.0</td>\n",
       "      <td>0.0</td>\n",
       "      <td>0.0</td>\n",
       "      <td>8.0</td>\n",
       "    </tr>\n",
       "    <tr>\n",
       "      <th>PAY_6</th>\n",
       "      <td>30,000.0</td>\n",
       "      <td>-0.2911</td>\n",
       "      <td>1.1499876256079027</td>\n",
       "      <td>-2.0</td>\n",
       "      <td>-1.0</td>\n",
       "      <td>0.0</td>\n",
       "      <td>0.0</td>\n",
       "      <td>8.0</td>\n",
       "    </tr>\n",
       "    <tr>\n",
       "      <th>BILL_AMT1</th>\n",
       "      <td>30,000.0</td>\n",
       "      <td>51,223.3309</td>\n",
       "      <td>73,635.86057552956</td>\n",
       "      <td>-165,580.0</td>\n",
       "      <td>3,558.75</td>\n",
       "      <td>22,381.5</td>\n",
       "      <td>67,091.0</td>\n",
       "      <td>964,511.0</td>\n",
       "    </tr>\n",
       "    <tr>\n",
       "      <th>BILL_AMT2</th>\n",
       "      <td>30,000.0</td>\n",
       "      <td>49,179.07516666667</td>\n",
       "      <td>71,173.76878252835</td>\n",
       "      <td>-69,777.0</td>\n",
       "      <td>2,984.75</td>\n",
       "      <td>21,200.0</td>\n",
       "      <td>64,006.25</td>\n",
       "      <td>983,931.0</td>\n",
       "    </tr>\n",
       "    <tr>\n",
       "      <th>BILL_AMT3</th>\n",
       "      <td>30,000.0</td>\n",
       "      <td>47,013.1548</td>\n",
       "      <td>69,349.38742703684</td>\n",
       "      <td>-157,264.0</td>\n",
       "      <td>2,666.25</td>\n",
       "      <td>20,088.5</td>\n",
       "      <td>60,164.75</td>\n",
       "      <td>1,664,089.0</td>\n",
       "    </tr>\n",
       "    <tr>\n",
       "      <th>BILL_AMT4</th>\n",
       "      <td>30,000.0</td>\n",
       "      <td>43,262.94896666666</td>\n",
       "      <td>64,332.85613391631</td>\n",
       "      <td>-170,000.0</td>\n",
       "      <td>2,326.75</td>\n",
       "      <td>19,052.0</td>\n",
       "      <td>54,506.0</td>\n",
       "      <td>891,586.0</td>\n",
       "    </tr>\n",
       "    <tr>\n",
       "      <th>BILL_AMT5</th>\n",
       "      <td>30,000.0</td>\n",
       "      <td>40,311.40096666667</td>\n",
       "      <td>60,797.15577026487</td>\n",
       "      <td>-81,334.0</td>\n",
       "      <td>1,763.0</td>\n",
       "      <td>18,104.5</td>\n",
       "      <td>50,190.5</td>\n",
       "      <td>927,171.0</td>\n",
       "    </tr>\n",
       "    <tr>\n",
       "      <th>BILL_AMT6</th>\n",
       "      <td>30,000.0</td>\n",
       "      <td>38,871.7604</td>\n",
       "      <td>59,554.10753674573</td>\n",
       "      <td>-339,603.0</td>\n",
       "      <td>1,256.0</td>\n",
       "      <td>17,071.0</td>\n",
       "      <td>49,198.25</td>\n",
       "      <td>961,664.0</td>\n",
       "    </tr>\n",
       "    <tr>\n",
       "      <th>PAY_AMT1</th>\n",
       "      <td>30,000.0</td>\n",
       "      <td>5,663.5805</td>\n",
       "      <td>16,563.280354025766</td>\n",
       "      <td>0.0</td>\n",
       "      <td>1,000.0</td>\n",
       "      <td>2,100.0</td>\n",
       "      <td>5,006.0</td>\n",
       "      <td>873,552.0</td>\n",
       "    </tr>\n",
       "    <tr>\n",
       "      <th>PAY_AMT2</th>\n",
       "      <td>30,000.0</td>\n",
       "      <td>5,921.1635</td>\n",
       "      <td>23,040.87040205724</td>\n",
       "      <td>0.0</td>\n",
       "      <td>833.0</td>\n",
       "      <td>2,009.0</td>\n",
       "      <td>5,000.0</td>\n",
       "      <td>1,684,259.0</td>\n",
       "    </tr>\n",
       "    <tr>\n",
       "      <th>PAY_AMT3</th>\n",
       "      <td>30,000.0</td>\n",
       "      <td>5,225.6815</td>\n",
       "      <td>17,606.961469803104</td>\n",
       "      <td>0.0</td>\n",
       "      <td>390.0</td>\n",
       "      <td>1,800.0</td>\n",
       "      <td>4,505.0</td>\n",
       "      <td>896,040.0</td>\n",
       "    </tr>\n",
       "    <tr>\n",
       "      <th>PAY_AMT4</th>\n",
       "      <td>30,000.0</td>\n",
       "      <td>4,826.076866666666</td>\n",
       "      <td>15,666.159744032007</td>\n",
       "      <td>0.0</td>\n",
       "      <td>296.0</td>\n",
       "      <td>1,500.0</td>\n",
       "      <td>4,013.25</td>\n",
       "      <td>621,000.0</td>\n",
       "    </tr>\n",
       "    <tr>\n",
       "      <th>PAY_AMT5</th>\n",
       "      <td>30,000.0</td>\n",
       "      <td>4,799.387633333334</td>\n",
       "      <td>15,278.305679144789</td>\n",
       "      <td>0.0</td>\n",
       "      <td>252.5</td>\n",
       "      <td>1,500.0</td>\n",
       "      <td>4,031.5</td>\n",
       "      <td>426,529.0</td>\n",
       "    </tr>\n",
       "    <tr>\n",
       "      <th>PAY_AMT6</th>\n",
       "      <td>30,000.0</td>\n",
       "      <td>5,215.502566666667</td>\n",
       "      <td>17,777.4657754353</td>\n",
       "      <td>0.0</td>\n",
       "      <td>117.75</td>\n",
       "      <td>1,500.0</td>\n",
       "      <td>4,000.0</td>\n",
       "      <td>528,666.0</td>\n",
       "    </tr>\n",
       "    <tr>\n",
       "      <th>default.payment.next.month</th>\n",
       "      <td>30,000.0</td>\n",
       "      <td>0.2212</td>\n",
       "      <td>0.41506180569093337</td>\n",
       "      <td>0.0</td>\n",
       "      <td>0.0</td>\n",
       "      <td>0.0</td>\n",
       "      <td>0.0</td>\n",
       "      <td>1.0</td>\n",
       "    </tr>\n",
       "  </tbody>\n",
       "</table>\n",
       "</div>"
      ],
      "text/plain": [
       "                              count                 mean                 std  \\\n",
       "LIMIT_BAL                  30,000.0  167,484.32266666667 129,747.66156720239   \n",
       "SEX                        30,000.0   1.6037333333333332 0.48912919609026045   \n",
       "EDUCATION                  30,000.0   1.8531333333333333  0.7903486597207291   \n",
       "MARRIAGE                   30,000.0   1.5518666666666667  0.5219696006132486   \n",
       "AGE                        30,000.0              35.4855   9.217904068090188   \n",
       "PAY_0                      30,000.0              -0.0167  1.1238015279973348   \n",
       "PAY_2                      30,000.0 -0.13376666666666667  1.1971859730345533   \n",
       "PAY_3                      30,000.0              -0.1662  1.1968675684465735   \n",
       "PAY_4                      30,000.0 -0.22066666666666668  1.1691386224023375   \n",
       "PAY_5                      30,000.0              -0.2662  1.1331874060027483   \n",
       "PAY_6                      30,000.0              -0.2911  1.1499876256079027   \n",
       "BILL_AMT1                  30,000.0          51,223.3309  73,635.86057552956   \n",
       "BILL_AMT2                  30,000.0   49,179.07516666667  71,173.76878252835   \n",
       "BILL_AMT3                  30,000.0          47,013.1548  69,349.38742703684   \n",
       "BILL_AMT4                  30,000.0   43,262.94896666666  64,332.85613391631   \n",
       "BILL_AMT5                  30,000.0   40,311.40096666667  60,797.15577026487   \n",
       "BILL_AMT6                  30,000.0          38,871.7604  59,554.10753674573   \n",
       "PAY_AMT1                   30,000.0           5,663.5805 16,563.280354025766   \n",
       "PAY_AMT2                   30,000.0           5,921.1635  23,040.87040205724   \n",
       "PAY_AMT3                   30,000.0           5,225.6815 17,606.961469803104   \n",
       "PAY_AMT4                   30,000.0   4,826.076866666666 15,666.159744032007   \n",
       "PAY_AMT5                   30,000.0   4,799.387633333334 15,278.305679144789   \n",
       "PAY_AMT6                   30,000.0   5,215.502566666667   17,777.4657754353   \n",
       "default.payment.next.month 30,000.0               0.2212 0.41506180569093337   \n",
       "\n",
       "                                  min      25%       50%       75%         max  \n",
       "LIMIT_BAL                    10,000.0 50,000.0 140,000.0 240,000.0 1,000,000.0  \n",
       "SEX                               1.0      1.0       2.0       2.0         2.0  \n",
       "EDUCATION                         0.0      1.0       2.0       2.0         6.0  \n",
       "MARRIAGE                          0.0      1.0       2.0       2.0         3.0  \n",
       "AGE                              21.0     28.0      34.0      41.0        79.0  \n",
       "PAY_0                            -2.0     -1.0       0.0       0.0         8.0  \n",
       "PAY_2                            -2.0     -1.0       0.0       0.0         8.0  \n",
       "PAY_3                            -2.0     -1.0       0.0       0.0         8.0  \n",
       "PAY_4                            -2.0     -1.0       0.0       0.0         8.0  \n",
       "PAY_5                            -2.0     -1.0       0.0       0.0         8.0  \n",
       "PAY_6                            -2.0     -1.0       0.0       0.0         8.0  \n",
       "BILL_AMT1                  -165,580.0 3,558.75  22,381.5  67,091.0   964,511.0  \n",
       "BILL_AMT2                   -69,777.0 2,984.75  21,200.0 64,006.25   983,931.0  \n",
       "BILL_AMT3                  -157,264.0 2,666.25  20,088.5 60,164.75 1,664,089.0  \n",
       "BILL_AMT4                  -170,000.0 2,326.75  19,052.0  54,506.0   891,586.0  \n",
       "BILL_AMT5                   -81,334.0  1,763.0  18,104.5  50,190.5   927,171.0  \n",
       "BILL_AMT6                  -339,603.0  1,256.0  17,071.0 49,198.25   961,664.0  \n",
       "PAY_AMT1                          0.0  1,000.0   2,100.0   5,006.0   873,552.0  \n",
       "PAY_AMT2                          0.0    833.0   2,009.0   5,000.0 1,684,259.0  \n",
       "PAY_AMT3                          0.0    390.0   1,800.0   4,505.0   896,040.0  \n",
       "PAY_AMT4                          0.0    296.0   1,500.0  4,013.25   621,000.0  \n",
       "PAY_AMT5                          0.0    252.5   1,500.0   4,031.5   426,529.0  \n",
       "PAY_AMT6                          0.0   117.75   1,500.0   4,000.0   528,666.0  \n",
       "default.payment.next.month        0.0      0.0       0.0       0.0         1.0  "
      ]
     },
     "execution_count": 11,
     "metadata": {},
     "output_type": "execute_result"
    }
   ],
   "source": [
    "data.describe().transpose()"
   ]
  },
  {
   "cell_type": "markdown",
   "metadata": {},
   "source": [
    "##### Percepciones:\n",
    "\n",
    "Los medios para las columnas de pago aumentan con el tiempo. Es decir, la media de PAY_0 es mayor que la media de PAY_2 es mayor que la media de PAY_3 ... Esto indica que se realizan menos pagos a tiempo con el tiempo. La desviación estándar de ellos también aumenta con el tiempo, lo que indica que la variabilidad de los estados de reembolso está aumentando.\n",
    "Los estados de cuenta promedio aumentan con el tiempo, así como las desviaciones estándar de la factura. Esto significa que los estados de cuenta están aumentando y su variabilidad también está aumentando.\n",
    "La cantidad media de pagos anteriores (las columnas PAY_AMT) aumenta, después de disminuir inicialmente de abril a mayo (PAY_AMT6 a PAY_AMT5).\n",
    "\n",
    "##### Problemas potenciales:\n",
    "\n",
    "Los nombres PAY_0 y default.payment.next.month son problemáticos, PAY_0 porque debería ser PAY_1 y default.payment.next.month porque puede ser más corto\n",
    "No hay valores de 9.0 para las columnas PAY como el manual dice que debería haber. \n",
    "También hay valores de -2 y 0 para todos ellos cuando el manual dice que no debería existir. ¿Quizás todos los valores se cambian por uno?\n",
    "\n",
    "El matrimonio tiene valores de 0, que no deberían ser posibles dada nuestra descripción del conjunto de datos.\n",
    "\n",
    "La educación tiene valores de 0, que no deberían ser posibles dada nuestra descripción del conjunto de datos. Surgen preguntas como\n",
    "¿Podemos tener valores negativos para las columnas BILL_AMT? ¿Esto significa que pagamos por adelantado nuestro crédito?"
   ]
  },
  {
   "cell_type": "markdown",
   "metadata": {},
   "source": [
    "### Solución de problemas (limpieza de datos):"
   ]
  },
  {
   "cell_type": "markdown",
   "metadata": {},
   "source": [
    "#### Problema 1: deshacerse de los nombres de columna incorrectos"
   ]
  },
  {
   "cell_type": "code",
   "execution_count": 12,
   "metadata": {},
   "outputs": [],
   "source": [
    "# Renombrar columnas\n",
    "data.rename(columns={'PAY_0': 'PAY_1', 'default.payment.next.month': 'default'}, inplace=True)"
   ]
  },
  {
   "cell_type": "markdown",
   "metadata": {},
   "source": [
    "#### Problema 2: Reemplazar valores negativos con 0 en las columnas Pay_X"
   ]
  },
  {
   "cell_type": "markdown",
   "metadata": {},
   "source": [
    "Para tratar con valores para las columnas PAY_X, una solución sensata es convertir todos los valores no positivos a 0. La descripción del conjunto de datos dice que un valor de -1 significa \"pagar debidamente\" y los valores positivos representan un retraso en el pago por ese número de meses. Por lo tanto, la conversión de valores -1 y -2 a 0, y tener 0 representa \"pagar debidamente\" es lógico."
   ]
  },
  {
   "cell_type": "code",
   "execution_count": 13,
   "metadata": {},
   "outputs": [],
   "source": [
    "for i in range(1,7):\n",
    "    data.loc[data[\"PAY_\" + str(i)] < 0, \"PAY_\" + str(i)] = 0"
   ]
  },
  {
   "cell_type": "markdown",
   "metadata": {},
   "source": [
    "#### Problema 3: deshacerse de los valores de 0 para casados."
   ]
  },
  {
   "cell_type": "markdown",
   "metadata": {},
   "source": [
    "Un movimiento lógico es agrupar los valores 0 con el valor \"Otros\", codificado como 3, así que eso es lo que haremos:"
   ]
  },
  {
   "cell_type": "code",
   "execution_count": 14,
   "metadata": {},
   "outputs": [],
   "source": [
    "data.loc[data[\"MARRIAGE\"] == 0, 'MARRIAGE'] = 3"
   ]
  },
  {
   "cell_type": "markdown",
   "metadata": {},
   "source": [
    "El valor \"Otro\" para el Casados puede referirse a divorciados, viudos, separados, etc."
   ]
  },
  {
   "cell_type": "markdown",
   "metadata": {},
   "source": [
    "#### Problema 4: deshacerse de valores 0 para educación."
   ]
  },
  {
   "cell_type": "markdown",
   "metadata": {},
   "source": [
    "Actualmente EDUCACIÓN esta codificado como: (1 = escuela de posgrado, 2 = universidad, 3 = escuela secundaria, 4 = otros, 5 = desconocido, 6 = desconocido)\n",
    "\n",
    "Vemos que 0 ni siquiera está en la descripción del conjunto de datos, y tenemos 2 valores para desconocido. \n",
    "Entonces, un movimiento lógico es convertir los valores 0, 5 y 6 a 4, que es lo que haremos. \"Otro\" puede referirse a la educación menos que secundaria o tal vez a la formación profesional."
   ]
  },
  {
   "cell_type": "code",
   "execution_count": 15,
   "metadata": {},
   "outputs": [],
   "source": [
    "replace = (data[\"EDUCATION\"] == 0) | (data[\"EDUCATION\"] == 5) | (data[\"EDUCATION\"] == 6) \n",
    "data.loc[replace,'EDUCATION'] = 4"
   ]
  },
  {
   "cell_type": "markdown",
   "metadata": {},
   "source": [
    "#### Problema 5: valores negativos en columnas BILL_AMT"
   ]
  },
  {
   "cell_type": "markdown",
   "metadata": {},
   "source": [
    "Es posible que estos valores representen a las personas que eligen pagar por adelantado sus tarjetas, por lo que esto no tiene que ser un error."
   ]
  },
  {
   "cell_type": "markdown",
   "metadata": {},
   "source": [
    "## Plotting"
   ]
  },
  {
   "cell_type": "markdown",
   "metadata": {},
   "source": [
    "En esta sección, trazamos tanto histogramas básicos como relaciones entre columnas."
   ]
  },
  {
   "cell_type": "code",
   "execution_count": 16,
   "metadata": {},
   "outputs": [],
   "source": [
    "%matplotlib inline\n",
    "import seaborn as sns"
   ]
  },
  {
   "cell_type": "code",
   "execution_count": 17,
   "metadata": {},
   "outputs": [
    {
     "data": {
      "text/plain": [
       "(576,)"
      ]
     },
     "execution_count": 17,
     "metadata": {},
     "output_type": "execute_result"
    }
   ],
   "source": [
    "pd.set_option('display.max_rows', 500)\n",
    "c = data.corr()\n",
    "s = c.unstack()\n",
    "so = s.sort_values()\n",
    "so.shape"
   ]
  },
  {
   "cell_type": "markdown",
   "metadata": {},
   "source": [
    "Hay demasiada información para procesar de un vistazo. Entonces debemos mirar cada variable (columna) individualmente.\n",
    "\n",
    "Al observar las variables, haremos algunas cosas. Produciremos estadísticas resumidas, un histograma y un diagrama de caja de los valores de las variables para ver la distribución de los valores de una variable por sí misma; y buscaremos correlaciones entre una variable y otras variables que sean notables. Haremos la distinción arbitraria pero útil de solo examinar las relaciones donde la magnitud de la correlación es mayor que 0.1 o menor que -0.1 (o igual a esos valores).\n",
    "\n",
    "Funciones para ayudarnos a trazar / mostrar información sin tener que repetir el código:"
   ]
  },
  {
   "cell_type": "code",
   "execution_count": 18,
   "metadata": {},
   "outputs": [],
   "source": [
    "def get_info(var, bins=10, rwidth=0.5):\n",
    "    data[var].hist(bins=bins, rwidth=rwidth, density=True)\n",
    "    data[[var]].plot(kind='box')\n",
    "    print(data[var].describe())\n",
    "    \n",
    "def corr_2_cols(Col1, Col2):\n",
    "    res = data.groupby([Col1, Col2]).size().unstack()\n",
    "    res['percentage'] = (res[res.columns[1]]/(res[res.columns[0]] + res[res.columns[1]]))\n",
    "    res['percentage'] = pd.Series([\"{0:.1f}%\".format(val * 100) for val in res['percentage']], index=res.index)\n",
    "    return res\n",
    "\n",
    "def relationship_with_default(column):\n",
    "    res = data.groupby([column, 'default']).size().unstack()\n",
    "    res.rename(columns={0:\"No Default\", 1:\"Default\"}, inplace=True)\n",
    "    res['percentage default'] = (res[res.columns[1]]/(res[res.columns[0]] + res[res.columns[1]]))\n",
    "    res['percentage default'] = pd.Series([\"{0:.1f}%\".format(val * 100) for val in res['percentage default']], index=res.index)\n",
    "    return res\n",
    "\n",
    "def check_significant_correlation(var):\n",
    "    c = data.corr()[var]\n",
    "    so = c.sort_values()\n",
    "    new = so[abs(so) > 0.1]\n",
    "    print(new)"
   ]
  },
  {
   "cell_type": "markdown",
   "metadata": {},
   "source": [
    "### Categorical Variables\n",
    "\n",
    "#### SEX\n",
    "\n",
    "SEX: Gender (1=male, 2=female)"
   ]
  },
  {
   "cell_type": "code",
   "execution_count": 19,
   "metadata": {},
   "outputs": [
    {
     "name": "stdout",
     "output_type": "stream",
     "text": [
      "count              30,000.0\n",
      "mean     1.6037333333333332\n",
      "std     0.48912919609026045\n",
      "min                     1.0\n",
      "25%                     1.0\n",
      "50%                     2.0\n",
      "75%                     2.0\n",
      "max                     2.0\n",
      "Name: SEX, dtype: float64\n"
     ]
    },
    {
     "data": {
      "image/png": "[encoded data removed]",
      "text/plain": [
       "<Figure size 432x288 with 1 Axes>"
      ]
     },
     "metadata": {
      "needs_background": "light"
     },
     "output_type": "display_data"
    },
    {
     "data": {
      "image/png": "[encoded data removed]",
      "text/plain": [
       "<Figure size 432x288 with 1 Axes>"
      ]
     },
     "metadata": {
      "needs_background": "light"
     },
     "output_type": "display_data"
    }
   ],
   "source": [
    "get_info('SEX', bins=[0.5,1.5,2.5],rwidth=0.1)"
   ]
  },
  {
   "cell_type": "markdown",
   "metadata": {},
   "source": [
    "La mayoría de registros en este conjunto de datos corresponde a mujeres (alrededor del 60%)"
   ]
  },
  {
   "cell_type": "code",
   "execution_count": 20,
   "metadata": {},
   "outputs": [
    {
     "name": "stdout",
     "output_type": "stream",
     "text": [
      "SEX   1.0\n",
      "Name: SEX, dtype: float64\n"
     ]
    }
   ],
   "source": [
    "check_significant_correlation('SEX')"
   ]
  },
  {
   "cell_type": "markdown",
   "metadata": {},
   "source": [
    "El sexo no tiene una correlación con ningún otro factor que sea mayor que 0.1 o menor que -0.1. Entonces hay poco que considerar."
   ]
  },
  {
   "cell_type": "code",
   "execution_count": 21,
   "metadata": {},
   "outputs": [
    {
     "data": {
      "text/plain": [
       "-0.03996057770542914"
      ]
     },
     "execution_count": 21,
     "metadata": {},
     "output_type": "execute_result"
    }
   ],
   "source": [
    "data.corr()['SEX']['default']"
   ]
  },
  {
   "cell_type": "code",
   "execution_count": 22,
   "metadata": {},
   "outputs": [
    {
     "data": {
      "text/html": [
       "<div>\n",
       "<style scoped>\n",
       "    .dataframe tbody tr th:only-of-type {\n",
       "        vertical-align: middle;\n",
       "    }\n",
       "\n",
       "    .dataframe tbody tr th {\n",
       "        vertical-align: top;\n",
       "    }\n",
       "\n",
       "    .dataframe thead th {\n",
       "        text-align: right;\n",
       "    }\n",
       "</style>\n",
       "<table border=\"1\" class=\"dataframe\">\n",
       "  <thead>\n",
       "    <tr style=\"text-align: right;\">\n",
       "      <th>default</th>\n",
       "      <th>No Default</th>\n",
       "      <th>Default</th>\n",
       "      <th>percentage default</th>\n",
       "    </tr>\n",
       "    <tr>\n",
       "      <th>SEX</th>\n",
       "      <th></th>\n",
       "      <th></th>\n",
       "      <th></th>\n",
       "    </tr>\n",
       "  </thead>\n",
       "  <tbody>\n",
       "    <tr>\n",
       "      <th>Male</th>\n",
       "      <td>9015</td>\n",
       "      <td>2873</td>\n",
       "      <td>24.2%</td>\n",
       "    </tr>\n",
       "    <tr>\n",
       "      <th>Female</th>\n",
       "      <td>14349</td>\n",
       "      <td>3763</td>\n",
       "      <td>20.8%</td>\n",
       "    </tr>\n",
       "  </tbody>\n",
       "</table>\n",
       "</div>"
      ],
      "text/plain": [
       "default  No Default  Default percentage default\n",
       "SEX                                            \n",
       "Male           9015     2873              24.2%\n",
       "Female        14349     3763              20.8%"
      ]
     },
     "execution_count": 22,
     "metadata": {},
     "output_type": "execute_result"
    }
   ],
   "source": [
    "sex_and_default = relationship_with_default('SEX')\n",
    "sex_and_default.rename(index = {1:\"Male\", 2:\"Female\"}, inplace=True)\n",
    "sex_and_default"
   ]
  },
  {
   "cell_type": "code",
   "execution_count": 23,
   "metadata": {},
   "outputs": [],
   "source": [
    "def plot_graph(table):\n",
    "    ax = table.plot(kind='bar', stacked=True)\n",
    "    #ax.set_xticklabels(table.xlabels,rotation=0)\n",
    "    plt.xticks(rotation='horizontal')\n",
    "    ax.legend([\"No Default\", \"Default\"])\n",
    "    plt.ylabel('Counts')\n",
    "    plt.show()"
   ]
  },
  {
   "cell_type": "code",
   "execution_count": 24,
   "metadata": {},
   "outputs": [
    {
     "data": {
      "image/png": "[encoded data removed]",
      "text/plain": [
       "<Figure size 432x288 with 1 Axes>"
      ]
     },
     "metadata": {
      "needs_background": "light"
     },
     "output_type": "display_data"
    }
   ],
   "source": [
    "plot_graph(sex_and_default)"
   ]
  },
  {
   "cell_type": "markdown",
   "metadata": {},
   "source": [
    "Es curioso parece ser que el sexo se correlaciona significativamente con nada (aparte de sí mismo). El sexo está débilmente correlacionado con el valor default, lo que significa que los valores más altos (es decir, femenino) tienen una ligera correlación con los valores más bajos de incumplimiento (es decir, sin valor default). Como podemos ver al hacer una tabla del sexo versus el incumplimiento, los hombres tienen una probabilidad ligeramente mayor del 3% de incumplimiento."
   ]
  },
  {
   "cell_type": "markdown",
   "metadata": {},
   "source": [
    "#### Educación"
   ]
  },
  {
   "cell_type": "markdown",
   "metadata": {},
   "source": [
    "EDUCATION: (1=graduate school, 2=university, 3=high school, 4=others, 5=unknown, 6=unknown)"
   ]
  },
  {
   "cell_type": "code",
   "execution_count": 25,
   "metadata": {},
   "outputs": [
    {
     "name": "stdout",
     "output_type": "stream",
     "text": [
      "count             30,000.0\n",
      "mean    1.8422666666666667\n",
      "std     0.7444944624524593\n",
      "min                    1.0\n",
      "25%                    1.0\n",
      "50%                    2.0\n",
      "75%                    2.0\n",
      "max                    4.0\n",
      "Name: EDUCATION, dtype: float64\n"
     ]
    },
    {
     "data": {
      "image/png": "[encoded data removed]",
      "text/plain": [
       "<Figure size 432x288 with 1 Axes>"
      ]
     },
     "metadata": {
      "needs_background": "light"
     },
     "output_type": "display_data"
    },
    {
     "data": {
      "image/png": "[encoded data removed]",
      "text/plain": [
       "<Figure size 432x288 with 1 Axes>"
      ]
     },
     "metadata": {
      "needs_background": "light"
     },
     "output_type": "display_data"
    }
   ],
   "source": [
    "get_info('EDUCATION', bins=[0.5,1.5,2.5,3.5,4.5], rwidth=0.1)"
   ]
  },
  {
   "cell_type": "markdown",
   "metadata": {},
   "source": [
    "La gran mayoría de las personas en este conjunto de datos tienen Graduate school (1) o University education (2). Podemos ver que aproximadamente el 80% de los valores son 1 o 2, que representan respectivamente Graduate school y University education. Otro 15% o valor 3 tiene un diploma de high school, y el resto tiene menos u otros tipos de educación. "
   ]
  },
  {
   "cell_type": "code",
   "execution_count": 26,
   "metadata": {},
   "outputs": [
    {
     "name": "stdout",
     "output_type": "stream",
     "text": [
      "LIMIT_BAL   -0.23108753519666203\n",
      "MARRIAGE     -0.1367969413360245\n",
      "AGE          0.18243429685768472\n",
      "EDUCATION                    1.0\n",
      "Name: EDUCATION, dtype: float64\n"
     ]
    }
   ],
   "source": [
    "check_significant_correlation('EDUCATION')"
   ]
  },
  {
   "cell_type": "markdown",
   "metadata": {},
   "source": [
    "La educación parece estar correlacionada con algunas otras variables."
   ]
  },
  {
   "cell_type": "markdown",
   "metadata": {},
   "source": [
    "La correlación negativa entre Educación y LIMIT_BAL tiene sentido. Lo que nos muestra es que con menos educación, esperaríamos que LIMIT_BAL sea menor (es decir, que la cantidad de crédito otorgado sea menor). Dado que la educación generalmente implica tomar crédito para pagarlo, tiene sentido que la educación esté correlacionada con un crédito más alto, especialmente porque la educación es algo por lo que las entidades financireras de crédito desean extender el crédito."
   ]
  },
  {
   "cell_type": "markdown",
   "metadata": {},
   "source": [
    "La segunda correlación nos muestra que la educación se correlaciona negativamente con el matrimonio, lo que significa, segun la codificación de este conjunto de datos, que la educación no se correlaciona con el matrimonio. Esto significa que las personas más educadas deberían tener menos probabilidades de casarse porque a medida que aumentamos nuestros valores educativos (es decir, tenemos menos educación), deberíamos ver menos valores matrimoniales."
   ]
  },
  {
   "cell_type": "markdown",
   "metadata": {},
   "source": [
    "La última correlación nos dice que la educación se correlaciona negativamente con la edad, lo que significa que las personas con más educación en este conjunto de datos tienden a tener edades más jóvenes. Este es un resultado algo curioso, ya que va en contra de la intuición, ya que esperaríamos que las personas con más educación sean mayores, ya que les lleva tiempo obtener esa educación. Esto podría deberse a que a las personas con menos educación les lleva más tiempo obtener una tarjeta de crédito en primer lugar."
   ]
  },
  {
   "cell_type": "markdown",
   "metadata": {},
   "source": [
    "Ahora revisamos la relación entre Educación y algunas otras variables de manera informal.\n",
    "\n",
    "#### Education y Default"
   ]
  },
  {
   "cell_type": "code",
   "execution_count": 27,
   "metadata": {},
   "outputs": [
    {
     "data": {
      "text/html": [
       "<div>\n",
       "<style scoped>\n",
       "    .dataframe tbody tr th:only-of-type {\n",
       "        vertical-align: middle;\n",
       "    }\n",
       "\n",
       "    .dataframe tbody tr th {\n",
       "        vertical-align: top;\n",
       "    }\n",
       "\n",
       "    .dataframe thead th {\n",
       "        text-align: right;\n",
       "    }\n",
       "</style>\n",
       "<table border=\"1\" class=\"dataframe\">\n",
       "  <thead>\n",
       "    <tr style=\"text-align: right;\">\n",
       "      <th>default</th>\n",
       "      <th>No Default</th>\n",
       "      <th>Default</th>\n",
       "      <th>percentage default</th>\n",
       "    </tr>\n",
       "    <tr>\n",
       "      <th>EDUCATION</th>\n",
       "      <th></th>\n",
       "      <th></th>\n",
       "      <th></th>\n",
       "    </tr>\n",
       "  </thead>\n",
       "  <tbody>\n",
       "    <tr>\n",
       "      <th>Grad School</th>\n",
       "      <td>8549</td>\n",
       "      <td>2036</td>\n",
       "      <td>19.2%</td>\n",
       "    </tr>\n",
       "    <tr>\n",
       "      <th>University</th>\n",
       "      <td>10700</td>\n",
       "      <td>3330</td>\n",
       "      <td>23.7%</td>\n",
       "    </tr>\n",
       "    <tr>\n",
       "      <th>High School</th>\n",
       "      <td>3680</td>\n",
       "      <td>1237</td>\n",
       "      <td>25.2%</td>\n",
       "    </tr>\n",
       "    <tr>\n",
       "      <th>Other</th>\n",
       "      <td>435</td>\n",
       "      <td>33</td>\n",
       "      <td>7.1%</td>\n",
       "    </tr>\n",
       "  </tbody>\n",
       "</table>\n",
       "</div>"
      ],
      "text/plain": [
       "default      No Default  Default percentage default\n",
       "EDUCATION                                          \n",
       "Grad School        8549     2036              19.2%\n",
       "University        10700     3330              23.7%\n",
       "High School        3680     1237              25.2%\n",
       "Other               435       33               7.1%"
      ]
     },
     "execution_count": 27,
     "metadata": {},
     "output_type": "execute_result"
    }
   ],
   "source": [
    "education_and_default = relationship_with_default('EDUCATION')\n",
    "education_and_default.rename(index = {1:\"Grad School\", 2:\"University\", 3:\"High School\", 4:\"Other\"}, inplace=True)\n",
    "education_and_default"
   ]
  },
  {
   "cell_type": "code",
   "execution_count": 28,
   "metadata": {},
   "outputs": [
    {
     "data": {
      "image/png": "[encoded data removed]",
      "text/plain": [
       "<Figure size 432x288 with 1 Axes>"
      ]
     },
     "metadata": {
      "needs_background": "light"
     },
     "output_type": "display_data"
    }
   ],
   "source": [
    "plot_graph(education_and_default)"
   ]
  },
  {
   "cell_type": "markdown",
   "metadata": {},
   "source": [
    "Más educación (valor decreciente) tiende a dar como resultado un porcentaje decreciente de incumplimientos, con la excepción de caer en \"Otro\". Quizás la caracterisitica \"Otro\" es lo que hace que la correlación sea pequeña."
   ]
  },
  {
   "cell_type": "markdown",
   "metadata": {},
   "source": [
    "#### Education y Credit (LIMIT_BAL)"
   ]
  },
  {
   "cell_type": "code",
   "execution_count": 29,
   "metadata": {},
   "outputs": [
    {
     "data": {
      "text/html": [
       "<div>\n",
       "<style scoped>\n",
       "    .dataframe tbody tr th:only-of-type {\n",
       "        vertical-align: middle;\n",
       "    }\n",
       "\n",
       "    .dataframe tbody tr th {\n",
       "        vertical-align: top;\n",
       "    }\n",
       "\n",
       "    .dataframe thead tr th {\n",
       "        text-align: left;\n",
       "    }\n",
       "\n",
       "    .dataframe thead tr:last-of-type th {\n",
       "        text-align: right;\n",
       "    }\n",
       "</style>\n",
       "<table border=\"1\" class=\"dataframe\">\n",
       "  <thead>\n",
       "    <tr>\n",
       "      <th></th>\n",
       "      <th colspan=\"2\" halign=\"left\">LIMIT_BAL</th>\n",
       "    </tr>\n",
       "    <tr>\n",
       "      <th></th>\n",
       "      <th>mean</th>\n",
       "      <th>std</th>\n",
       "    </tr>\n",
       "    <tr>\n",
       "      <th>EDUCATION</th>\n",
       "      <th></th>\n",
       "      <th></th>\n",
       "    </tr>\n",
       "  </thead>\n",
       "  <tbody>\n",
       "    <tr>\n",
       "      <th>1</th>\n",
       "      <td>212,956.0</td>\n",
       "      <td>135,475.0</td>\n",
       "    </tr>\n",
       "    <tr>\n",
       "      <th>2</th>\n",
       "      <td>147,062.0</td>\n",
       "      <td>120,672.0</td>\n",
       "    </tr>\n",
       "    <tr>\n",
       "      <th>3</th>\n",
       "      <td>126,550.0</td>\n",
       "      <td>113,979.0</td>\n",
       "    </tr>\n",
       "    <tr>\n",
       "      <th>4</th>\n",
       "      <td>181,316.0</td>\n",
       "      <td>118,386.0</td>\n",
       "    </tr>\n",
       "  </tbody>\n",
       "</table>\n",
       "</div>"
      ],
      "text/plain": [
       "          LIMIT_BAL          \n",
       "               mean       std\n",
       "EDUCATION                    \n",
       "1         212,956.0 135,475.0\n",
       "2         147,062.0 120,672.0\n",
       "3         126,550.0 113,979.0\n",
       "4         181,316.0 118,386.0"
      ]
     },
     "execution_count": 29,
     "metadata": {},
     "output_type": "execute_result"
    }
   ],
   "source": [
    "var = data[['EDUCATION', 'LIMIT_BAL']].groupby('EDUCATION').agg({'mean', 'std'})\n",
    "var.round(0)"
   ]
  },
  {
   "cell_type": "code",
   "execution_count": 30,
   "metadata": {},
   "outputs": [
    {
     "data": {
      "text/plain": [
       "<seaborn.axisgrid.FacetGrid at 0x231ef04a070>"
      ]
     },
     "execution_count": 30,
     "metadata": {},
     "output_type": "execute_result"
    },
    {
     "data": {
      "image/png": "[encoded data removed]",
      "text/plain": [
       "<Figure size 283.25x216 with 1 Axes>"
      ]
     },
     "metadata": {
      "needs_background": "light"
     },
     "output_type": "display_data"
    }
   ],
   "source": [
    "g = sns.FacetGrid(data, hue='EDUCATION')\n",
    "g = g.map(plt.hist, 'LIMIT_BAL', alpha=0.2).set_axis_labels('LIMIT_BAL','Count')\n",
    "g.add_legend()"
   ]
  },
  {
   "cell_type": "markdown",
   "metadata": {},
   "source": [
    "Más educación parece dar como resultado que se extienda más crédito, como era de esperar. De hecho, vemos en las estadísticas resumidas que tener un valor educativo de 1, es decir, \"Graduate school\" y tener la mayor educación, está asociado con la mayor media de crédito extendido, así como con la mayor variabilidad."
   ]
  },
  {
   "cell_type": "markdown",
   "metadata": {},
   "source": [
    "#### Eduation y Marriage"
   ]
  },
  {
   "cell_type": "code",
   "execution_count": 32,
   "metadata": {},
   "outputs": [
    {
     "data": {
      "image/png": "[encoded data removed]",
      "text/plain": [
       "<Figure size 432x288 with 1 Axes>"
      ]
     },
     "metadata": {
      "needs_background": "light"
     },
     "output_type": "display_data"
    }
   ],
   "source": [
    "EM = data.groupby(['EDUCATION', 'MARRIAGE']).size().unstack(['MARRIAGE'])\n",
    "EM = EM/len(data)\n",
    "ax = EM.plot(kind='bar', stacked=True)\n",
    "ax.set_xticklabels(['Graduate School', 'University', 'High School', 'Other'], rotation=0)\n",
    "ax.legend([\"Married\", \"Single\", \"Other\"])\n",
    "plt.ylabel(\"Percentage of population\")\n",
    "plt.show()"
   ]
  },
  {
   "cell_type": "code",
   "execution_count": 33,
   "metadata": {},
   "outputs": [
    {
     "data": {
      "text/html": [
       "<div>\n",
       "<style scoped>\n",
       "    .dataframe tbody tr th:only-of-type {\n",
       "        vertical-align: middle;\n",
       "    }\n",
       "\n",
       "    .dataframe tbody tr th {\n",
       "        vertical-align: top;\n",
       "    }\n",
       "\n",
       "    .dataframe thead th {\n",
       "        text-align: right;\n",
       "    }\n",
       "</style>\n",
       "<table border=\"1\" class=\"dataframe\">\n",
       "  <thead>\n",
       "    <tr style=\"text-align: right;\">\n",
       "      <th>MARRIAGE</th>\n",
       "      <th>Married</th>\n",
       "      <th>Single</th>\n",
       "      <th>Other</th>\n",
       "      <th>Total</th>\n",
       "    </tr>\n",
       "    <tr>\n",
       "      <th>EDUCATION</th>\n",
       "      <th></th>\n",
       "      <th></th>\n",
       "      <th></th>\n",
       "      <th></th>\n",
       "    </tr>\n",
       "  </thead>\n",
       "  <tbody>\n",
       "    <tr>\n",
       "      <th>Graduate School</th>\n",
       "      <td>35.2%</td>\n",
       "      <td>64.3%</td>\n",
       "      <td>0.5%</td>\n",
       "      <td>100.0%</td>\n",
       "    </tr>\n",
       "    <tr>\n",
       "      <th>University</th>\n",
       "      <td>48.8%</td>\n",
       "      <td>50.0%</td>\n",
       "      <td>1.2%</td>\n",
       "      <td>100.0%</td>\n",
       "    </tr>\n",
       "    <tr>\n",
       "      <th>High School</th>\n",
       "      <td>58.2%</td>\n",
       "      <td>38.8%</td>\n",
       "      <td>3.0%</td>\n",
       "      <td>100.0%</td>\n",
       "    </tr>\n",
       "    <tr>\n",
       "      <th>Other</th>\n",
       "      <td>50.0%</td>\n",
       "      <td>48.3%</td>\n",
       "      <td>1.7%</td>\n",
       "      <td>100.0%</td>\n",
       "    </tr>\n",
       "  </tbody>\n",
       "</table>\n",
       "</div>"
      ],
      "text/plain": [
       "MARRIAGE        Married Single Other   Total\n",
       "EDUCATION                                   \n",
       "Graduate School   35.2%  64.3%  0.5%  100.0%\n",
       "University        48.8%  50.0%  1.2%  100.0%\n",
       "High School       58.2%  38.8%  3.0%  100.0%\n",
       "Other             50.0%  48.3%  1.7%  100.0%"
      ]
     },
     "execution_count": 33,
     "metadata": {},
     "output_type": "execute_result"
    }
   ],
   "source": [
    "EM = data.groupby(['EDUCATION', 'MARRIAGE']).size().unstack(['MARRIAGE'])\n",
    "EM['total'] = EM[1] + EM[2] + EM[3] \n",
    "EM = EM.loc[:, [1,2,3]].div(EM[\"total\"], axis=0)\n",
    "EM['Total'] = EM[1] + EM[2] + EM[3] \n",
    "EM.rename(columns={1:\"Married\", 2:\"Single\", 3:\"Other\"}, inplace=True)\n",
    "EM.rename(index = {1:\"Graduate School\", 2:\"University\", 3:\"High School\", 4:\"Other\"}, inplace=True)\n",
    "#gender['Percentage Default'] = pd.Series([\"{0:.1f}%\".format(val * 100) for val in gender['Percentage Default']], index=gender.index)\n",
    "EM = (EM * 100).round(1)\n",
    "for column in EM.columns:\n",
    "    EM[column] = pd.Series([\"{0:.1f}%\".format(val) for val in EM[column]], index=EM.index)\n",
    "EM"
   ]
  },
  {
   "cell_type": "markdown",
   "metadata": {},
   "source": [
    "Cómo podemos ver en el cuadro, más educación, se asocia con tarifas más bajas de matrimonio"
   ]
  },
  {
   "cell_type": "markdown",
   "metadata": {},
   "source": [
    "#### Education y Age"
   ]
  },
  {
   "cell_type": "code",
   "execution_count": 37,
   "metadata": {},
   "outputs": [
    {
     "data": {
      "image/png": "[encoded data removed]",
      "text/plain": [
       "<Figure size 1205.36x288 with 4 Axes>"
      ]
     },
     "metadata": {
      "needs_background": "light"
     },
     "output_type": "display_data"
    }
   ],
   "source": [
    "# Reemplazar valores para un mejor etiquetado\n",
    "replace = (data[\"EDUCATION\"] == 1) \n",
    "data.loc[replace,'EDUCATION'] = \"Graduate School\"\n",
    "replace = (data[\"EDUCATION\"] == 2) \n",
    "data.loc[replace,'EDUCATION'] = \"University\"\n",
    "replace = (data[\"EDUCATION\"] == 3) \n",
    "data.loc[replace,'EDUCATION'] = \"High School\"\n",
    "replace = (data[\"EDUCATION\"] == 4) \n",
    "data.loc[replace,'EDUCATION'] = \"Other\"\n",
    "\n",
    "# Reemplace los números con cadenas con el fin de mejorar el etiquetado en los gráficos\n",
    "replace = (data[\"default\"] == 0) \n",
    "data.loc[replace,'default'] = \"No\"\n",
    "replace = (data[\"default\"] == 1) \n",
    "data.loc[replace,'default'] = \"Yes\"\n",
    "\n",
    "\n",
    "g = sns.FacetGrid(data, col='EDUCATION', hue='default',height=4, aspect=1, hue_order=[\"No\", \"Yes\"], sharey=False)\n",
    "g = g.map(plt.hist, 'AGE', alpha=0.5).set_axis_labels('AGE','Count').set_titles((\"{col_name}\"))\n",
    "g.add_legend()\n",
    "g.savefig('Education_and_Age')\n",
    "\n",
    "# Regresar para propósitos de correlación\n",
    "replace = (data[\"EDUCATION\"] == \"Graduate School\") \n",
    "data.loc[replace,'EDUCATION'] = 1\n",
    "replace = (data[\"EDUCATION\"] == \"University\") \n",
    "data.loc[replace,'EDUCATION'] = 2\n",
    "replace = (data[\"EDUCATION\"] == \"High School\") \n",
    "data.loc[replace,'EDUCATION'] = 3\n",
    "replace = (data[\"EDUCATION\"] == \"Other\") \n",
    "data.loc[replace,'EDUCATION'] = 4\n",
    "\n",
    "replace = (data[\"default\"] == \"No\") \n",
    "data.loc[replace,'default'] = 0\n",
    "replace = (data[\"default\"] == \"Yes\") \n",
    "data.loc[replace,'default'] = 1"
   ]
  },
  {
   "cell_type": "code",
   "execution_count": 38,
   "metadata": {},
   "outputs": [
    {
     "data": {
      "text/html": [
       "<div>\n",
       "<style scoped>\n",
       "    .dataframe tbody tr th:only-of-type {\n",
       "        vertical-align: middle;\n",
       "    }\n",
       "\n",
       "    .dataframe tbody tr th {\n",
       "        vertical-align: top;\n",
       "    }\n",
       "\n",
       "    .dataframe thead tr th {\n",
       "        text-align: left;\n",
       "    }\n",
       "\n",
       "    .dataframe thead tr:last-of-type th {\n",
       "        text-align: right;\n",
       "    }\n",
       "</style>\n",
       "<table border=\"1\" class=\"dataframe\">\n",
       "  <thead>\n",
       "    <tr>\n",
       "      <th></th>\n",
       "      <th colspan=\"2\" halign=\"left\">AGE</th>\n",
       "    </tr>\n",
       "    <tr>\n",
       "      <th></th>\n",
       "      <th>mean</th>\n",
       "      <th>std</th>\n",
       "    </tr>\n",
       "    <tr>\n",
       "      <th>EDUCATION</th>\n",
       "      <th></th>\n",
       "      <th></th>\n",
       "    </tr>\n",
       "  </thead>\n",
       "  <tbody>\n",
       "    <tr>\n",
       "      <th>Graduate School</th>\n",
       "      <td>34.2</td>\n",
       "      <td>8.3</td>\n",
       "    </tr>\n",
       "    <tr>\n",
       "      <th>University</th>\n",
       "      <td>34.7</td>\n",
       "      <td>8.9</td>\n",
       "    </tr>\n",
       "    <tr>\n",
       "      <th>High School</th>\n",
       "      <td>40.3</td>\n",
       "      <td>10.4</td>\n",
       "    </tr>\n",
       "    <tr>\n",
       "      <th>Other</th>\n",
       "      <td>36.1</td>\n",
       "      <td>9.3</td>\n",
       "    </tr>\n",
       "  </tbody>\n",
       "</table>\n",
       "</div>"
      ],
      "text/plain": [
       "                 AGE     \n",
       "                mean  std\n",
       "EDUCATION                \n",
       "Graduate School 34.2  8.3\n",
       "University      34.7  8.9\n",
       "High School     40.3 10.4\n",
       "Other           36.1  9.3"
      ]
     },
     "execution_count": 38,
     "metadata": {},
     "output_type": "execute_result"
    }
   ],
   "source": [
    "var = data[['EDUCATION', 'AGE']].groupby('EDUCATION').agg({'mean', 'std'})\n",
    "var.rename(index = {1:\"Graduate School\", 2:\"University\", 3:\"High School\", 4:\"Other\"}, inplace=True)\n",
    "multi_tuples = [('AGE', 'mean'), ('AGE', 'std')]\n",
    "multi_cols = pd.MultiIndex.from_tuples(multi_tuples)\n",
    "df_ordered_multi_cols = pd.DataFrame(var, columns=multi_cols)\n",
    "df_ordered_multi_cols.round(1)"
   ]
  },
  {
   "cell_type": "code",
   "execution_count": 39,
   "metadata": {},
   "outputs": [
    {
     "data": {
      "text/html": [
       "<div>\n",
       "<style scoped>\n",
       "    .dataframe tbody tr th:only-of-type {\n",
       "        vertical-align: middle;\n",
       "    }\n",
       "\n",
       "    .dataframe tbody tr th {\n",
       "        vertical-align: top;\n",
       "    }\n",
       "\n",
       "    .dataframe thead th {\n",
       "        text-align: right;\n",
       "    }\n",
       "</style>\n",
       "<table border=\"1\" class=\"dataframe\">\n",
       "  <thead>\n",
       "    <tr style=\"text-align: right;\">\n",
       "      <th>default</th>\n",
       "      <th>No Default</th>\n",
       "      <th>Default</th>\n",
       "    </tr>\n",
       "    <tr>\n",
       "      <th>EDUCATION</th>\n",
       "      <th></th>\n",
       "      <th></th>\n",
       "    </tr>\n",
       "  </thead>\n",
       "  <tbody>\n",
       "    <tr>\n",
       "      <th>Graduate School</th>\n",
       "      <td>34.1</td>\n",
       "      <td>34.6</td>\n",
       "    </tr>\n",
       "    <tr>\n",
       "      <th>University</th>\n",
       "      <td>34.7</td>\n",
       "      <td>34.7</td>\n",
       "    </tr>\n",
       "    <tr>\n",
       "      <th>High School</th>\n",
       "      <td>40.3</td>\n",
       "      <td>40.2</td>\n",
       "    </tr>\n",
       "    <tr>\n",
       "      <th>Other</th>\n",
       "      <td>36.0</td>\n",
       "      <td>38.2</td>\n",
       "    </tr>\n",
       "  </tbody>\n",
       "</table>\n",
       "</div>"
      ],
      "text/plain": [
       "default          No Default  Default\n",
       "EDUCATION                           \n",
       "Graduate School        34.1     34.6\n",
       "University             34.7     34.7\n",
       "High School            40.3     40.2\n",
       "Other                  36.0     38.2"
      ]
     },
     "execution_count": 39,
     "metadata": {},
     "output_type": "execute_result"
    }
   ],
   "source": [
    "# Edad promedio por educación y estado predeterminado\n",
    "var = data[['EDUCATION', 'AGE', 'default']]\n",
    "table = pd.pivot_table(var, values='AGE', index='EDUCATION', columns='default', aggfunc=np.mean)\n",
    "table.rename(index = {1:\"Graduate School\", 2:\"University\", 3:\"High School\", 4:\"Other\"},columns={0:\"No Default\", 1:\"Default\"}, inplace=True)\n",
    "table.round(1)"
   ]
  },
  {
   "cell_type": "markdown",
   "metadata": {},
   "source": [
    "Aquí podemos ver una relación entre menos educación versus mas longebidad."
   ]
  },
  {
   "cell_type": "markdown",
   "metadata": {},
   "source": [
    "#### Marriage"
   ]
  },
  {
   "cell_type": "markdown",
   "metadata": {},
   "source": [
    "MARRIAGE: Marital status (1=married, 2=single, 3=others)"
   ]
  },
  {
   "cell_type": "code",
   "execution_count": 43,
   "metadata": {},
   "outputs": [
    {
     "name": "stdout",
     "output_type": "stream",
     "text": [
      "count             30,000.0\n",
      "mean    1.5572666666666666\n",
      "std     0.5214047605456816\n",
      "min                    1.0\n",
      "25%                    1.0\n",
      "50%                    2.0\n",
      "75%                    2.0\n",
      "max                    3.0\n",
      "Name: MARRIAGE, dtype: float64\n"
     ]
    },
    {
     "data": {
      "image/png": "[encoded data removed]",
      "text/plain": [
       "<Figure size 432x288 with 1 Axes>"
      ]
     },
     "metadata": {
      "needs_background": "light"
     },
     "output_type": "display_data"
    },
    {
     "data": {
      "image/png": "[encoded data removed]",
      "text/plain": [
       "<Figure size 432x288 with 1 Axes>"
      ]
     },
     "metadata": {
      "needs_background": "light"
     },
     "output_type": "display_data"
    }
   ],
   "source": [
    "get_info('MARRIAGE', bins=[ 0.5,1.5,2.5,3.5], rwidth=0.5)"
   ]
  },
  {
   "cell_type": "markdown",
   "metadata": {},
   "source": [
    "Un poco más de la mitad de los registros correponde a solteros (2), alrededor del 45% están casados (1) y el resto son otros, codificados como 3 (divorciados, viudos, etc.)"
   ]
  },
  {
   "cell_type": "code",
   "execution_count": 45,
   "metadata": {},
   "outputs": [
    {
     "name": "stdout",
     "output_type": "stream",
     "text": [
      "AGE          -0.4120014367553708\n",
      "LIMIT_BAL   -0.11101219257995855\n",
      "MARRIAGE                     1.0\n",
      "Name: MARRIAGE, dtype: float64\n"
     ]
    }
   ],
   "source": [
    "check_significant_correlation('MARRIAGE')"
   ]
  },
  {
   "cell_type": "markdown",
   "metadata": {},
   "source": [
    "Ya hemos examinado la correlación entre educación y matrimonio, por lo que no la retomaremos."
   ]
  },
  {
   "cell_type": "markdown",
   "metadata": {},
   "source": [
    "La correlación negativa entre matrimonio y edad significa que a medida que aumenta la edad, el matrimonio tiende a disminuir. En el contexto de nuestro conjunto de datos, donde un valor de 1 para Matrimonio significa 'casado', un 2 significa 'soltero' y un 3 significa 'otro', esto tiene sentido. Es decir que a medida que aumenta la edad, es menos probable que veamos valores para 'soltero' y 'otro', y es más probable que veamos valores para 'casado'. Es decir, las personas mayores tienen más probabilidades de casarse. Si bien es cierto que es probable que la edad tenga una correlación negativa con la soltería, como es el caso de nuestro conjunto de datos, debe correlacionarse con otros valores, como 'divorciado(a)' o 'viudo(a)'. Sin embargo, dado que nuestro conjunto de datos incluye muchos más sencillos que otros, tiene sentido que la correlación negativa con la soltería empequeñezca la correlación positiva con \"otherhood\"."
   ]
  },
  {
   "cell_type": "markdown",
   "metadata": {},
   "source": [
    "La otra correlación a examinar es la correlación negativa entre el matrimonio y el monto del crédito otorgado (\"LIMIT_BAL\"). Esta correlación está en desacuerdo con nuestras intuiciones porque podríamos pensar que estar casado se traduce en una mejor administración de las finanzas y menos crédito asumido. Sin embargo, también tiene sentido que el matrimonio venga con una gran cantidad de gastos financieros, como el costo de una boda, casa, automóvil, educación de los niños, etc. Por lo tanto, esta correlación tiene sentido."
   ]
  },
  {
   "cell_type": "markdown",
   "metadata": {},
   "source": [
    "¿Qué pasa con la relación entre matrimonio y incumplimiento?"
   ]
  },
  {
   "cell_type": "code",
   "execution_count": 48,
   "metadata": {},
   "outputs": [
    {
     "data": {
      "text/html": [
       "<div>\n",
       "<style scoped>\n",
       "    .dataframe tbody tr th:only-of-type {\n",
       "        vertical-align: middle;\n",
       "    }\n",
       "\n",
       "    .dataframe tbody tr th {\n",
       "        vertical-align: top;\n",
       "    }\n",
       "\n",
       "    .dataframe thead th {\n",
       "        text-align: right;\n",
       "    }\n",
       "</style>\n",
       "<table border=\"1\" class=\"dataframe\">\n",
       "  <thead>\n",
       "    <tr style=\"text-align: right;\">\n",
       "      <th>default</th>\n",
       "      <th>No Default</th>\n",
       "      <th>Default</th>\n",
       "      <th>percentage default</th>\n",
       "    </tr>\n",
       "    <tr>\n",
       "      <th>MARRIAGE</th>\n",
       "      <th></th>\n",
       "      <th></th>\n",
       "      <th></th>\n",
       "    </tr>\n",
       "  </thead>\n",
       "  <tbody>\n",
       "    <tr>\n",
       "      <th>Married</th>\n",
       "      <td>10453</td>\n",
       "      <td>3206</td>\n",
       "      <td>23.5%</td>\n",
       "    </tr>\n",
       "    <tr>\n",
       "      <th>Single</th>\n",
       "      <td>12623</td>\n",
       "      <td>3341</td>\n",
       "      <td>20.9%</td>\n",
       "    </tr>\n",
       "    <tr>\n",
       "      <th>Other</th>\n",
       "      <td>288</td>\n",
       "      <td>89</td>\n",
       "      <td>23.6%</td>\n",
       "    </tr>\n",
       "  </tbody>\n",
       "</table>\n",
       "</div>"
      ],
      "text/plain": [
       "default   No Default  Default percentage default\n",
       "MARRIAGE                                        \n",
       "Married        10453     3206              23.5%\n",
       "Single         12623     3341              20.9%\n",
       "Other            288       89              23.6%"
      ]
     },
     "execution_count": 48,
     "metadata": {},
     "output_type": "execute_result"
    }
   ],
   "source": [
    "marriage_and_default = relationship_with_default('MARRIAGE')\n",
    "marriage_and_default.rename(index = {1:\"Married\", 2:\"Single\", 3:\"Other\"}, inplace=True)\n",
    "marriage_and_default"
   ]
  },
  {
   "cell_type": "markdown",
   "metadata": {},
   "source": [
    "Las personas casadas tienen más probabilidades de incumplimiento que los solteros, pero la diferencia no es tan grande. Además, 'Otros' tienen más probabilidades de incumplimiento que los matrimonios, lo que debilita la correlación."
   ]
  },
  {
   "cell_type": "markdown",
   "metadata": {},
   "source": [
    "#### Marriage y Age"
   ]
  },
  {
   "cell_type": "code",
   "execution_count": 49,
   "metadata": {},
   "outputs": [
    {
     "data": {
      "text/html": [
       "<div>\n",
       "<style scoped>\n",
       "    .dataframe tbody tr th:only-of-type {\n",
       "        vertical-align: middle;\n",
       "    }\n",
       "\n",
       "    .dataframe tbody tr th {\n",
       "        vertical-align: top;\n",
       "    }\n",
       "\n",
       "    .dataframe thead tr th {\n",
       "        text-align: left;\n",
       "    }\n",
       "\n",
       "    .dataframe thead tr:last-of-type th {\n",
       "        text-align: right;\n",
       "    }\n",
       "</style>\n",
       "<table border=\"1\" class=\"dataframe\">\n",
       "  <thead>\n",
       "    <tr>\n",
       "      <th></th>\n",
       "      <th colspan=\"2\" halign=\"left\">AGE</th>\n",
       "    </tr>\n",
       "    <tr>\n",
       "      <th></th>\n",
       "      <th>mean</th>\n",
       "      <th>std</th>\n",
       "    </tr>\n",
       "    <tr>\n",
       "      <th>MARRIAGE</th>\n",
       "      <th></th>\n",
       "      <th></th>\n",
       "    </tr>\n",
       "  </thead>\n",
       "  <tbody>\n",
       "    <tr>\n",
       "      <th>Married</th>\n",
       "      <td>40.0</td>\n",
       "      <td>8.7</td>\n",
       "    </tr>\n",
       "    <tr>\n",
       "      <th>Single</th>\n",
       "      <td>31.5</td>\n",
       "      <td>7.6</td>\n",
       "    </tr>\n",
       "    <tr>\n",
       "      <th>Other</th>\n",
       "      <td>42.1</td>\n",
       "      <td>9.5</td>\n",
       "    </tr>\n",
       "  </tbody>\n",
       "</table>\n",
       "</div>"
      ],
      "text/plain": [
       "          AGE    \n",
       "         mean std\n",
       "MARRIAGE         \n",
       "Married  40.0 8.7\n",
       "Single   31.5 7.6\n",
       "Other    42.1 9.5"
      ]
     },
     "execution_count": 49,
     "metadata": {},
     "output_type": "execute_result"
    }
   ],
   "source": [
    "var = data[['MARRIAGE', 'AGE']].groupby('MARRIAGE').agg({'mean', 'std'})\n",
    "var.rename(index = {1:\"Married\", 2:\"Single\", 3:\"Other\"}, inplace=True)\n",
    "var.round(1)"
   ]
  },
  {
   "cell_type": "code",
   "execution_count": 50,
   "metadata": {},
   "outputs": [
    {
     "data": {
      "image/png": "[encoded data removed]",
      "text/plain": [
       "<Figure size 917.359x288 with 3 Axes>"
      ]
     },
     "metadata": {
      "needs_background": "light"
     },
     "output_type": "display_data"
    }
   ],
   "source": [
    "# Reemplazar valores para un mejor etiquetado\n",
    "replace = (data[\"MARRIAGE\"] == 1) \n",
    "data.loc[replace,'MARRIAGE'] = \"Married\"\n",
    "replace = (data[\"MARRIAGE\"] == 2) \n",
    "data.loc[replace,'MARRIAGE'] = \"Single\"\n",
    "replace = (data[\"MARRIAGE\"] == 3) \n",
    "data.loc[replace,'MARRIAGE'] = \"Other\"\n",
    "\n",
    "\n",
    "# Reemplace los números con cadenas con el fin de mejorar el etiquetado en los gráficos\n",
    "replace = (data[\"default\"] == 0) \n",
    "data.loc[replace,'default'] = \"No\"\n",
    "replace = (data[\"default\"] == 1) \n",
    "data.loc[replace,'default'] = \"Yes\"\n",
    "\n",
    "\n",
    "g = sns.FacetGrid(data, col='MARRIAGE', hue='default',height=4, aspect=1, hue_order=[\"No\", \"Yes\"], sharey=False)\n",
    "g = g.map(plt.hist, 'AGE', alpha=0.5).set_axis_labels('AGE','Count').set_titles((\"{col_name}\"))\n",
    "g.add_legend()\n",
    "g.savefig('Marriage_and_Age')\n",
    "\n",
    "# Regresar para propósitos de correlación\n",
    "replace = (data[\"MARRIAGE\"] == \"Married\") \n",
    "data.loc[replace,'MARRIAGE'] = 1\n",
    "replace = (data[\"MARRIAGE\"] == \"Single\") \n",
    "data.loc[replace,'MARRIAGE'] = 2\n",
    "replace = (data[\"MARRIAGE\"] == \"Other\") \n",
    "data.loc[replace,'MARRIAGE'] = 3\n",
    "\n",
    "\n",
    "replace = (data[\"default\"] == \"No\") \n",
    "data.loc[replace,'default'] = 0\n",
    "replace = (data[\"default\"] == \"Yes\") \n",
    "data.loc[replace,'default'] = 1"
   ]
  },
  {
   "cell_type": "markdown",
   "metadata": {},
   "source": [
    "Las estadísticas y la trama muestran que las personas casadas tienden a ser mayores que los solteros."
   ]
  },
  {
   "cell_type": "markdown",
   "metadata": {},
   "source": [
    "\n",
    "#### Marriage y Credit (LIMIT_BAL)"
   ]
  },
  {
   "cell_type": "code",
   "execution_count": 52,
   "metadata": {},
   "outputs": [
    {
     "data": {
      "text/html": [
       "<div>\n",
       "<style scoped>\n",
       "    .dataframe tbody tr th:only-of-type {\n",
       "        vertical-align: middle;\n",
       "    }\n",
       "\n",
       "    .dataframe tbody tr th {\n",
       "        vertical-align: top;\n",
       "    }\n",
       "\n",
       "    .dataframe thead tr th {\n",
       "        text-align: left;\n",
       "    }\n",
       "\n",
       "    .dataframe thead tr:last-of-type th {\n",
       "        text-align: right;\n",
       "    }\n",
       "</style>\n",
       "<table border=\"1\" class=\"dataframe\">\n",
       "  <thead>\n",
       "    <tr>\n",
       "      <th></th>\n",
       "      <th colspan=\"2\" halign=\"left\">LIMIT_BAL</th>\n",
       "    </tr>\n",
       "    <tr>\n",
       "      <th></th>\n",
       "      <th>mean</th>\n",
       "      <th>std</th>\n",
       "    </tr>\n",
       "    <tr>\n",
       "      <th>MARRIAGE</th>\n",
       "      <th></th>\n",
       "      <th></th>\n",
       "    </tr>\n",
       "  </thead>\n",
       "  <tbody>\n",
       "    <tr>\n",
       "      <th>Married</th>\n",
       "      <td>182,201.0</td>\n",
       "      <td>133,382.0</td>\n",
       "    </tr>\n",
       "    <tr>\n",
       "      <th>Single</th>\n",
       "      <td>156,414.0</td>\n",
       "      <td>125,673.0</td>\n",
       "    </tr>\n",
       "    <tr>\n",
       "      <th>Other</th>\n",
       "      <td>103,077.0</td>\n",
       "      <td>95,573.0</td>\n",
       "    </tr>\n",
       "  </tbody>\n",
       "</table>\n",
       "</div>"
      ],
      "text/plain": [
       "         LIMIT_BAL          \n",
       "              mean       std\n",
       "MARRIAGE                    \n",
       "Married  182,201.0 133,382.0\n",
       "Single   156,414.0 125,673.0\n",
       "Other    103,077.0  95,573.0"
      ]
     },
     "execution_count": 52,
     "metadata": {},
     "output_type": "execute_result"
    }
   ],
   "source": [
    "var = data[['MARRIAGE', 'LIMIT_BAL']].groupby('MARRIAGE').agg({'mean', 'std'})\n",
    "var.rename(index = {1:\"Married\", 2:\"Single\", 3:\"Other\"}, inplace=True)\n",
    "var.round(0)"
   ]
  },
  {
   "cell_type": "markdown",
   "metadata": {},
   "source": [
    "Las personas casadas tienen más crédito en promedio y una mayor variabilidad en el crédito."
   ]
  },
  {
   "cell_type": "markdown",
   "metadata": {},
   "source": [
    "### Variables Númerica"
   ]
  },
  {
   "cell_type": "markdown",
   "metadata": {},
   "source": [
    "#### Age"
   ]
  },
  {
   "cell_type": "markdown",
   "metadata": {},
   "source": [
    "AGE: Age in years"
   ]
  },
  {
   "cell_type": "code",
   "execution_count": 53,
   "metadata": {},
   "outputs": [
    {
     "name": "stdout",
     "output_type": "stream",
     "text": [
      "count            30,000.0\n",
      "mean              35.4855\n",
      "std     9.217904068090188\n",
      "min                  21.0\n",
      "25%                  28.0\n",
      "50%                  34.0\n",
      "75%                  41.0\n",
      "max                  79.0\n",
      "Name: AGE, dtype: float64\n"
     ]
    },
    {
     "data": {
      "image/png": "[encoded data removed]",
      "text/plain": [
       "<Figure size 432x288 with 1 Axes>"
      ]
     },
     "metadata": {
      "needs_background": "light"
     },
     "output_type": "display_data"
    },
    {
     "data": {
      "image/png": "[encoded data removed]",
      "text/plain": [
       "<Figure size 432x288 with 1 Axes>"
      ]
     },
     "metadata": {
      "needs_background": "light"
     },
     "output_type": "display_data"
    }
   ],
   "source": [
    "get_info('AGE')"
   ]
  },
  {
   "cell_type": "markdown",
   "metadata": {},
   "source": [
    "Aquí vemos muchos valores atípicos, es decir, valores que tienen una edad superior a 60.5. También observamos que el 50% de los valores se encuentran entre 28 y 41 y el 75% de los valores se encuentran entre 21 y 41."
   ]
  },
  {
   "cell_type": "code",
   "execution_count": 54,
   "metadata": {},
   "outputs": [
    {
     "name": "stdout",
     "output_type": "stream",
     "text": [
      "LIMIT_BAL   0.14471279755733898\n",
      "AGE                         1.0\n",
      "Name: AGE, dtype: float64\n"
     ]
    }
   ],
   "source": [
    "check_significant_correlation('AGE')"
   ]
  },
  {
   "cell_type": "markdown",
   "metadata": {},
   "source": [
    "Vemos correlaciones significativas entre el matrimonio y la educación, que ya anteriormente exploramos. Por lo tanto, solo necesitamos examinar la correlación con el monto del crédito otorgado (\"LIMIT_BAL\")."
   ]
  },
  {
   "cell_type": "code",
   "execution_count": 55,
   "metadata": {},
   "outputs": [
    {
     "data": {
      "text/html": [
       "<div>\n",
       "<style scoped>\n",
       "    .dataframe tbody tr th:only-of-type {\n",
       "        vertical-align: middle;\n",
       "    }\n",
       "\n",
       "    .dataframe tbody tr th {\n",
       "        vertical-align: top;\n",
       "    }\n",
       "\n",
       "    .dataframe thead tr th {\n",
       "        text-align: left;\n",
       "    }\n",
       "\n",
       "    .dataframe thead tr:last-of-type th {\n",
       "        text-align: right;\n",
       "    }\n",
       "</style>\n",
       "<table border=\"1\" class=\"dataframe\">\n",
       "  <thead>\n",
       "    <tr>\n",
       "      <th></th>\n",
       "      <th colspan=\"2\" halign=\"left\">LIMIT_BAL</th>\n",
       "    </tr>\n",
       "    <tr>\n",
       "      <th></th>\n",
       "      <th>mean</th>\n",
       "      <th>std</th>\n",
       "    </tr>\n",
       "    <tr>\n",
       "      <th>decade</th>\n",
       "      <th></th>\n",
       "      <th></th>\n",
       "    </tr>\n",
       "  </thead>\n",
       "  <tbody>\n",
       "    <tr>\n",
       "      <th>20</th>\n",
       "      <td>124,209.0</td>\n",
       "      <td>105,741.0</td>\n",
       "    </tr>\n",
       "    <tr>\n",
       "      <th>30</th>\n",
       "      <td>197,001.0</td>\n",
       "      <td>131,460.0</td>\n",
       "    </tr>\n",
       "    <tr>\n",
       "      <th>40</th>\n",
       "      <td>180,786.0</td>\n",
       "      <td>136,587.0</td>\n",
       "    </tr>\n",
       "    <tr>\n",
       "      <th>50</th>\n",
       "      <td>163,909.0</td>\n",
       "      <td>141,509.0</td>\n",
       "    </tr>\n",
       "    <tr>\n",
       "      <th>60</th>\n",
       "      <td>185,382.0</td>\n",
       "      <td>142,455.0</td>\n",
       "    </tr>\n",
       "    <tr>\n",
       "      <th>70</th>\n",
       "      <td>218,800.0</td>\n",
       "      <td>123,502.0</td>\n",
       "    </tr>\n",
       "  </tbody>\n",
       "</table>\n",
       "</div>"
      ],
      "text/plain": [
       "       LIMIT_BAL          \n",
       "            mean       std\n",
       "decade                    \n",
       "20     124,209.0 105,741.0\n",
       "30     197,001.0 131,460.0\n",
       "40     180,786.0 136,587.0\n",
       "50     163,909.0 141,509.0\n",
       "60     185,382.0 142,455.0\n",
       "70     218,800.0 123,502.0"
      ]
     },
     "execution_count": 55,
     "metadata": {},
     "output_type": "execute_result"
    }
   ],
   "source": [
    "ALB = data[['AGE', 'LIMIT_BAL']].copy()\n",
    "ALB['decade'] = ALB.AGE.apply(lambda x: str(x)[0] + '0')\n",
    "var = ALB[['decade', 'LIMIT_BAL']].groupby('decade').agg({'mean', 'std'})\n",
    "var.round(0)"
   ]
  },
  {
   "cell_type": "markdown",
   "metadata": {},
   "source": [
    "Vemos que el monto promedio de crédito asumido es más bajo en el tramo de los 20 años, y es mucho más alto después de eso."
   ]
  },
  {
   "cell_type": "markdown",
   "metadata": {},
   "source": [
    "#### LIMIT_BAL"
   ]
  },
  {
   "cell_type": "markdown",
   "metadata": {},
   "source": [
    "LIMIT_BAL: Monto del crédito otorgado en dólares NT (incluye crédito individual y familiar / complementario)"
   ]
  },
  {
   "cell_type": "code",
   "execution_count": 56,
   "metadata": {},
   "outputs": [
    {
     "name": "stdout",
     "output_type": "stream",
     "text": [
      "count              30,000.0\n",
      "mean    167,484.32266666667\n",
      "std     129,747.66156720239\n",
      "min                10,000.0\n",
      "25%                50,000.0\n",
      "50%               140,000.0\n",
      "75%               240,000.0\n",
      "max             1,000,000.0\n",
      "Name: LIMIT_BAL, dtype: float64\n"
     ]
    },
    {
     "data": {
      "image/png": "[encoded data removed]",
      "text/plain": [
       "<Figure size 432x288 with 1 Axes>"
      ]
     },
     "metadata": {
      "needs_background": "light"
     },
     "output_type": "display_data"
    },
    {
     "data": {
      "image/png": "[encoded data removed]",
      "text/plain": [
       "<Figure size 432x288 with 1 Axes>"
      ]
     },
     "metadata": {
      "needs_background": "light"
     },
     "output_type": "display_data"
    }
   ],
   "source": [
    "get_info('LIMIT_BAL')"
   ]
  },
  {
   "cell_type": "markdown",
   "metadata": {},
   "source": [
    "Vemos muchos valores atípicos en la gráfica de caja y una amplia gama, lo que tiene sentido. La mayoría de los valores deben agruparse en un extremo inferior del espectro, con algunos puntos que representan valores atípicos que representan grandes cantidades de crédito adeudado (deberían ser valores atípicos ya que la mayoría de las personas no deberían tener montos de crédito tan altos adeudados). También vemos que la mediana es aproximadamente 27,000 menos que la media, lo que muestra la influencia de estos puntos atípicos en ella. Finalmente, podemos ver que esta distribución tiene un alto grado de variabilidad asociada, representada por la desviación estándar alta."
   ]
  },
  {
   "cell_type": "code",
   "execution_count": 58,
   "metadata": {},
   "outputs": [
    {
     "name": "stdout",
     "output_type": "stream",
     "text": [
      "PAY_2         -0.197135865439187\n",
      "PAY_3       -0.19132332903738378\n",
      "PAY_4       -0.18062940872051259\n",
      "PAY_1       -0.17074460499211994\n",
      "PAY_5       -0.17004461548219083\n",
      "PAY_6        -0.1678202893854305\n",
      "AGE          0.14471279755733898\n",
      "PAY_AMT2      0.1784079536837089\n",
      "PAY_AMT1     0.19523591523218456\n",
      "PAY_AMT4     0.20324241022461373\n",
      "PAY_AMT3     0.21016674772340774\n",
      "PAY_AMT5     0.21720243239551573\n",
      "PAY_AMT6      0.2195953686044145\n",
      "BILL_AMT2    0.27831436399777376\n",
      "BILL_AMT3    0.28323578358169615\n",
      "BILL_AMT1     0.2854298649650024\n",
      "BILL_AMT6     0.2903889506479491\n",
      "BILL_AMT4    0.29398762371600184\n",
      "BILL_AMT5     0.2955623376582501\n",
      "LIMIT_BAL                    1.0\n",
      "Name: LIMIT_BAL, dtype: float64\n"
     ]
    }
   ],
   "source": [
    "check_significant_correlation('LIMIT_BAL')"
   ]
  },
  {
   "cell_type": "markdown",
   "metadata": {},
   "source": [
    "Vemos que en LIMIT_BAL, la cantidad de crédito otorgado, está notablemente correlacionada (usando un valor de umbral de 0.1) con todo excepto Sexo. Al pensar analizar, debemos darnos cuenta de que esto no es demasiado sorprendente. Si nuestro objetivo es predecir el incumplimiento, entonces una variable que nos dice la cantidad de crédito otorgado se debe considerar importante."
   ]
  },
  {
   "cell_type": "markdown",
   "metadata": {},
   "source": [
    "Podemos dejar de lado las correlaciones con Educación, Matrimonio y Edad, ya que se han discutido anteriormente. Así que examinemos las correlaciones entre LIMIT_BAL y las variables PAY_X, las variables BILL_AMTX, las variables PAY_AMTX y la variable default:"
   ]
  },
  {
   "cell_type": "markdown",
   "metadata": {},
   "source": [
    "Tomemos las variables PAY_X como un grupo, ya que todas representan el estado de reembolso, solo en diferentes momentos. Creo que tener más crédito aumenta las probabilidades de que alguien haya retrasado sus pagos. Por lo tanto, es sorprendente que este no sea el caso, y de hecho más crédito está asociado con un mejor estado de pago. Esto tiene sentido cuando lo pienso. Es más probable que las compañías de crédito extiendan mucho crédito a los clientes que creen que pueden pagar. Entonces, este es en última instancia un resultado notable."
   ]
  },
  {
   "cell_type": "markdown",
   "metadata": {},
   "source": [
    "Luego, consideremos la relación entre el crédito y el monto del  estado de cuenta. ¿Debería asociarse más crédito con estados de cuenta más altos? Obviamente, sí. El crédito se está tomando con el propósito de gastar. Aquí las intuiciones nos sirven bien, ya que vemos correlaciones de entre 0.25 y 0.3 para LIMIT_BAL y las variables BILL_AMTX."
   ]
  },
  {
   "cell_type": "markdown",
   "metadata": {},
   "source": [
    "Ahora observamos la relación entre el crédito y el pago anticipado. ¿Más crédito podría significar que los pagos anteriores fueron altos? Al mirar el monto de la factura, creo que sí. Creo que más crédito significa que el cliente a hecho un buen trabajo al pagar el último pago. Y de hecho, vemos correlaciones positivas aquí, lo que demuestra que ese es el caso."
   ]
  },
  {
   "cell_type": "markdown",
   "metadata": {},
   "source": [
    "Finalmente, consideramos la correlación entre crédito y incumplimiento. ¿Debería asociarse más crédito con más incumplimiento? Por un lado, es más fácil el incumplimiento con más crédito adeudado. Por otro lado, extender ese crédito en primer lugar implica la capacidad de pagarlo. Lo que vemos, en última instancia, es que la segunda línea de razonamiento es correcta. El crédito se asocia negativamente con el incumplimiento, probablemente porque aquellos con mayor crédito tienen una mayor capacidad para evitar el incumplimiento."
   ]
  },
  {
   "cell_type": "markdown",
   "metadata": {},
   "source": [
    "PAY_X\n",
    "PAY_0: Repayment status in September, 2005 (-1=pay duly, 1=payment delay for one month, 2=payment delay for two months, ... 8=payment delay for eight months, 9=payment delay for nine months and above)\n",
    "PAY_2: Repayment status in August, 2005 (scale same as above)\n",
    "PAY_3: Repayment status in July, 2005 (scale same as above)\n",
    "PAY_4: Repayment status in June, 2005 (scale same as above)\n",
    "PAY_5: Repayment status in May, 2005 (scale same as above)\n",
    "PAY_6: Repayment status in April, 2005 (scale same as above)"
   ]
  },
  {
   "cell_type": "code",
   "execution_count": 85,
   "metadata": {},
   "outputs": [],
   "source": [
    "def draw_histograms(df, variables, n_rows, n_cols, n_bins):\n",
    "    fig = plt.figure()\n",
    "    for i, var_name in enumerate(variables):\n",
    "        ax = fig.add_subplot(n_rows, n_cols, i+1)\n",
    "        df[var_name].hist(bins=n_bins, ax=ax)\n",
    "        ax.set_title(var_name)\n",
    "    fig.tight_layout()\n",
    "    plt.show()"
   ]
  },
  {
   "cell_type": "markdown",
   "metadata": {},
   "source": [
    "#### Histogramas uno al lado del otro"
   ]
  },
  {
   "cell_type": "code",
   "execution_count": 60,
   "metadata": {},
   "outputs": [
    {
     "data": {
      "image/png": "[encoded data removed]",
      "text/plain": [
       "<Figure size 432x288 with 6 Axes>"
      ]
     },
     "metadata": {
      "needs_background": "light"
     },
     "output_type": "display_data"
    }
   ],
   "source": [
    "late = data[['PAY_1', 'PAY_2', 'PAY_3', 'PAY_4', 'PAY_5', 'PAY_6']]\n",
    "draw_histograms(late, late.columns, 2, 3, 10)"
   ]
  },
  {
   "cell_type": "code",
   "execution_count": 61,
   "metadata": {},
   "outputs": [],
   "source": [
    "def draw_boxplots(df, variables, n_rows, n_cols):\n",
    "    fig = plt.figure()\n",
    "    for i, var_name in enumerate(variables):\n",
    "        ax = fig.add_subplot(n_rows, n_cols, i+1)\n",
    "        df[var_name].plot(kind='box')\n",
    "        ax.set_title(var_name)\n",
    "    fig.tight_layout()\n",
    "    plt.show()"
   ]
  },
  {
   "cell_type": "markdown",
   "metadata": {},
   "source": [
    "#### Diagramas de caja uno al lado del otro"
   ]
  },
  {
   "cell_type": "code",
   "execution_count": 63,
   "metadata": {},
   "outputs": [
    {
     "data": {
      "image/png": "[encoded data removed]",
      "text/plain": [
       "<Figure size 432x288 with 6 Axes>"
      ]
     },
     "metadata": {
      "needs_background": "light"
     },
     "output_type": "display_data"
    }
   ],
   "source": [
    "late = data[['PAY_1', 'PAY_2', 'PAY_3', 'PAY_4', 'PAY_5', 'PAY_6']]\n",
    "draw_boxplots(late, late.columns, 2, 3)"
   ]
  },
  {
   "cell_type": "markdown",
   "metadata": {},
   "source": [
    "Vemos que la media aumenta a medida que avanzamos en el tiempo, lo que significa que el estado de reembolso está empeorando. Esto es algo sorprendente ya que no hay una razón particular por la que esto tenga que estar sucediendo. Una razón podría ser que el crédito de la mayoría de las personas empeora de mes a mes hasta que deciden pagar la mayoría o todas sus deudas de una sola vez, antes de comenzar nuevamente el proceso de acumulación de deudas. Las estadísticas de resumen, los histogramas y los diagramas de caja no nos dicen mucho más, aparte de eso, cualquier retraso en el pago es un valor atípico."
   ]
  },
  {
   "cell_type": "code",
   "execution_count": 64,
   "metadata": {},
   "outputs": [
    {
     "data": {
      "text/html": [
       "<div>\n",
       "<style scoped>\n",
       "    .dataframe tbody tr th:only-of-type {\n",
       "        vertical-align: middle;\n",
       "    }\n",
       "\n",
       "    .dataframe tbody tr th {\n",
       "        vertical-align: top;\n",
       "    }\n",
       "\n",
       "    .dataframe thead th {\n",
       "        text-align: right;\n",
       "    }\n",
       "</style>\n",
       "<table border=\"1\" class=\"dataframe\">\n",
       "  <thead>\n",
       "    <tr style=\"text-align: right;\">\n",
       "      <th></th>\n",
       "      <th>PAY_1</th>\n",
       "      <th>PAY_2</th>\n",
       "      <th>PAY_3</th>\n",
       "      <th>PAY_4</th>\n",
       "      <th>PAY_5</th>\n",
       "      <th>PAY_6</th>\n",
       "    </tr>\n",
       "  </thead>\n",
       "  <tbody>\n",
       "    <tr>\n",
       "      <th>LIMIT_BAL</th>\n",
       "      <td>-0.17074460499211994</td>\n",
       "      <td>-0.197135865439187</td>\n",
       "      <td>-0.19132332903738378</td>\n",
       "      <td>-0.18062940872051259</td>\n",
       "      <td>-0.17004461548219083</td>\n",
       "      <td>-0.1678202893854305</td>\n",
       "    </tr>\n",
       "    <tr>\n",
       "      <th>SEX</th>\n",
       "      <td>nan</td>\n",
       "      <td>nan</td>\n",
       "      <td>nan</td>\n",
       "      <td>nan</td>\n",
       "      <td>nan</td>\n",
       "      <td>nan</td>\n",
       "    </tr>\n",
       "    <tr>\n",
       "      <th>AGE</th>\n",
       "      <td>nan</td>\n",
       "      <td>nan</td>\n",
       "      <td>nan</td>\n",
       "      <td>nan</td>\n",
       "      <td>nan</td>\n",
       "      <td>nan</td>\n",
       "    </tr>\n",
       "    <tr>\n",
       "      <th>PAY_1</th>\n",
       "      <td>1.0</td>\n",
       "      <td>0.6983894324845464</td>\n",
       "      <td>0.5169696606571565</td>\n",
       "      <td>0.46022436789029314</td>\n",
       "      <td>0.4244733990755022</td>\n",
       "      <td>0.3738045571750474</td>\n",
       "    </tr>\n",
       "    <tr>\n",
       "      <th>PAY_2</th>\n",
       "      <td>0.6983894324845464</td>\n",
       "      <td>1.0</td>\n",
       "      <td>0.6635291569167138</td>\n",
       "      <td>0.5127728528787494</td>\n",
       "      <td>0.46271748173224514</td>\n",
       "      <td>0.4070860651853456</td>\n",
       "    </tr>\n",
       "    <tr>\n",
       "      <th>PAY_3</th>\n",
       "      <td>0.5169696606571565</td>\n",
       "      <td>0.6635291569167138</td>\n",
       "      <td>1.0</td>\n",
       "      <td>0.678930991610762</td>\n",
       "      <td>0.5514297602967073</td>\n",
       "      <td>0.4928266325951435</td>\n",
       "    </tr>\n",
       "    <tr>\n",
       "      <th>PAY_4</th>\n",
       "      <td>0.46022436789029314</td>\n",
       "      <td>0.5127728528787494</td>\n",
       "      <td>0.678930991610762</td>\n",
       "      <td>1.0</td>\n",
       "      <td>0.7454190693686263</td>\n",
       "      <td>0.6028754765883724</td>\n",
       "    </tr>\n",
       "    <tr>\n",
       "      <th>PAY_5</th>\n",
       "      <td>0.4244733990755022</td>\n",
       "      <td>0.46271748173224514</td>\n",
       "      <td>0.5514297602967073</td>\n",
       "      <td>0.7454190693686263</td>\n",
       "      <td>1.0</td>\n",
       "      <td>0.7403572783092739</td>\n",
       "    </tr>\n",
       "    <tr>\n",
       "      <th>PAY_6</th>\n",
       "      <td>0.3738045571750474</td>\n",
       "      <td>0.4070860651853456</td>\n",
       "      <td>0.4928266325951435</td>\n",
       "      <td>0.6028754765883724</td>\n",
       "      <td>0.7403572783092739</td>\n",
       "      <td>1.0</td>\n",
       "    </tr>\n",
       "    <tr>\n",
       "      <th>BILL_AMT1</th>\n",
       "      <td>nan</td>\n",
       "      <td>nan</td>\n",
       "      <td>nan</td>\n",
       "      <td>nan</td>\n",
       "      <td>nan</td>\n",
       "      <td>nan</td>\n",
       "    </tr>\n",
       "    <tr>\n",
       "      <th>BILL_AMT2</th>\n",
       "      <td>nan</td>\n",
       "      <td>nan</td>\n",
       "      <td>nan</td>\n",
       "      <td>nan</td>\n",
       "      <td>nan</td>\n",
       "      <td>nan</td>\n",
       "    </tr>\n",
       "    <tr>\n",
       "      <th>BILL_AMT3</th>\n",
       "      <td>nan</td>\n",
       "      <td>nan</td>\n",
       "      <td>nan</td>\n",
       "      <td>nan</td>\n",
       "      <td>nan</td>\n",
       "      <td>nan</td>\n",
       "    </tr>\n",
       "    <tr>\n",
       "      <th>BILL_AMT4</th>\n",
       "      <td>nan</td>\n",
       "      <td>nan</td>\n",
       "      <td>nan</td>\n",
       "      <td>nan</td>\n",
       "      <td>nan</td>\n",
       "      <td>nan</td>\n",
       "    </tr>\n",
       "    <tr>\n",
       "      <th>BILL_AMT5</th>\n",
       "      <td>nan</td>\n",
       "      <td>nan</td>\n",
       "      <td>nan</td>\n",
       "      <td>nan</td>\n",
       "      <td>nan</td>\n",
       "      <td>nan</td>\n",
       "    </tr>\n",
       "    <tr>\n",
       "      <th>BILL_AMT6</th>\n",
       "      <td>nan</td>\n",
       "      <td>nan</td>\n",
       "      <td>nan</td>\n",
       "      <td>nan</td>\n",
       "      <td>nan</td>\n",
       "      <td>nan</td>\n",
       "    </tr>\n",
       "    <tr>\n",
       "      <th>PAY_AMT1</th>\n",
       "      <td>nan</td>\n",
       "      <td>nan</td>\n",
       "      <td>nan</td>\n",
       "      <td>nan</td>\n",
       "      <td>nan</td>\n",
       "      <td>nan</td>\n",
       "    </tr>\n",
       "    <tr>\n",
       "      <th>PAY_AMT2</th>\n",
       "      <td>nan</td>\n",
       "      <td>nan</td>\n",
       "      <td>nan</td>\n",
       "      <td>nan</td>\n",
       "      <td>nan</td>\n",
       "      <td>nan</td>\n",
       "    </tr>\n",
       "    <tr>\n",
       "      <th>PAY_AMT3</th>\n",
       "      <td>nan</td>\n",
       "      <td>nan</td>\n",
       "      <td>nan</td>\n",
       "      <td>nan</td>\n",
       "      <td>nan</td>\n",
       "      <td>nan</td>\n",
       "    </tr>\n",
       "    <tr>\n",
       "      <th>PAY_AMT4</th>\n",
       "      <td>nan</td>\n",
       "      <td>nan</td>\n",
       "      <td>nan</td>\n",
       "      <td>nan</td>\n",
       "      <td>nan</td>\n",
       "      <td>nan</td>\n",
       "    </tr>\n",
       "    <tr>\n",
       "      <th>PAY_AMT5</th>\n",
       "      <td>nan</td>\n",
       "      <td>nan</td>\n",
       "      <td>nan</td>\n",
       "      <td>nan</td>\n",
       "      <td>nan</td>\n",
       "      <td>nan</td>\n",
       "    </tr>\n",
       "    <tr>\n",
       "      <th>PAY_AMT6</th>\n",
       "      <td>nan</td>\n",
       "      <td>nan</td>\n",
       "      <td>nan</td>\n",
       "      <td>nan</td>\n",
       "      <td>nan</td>\n",
       "      <td>nan</td>\n",
       "    </tr>\n",
       "  </tbody>\n",
       "</table>\n",
       "</div>"
      ],
      "text/plain": [
       "                         PAY_1               PAY_2                PAY_3  \\\n",
       "LIMIT_BAL -0.17074460499211994  -0.197135865439187 -0.19132332903738378   \n",
       "SEX                        nan                 nan                  nan   \n",
       "AGE                        nan                 nan                  nan   \n",
       "PAY_1                      1.0  0.6983894324845464   0.5169696606571565   \n",
       "PAY_2       0.6983894324845464                 1.0   0.6635291569167138   \n",
       "PAY_3       0.5169696606571565  0.6635291569167138                  1.0   \n",
       "PAY_4      0.46022436789029314  0.5127728528787494    0.678930991610762   \n",
       "PAY_5       0.4244733990755022 0.46271748173224514   0.5514297602967073   \n",
       "PAY_6       0.3738045571750474  0.4070860651853456   0.4928266325951435   \n",
       "BILL_AMT1                  nan                 nan                  nan   \n",
       "BILL_AMT2                  nan                 nan                  nan   \n",
       "BILL_AMT3                  nan                 nan                  nan   \n",
       "BILL_AMT4                  nan                 nan                  nan   \n",
       "BILL_AMT5                  nan                 nan                  nan   \n",
       "BILL_AMT6                  nan                 nan                  nan   \n",
       "PAY_AMT1                   nan                 nan                  nan   \n",
       "PAY_AMT2                   nan                 nan                  nan   \n",
       "PAY_AMT3                   nan                 nan                  nan   \n",
       "PAY_AMT4                   nan                 nan                  nan   \n",
       "PAY_AMT5                   nan                 nan                  nan   \n",
       "PAY_AMT6                   nan                 nan                  nan   \n",
       "\n",
       "                         PAY_4                PAY_5               PAY_6  \n",
       "LIMIT_BAL -0.18062940872051259 -0.17004461548219083 -0.1678202893854305  \n",
       "SEX                        nan                  nan                 nan  \n",
       "AGE                        nan                  nan                 nan  \n",
       "PAY_1      0.46022436789029314   0.4244733990755022  0.3738045571750474  \n",
       "PAY_2       0.5127728528787494  0.46271748173224514  0.4070860651853456  \n",
       "PAY_3        0.678930991610762   0.5514297602967073  0.4928266325951435  \n",
       "PAY_4                      1.0   0.7454190693686263  0.6028754765883724  \n",
       "PAY_5       0.7454190693686263                  1.0  0.7403572783092739  \n",
       "PAY_6       0.6028754765883724   0.7403572783092739                 1.0  \n",
       "BILL_AMT1                  nan                  nan                 nan  \n",
       "BILL_AMT2                  nan                  nan                 nan  \n",
       "BILL_AMT3                  nan                  nan                 nan  \n",
       "BILL_AMT4                  nan                  nan                 nan  \n",
       "BILL_AMT5                  nan                  nan                 nan  \n",
       "BILL_AMT6                  nan                  nan                 nan  \n",
       "PAY_AMT1                   nan                  nan                 nan  \n",
       "PAY_AMT2                   nan                  nan                 nan  \n",
       "PAY_AMT3                   nan                  nan                 nan  \n",
       "PAY_AMT4                   nan                  nan                 nan  \n",
       "PAY_AMT5                   nan                  nan                 nan  \n",
       "PAY_AMT6                   nan                  nan                 nan  "
      ]
     },
     "execution_count": 64,
     "metadata": {},
     "output_type": "execute_result"
    }
   ],
   "source": [
    "c = data.corr()[['PAY_1', 'PAY_2', 'PAY_3', 'PAY_4', 'PAY_5', 'PAY_6']]\n",
    "c[abs(c) > 0.1]"
   ]
  },
  {
   "cell_type": "markdown",
   "metadata": {},
   "source": [
    "Vemos que todas las variables que están correlacionadas con un valor de PAY_X también están correlacionadas con los otros. Por lo tanto, podemos examinarlos juntos."
   ]
  },
  {
   "cell_type": "markdown",
   "metadata": {},
   "source": [
    "Las variables de estado de reembolso están altamente correlacionadas entre sí. Esto tiene sentido. Si estoy atrasado en mis pagos un mes, es muy probable que esté atrasado con ellos el próximo mes. Además, vemos que la correlación entre el estado de reembolso cada mes aumenta a medida que nos acercamos a ese mes. Es decir, el mes X-1 está más correlacionado con el mes X, que el mes X-2, que a su vez está más correlacionado que X-3, y así sucesivamente.\n",
    "También notamos una fuerte correlación entre el estado de reembolso y el incumplimiento. Esto también tiene sentido. Cuanto más atrasados estamos en hacer pagos, más probabilidades hay de que no lo hagamos. Además, notamos que la correlación aumenta con el tiempo, lo que también tiene sentido. Estar atrasado en sus pagos en septiembre está más relacionado con el incumplimiento después de septiembre, que estar atrasado en sus pagos en abril."
   ]
  },
  {
   "cell_type": "markdown",
   "metadata": {},
   "source": [
    "BILL_AMTX/\n",
    "BILL_AMT1: Amount of bill statement in September, 2005 (NT dollar)\n",
    "BILL_AMT2: Amount of bill statement in August, 2005 (NT dollar)\n",
    "BILL_AMT3: Amount of bill statement in July, 2005 (NT dollar)\n",
    "BILL_AMT4: Amount of bill statement in June, 2005 (NT dollar)\n",
    "BILL_AMT5: Amount of bill statement in May, 2005 (NT dollar)\n",
    "BILL_AMT6: Amount of bill statement in April, 2005 (NT dollar)"
   ]
  },
  {
   "cell_type": "code",
   "execution_count": 65,
   "metadata": {},
   "outputs": [
    {
     "data": {
      "image/png": "[encoded data removed]",
      "text/plain": [
       "<Figure size 432x288 with 6 Axes>"
      ]
     },
     "metadata": {
      "needs_background": "light"
     },
     "output_type": "display_data"
    }
   ],
   "source": [
    "bills = data[['BILL_AMT1', 'BILL_AMT2', 'BILL_AMT3', 'BILL_AMT4', 'BILL_AMT5', 'BILL_AMT6']]\n",
    "draw_histograms(bills, bills.columns, 2, 3, 20)"
   ]
  },
  {
   "cell_type": "code",
   "execution_count": 66,
   "metadata": {},
   "outputs": [
    {
     "data": {
      "image/png": "[encoded data removed]",
      "text/plain": [
       "<Figure size 432x288 with 6 Axes>"
      ]
     },
     "metadata": {
      "needs_background": "light"
     },
     "output_type": "display_data"
    }
   ],
   "source": [
    "draw_boxplots(bills, bills.columns, 2, 3)"
   ]
  },
  {
   "cell_type": "markdown",
   "metadata": {},
   "source": [
    "Notamos en las estadísticas resumidas que el monto promedio de los estados de cuenta aumenta con el tiempo. Además, la desviación estándar de la cantidad de estados de cuenta también está aumentando. Los cuantiles también están aumentando."
   ]
  },
  {
   "cell_type": "code",
   "execution_count": 68,
   "metadata": {},
   "outputs": [
    {
     "data": {
      "text/html": [
       "<div>\n",
       "<style scoped>\n",
       "    .dataframe tbody tr th:only-of-type {\n",
       "        vertical-align: middle;\n",
       "    }\n",
       "\n",
       "    .dataframe tbody tr th {\n",
       "        vertical-align: top;\n",
       "    }\n",
       "\n",
       "    .dataframe thead th {\n",
       "        text-align: right;\n",
       "    }\n",
       "</style>\n",
       "<table border=\"1\" class=\"dataframe\">\n",
       "  <thead>\n",
       "    <tr style=\"text-align: right;\">\n",
       "      <th></th>\n",
       "      <th>BILL_AMT1</th>\n",
       "      <th>BILL_AMT2</th>\n",
       "      <th>BILL_AMT3</th>\n",
       "      <th>BILL_AMT4</th>\n",
       "      <th>BILL_AMT5</th>\n",
       "      <th>BILL_AMT6</th>\n",
       "    </tr>\n",
       "  </thead>\n",
       "  <tbody>\n",
       "    <tr>\n",
       "      <th>LIMIT_BAL</th>\n",
       "      <td>0.2854298649650024</td>\n",
       "      <td>0.27831436399777376</td>\n",
       "      <td>0.28323578358169615</td>\n",
       "      <td>0.29398762371600184</td>\n",
       "      <td>0.2955623376582501</td>\n",
       "      <td>0.2903889506479491</td>\n",
       "    </tr>\n",
       "    <tr>\n",
       "      <th>SEX</th>\n",
       "      <td>nan</td>\n",
       "      <td>nan</td>\n",
       "      <td>nan</td>\n",
       "      <td>nan</td>\n",
       "      <td>nan</td>\n",
       "      <td>nan</td>\n",
       "    </tr>\n",
       "    <tr>\n",
       "      <th>AGE</th>\n",
       "      <td>nan</td>\n",
       "      <td>nan</td>\n",
       "      <td>nan</td>\n",
       "      <td>nan</td>\n",
       "      <td>nan</td>\n",
       "      <td>nan</td>\n",
       "    </tr>\n",
       "    <tr>\n",
       "      <th>PAY_1</th>\n",
       "      <td>nan</td>\n",
       "      <td>nan</td>\n",
       "      <td>nan</td>\n",
       "      <td>nan</td>\n",
       "      <td>nan</td>\n",
       "      <td>nan</td>\n",
       "    </tr>\n",
       "    <tr>\n",
       "      <th>PAY_2</th>\n",
       "      <td>nan</td>\n",
       "      <td>nan</td>\n",
       "      <td>nan</td>\n",
       "      <td>nan</td>\n",
       "      <td>nan</td>\n",
       "      <td>nan</td>\n",
       "    </tr>\n",
       "    <tr>\n",
       "      <th>PAY_3</th>\n",
       "      <td>nan</td>\n",
       "      <td>nan</td>\n",
       "      <td>nan</td>\n",
       "      <td>nan</td>\n",
       "      <td>nan</td>\n",
       "      <td>nan</td>\n",
       "    </tr>\n",
       "    <tr>\n",
       "      <th>PAY_4</th>\n",
       "      <td>nan</td>\n",
       "      <td>nan</td>\n",
       "      <td>nan</td>\n",
       "      <td>nan</td>\n",
       "      <td>nan</td>\n",
       "      <td>nan</td>\n",
       "    </tr>\n",
       "    <tr>\n",
       "      <th>PAY_5</th>\n",
       "      <td>nan</td>\n",
       "      <td>nan</td>\n",
       "      <td>nan</td>\n",
       "      <td>nan</td>\n",
       "      <td>nan</td>\n",
       "      <td>nan</td>\n",
       "    </tr>\n",
       "    <tr>\n",
       "      <th>PAY_6</th>\n",
       "      <td>nan</td>\n",
       "      <td>nan</td>\n",
       "      <td>nan</td>\n",
       "      <td>nan</td>\n",
       "      <td>nan</td>\n",
       "      <td>nan</td>\n",
       "    </tr>\n",
       "    <tr>\n",
       "      <th>BILL_AMT1</th>\n",
       "      <td>1.0</td>\n",
       "      <td>0.9514836727518374</td>\n",
       "      <td>0.8922785291271761</td>\n",
       "      <td>0.8602721890293005</td>\n",
       "      <td>0.8297786058330343</td>\n",
       "      <td>0.8026501885528919</td>\n",
       "    </tr>\n",
       "    <tr>\n",
       "      <th>BILL_AMT2</th>\n",
       "      <td>0.9514836727518374</td>\n",
       "      <td>1.0</td>\n",
       "      <td>0.9283262592714886</td>\n",
       "      <td>0.8924822912576753</td>\n",
       "      <td>0.859778307271451</td>\n",
       "      <td>0.8315935591018396</td>\n",
       "    </tr>\n",
       "    <tr>\n",
       "      <th>BILL_AMT3</th>\n",
       "      <td>0.8922785291271761</td>\n",
       "      <td>0.9283262592714886</td>\n",
       "      <td>1.0</td>\n",
       "      <td>0.9239694565909764</td>\n",
       "      <td>0.8839096973619937</td>\n",
       "      <td>0.8533200905940386</td>\n",
       "    </tr>\n",
       "    <tr>\n",
       "      <th>BILL_AMT4</th>\n",
       "      <td>0.8602721890293005</td>\n",
       "      <td>0.8924822912576753</td>\n",
       "      <td>0.9239694565909764</td>\n",
       "      <td>1.0</td>\n",
       "      <td>0.9401344040880266</td>\n",
       "      <td>0.9009409547979025</td>\n",
       "    </tr>\n",
       "    <tr>\n",
       "      <th>BILL_AMT5</th>\n",
       "      <td>0.8297786058330343</td>\n",
       "      <td>0.859778307271451</td>\n",
       "      <td>0.8839096973619937</td>\n",
       "      <td>0.9401344040880266</td>\n",
       "      <td>1.0</td>\n",
       "      <td>0.9461968070522464</td>\n",
       "    </tr>\n",
       "    <tr>\n",
       "      <th>BILL_AMT6</th>\n",
       "      <td>0.8026501885528919</td>\n",
       "      <td>0.8315935591018396</td>\n",
       "      <td>0.8533200905940386</td>\n",
       "      <td>0.9009409547979025</td>\n",
       "      <td>0.9461968070522464</td>\n",
       "      <td>1.0</td>\n",
       "    </tr>\n",
       "    <tr>\n",
       "      <th>PAY_AMT1</th>\n",
       "      <td>0.14027727757531827</td>\n",
       "      <td>0.28036535701408555</td>\n",
       "      <td>0.2443352376081392</td>\n",
       "      <td>0.23301185215341472</td>\n",
       "      <td>0.21703082377803495</td>\n",
       "      <td>0.19996500616338114</td>\n",
       "    </tr>\n",
       "    <tr>\n",
       "      <th>PAY_AMT2</th>\n",
       "      <td>nan</td>\n",
       "      <td>0.10085087751754053</td>\n",
       "      <td>0.31693597717969435</td>\n",
       "      <td>0.20756372904210446</td>\n",
       "      <td>0.1812464910523023</td>\n",
       "      <td>0.17266293741805372</td>\n",
       "    </tr>\n",
       "    <tr>\n",
       "      <th>PAY_AMT3</th>\n",
       "      <td>0.156887138475675</td>\n",
       "      <td>0.15071819370166342</td>\n",
       "      <td>0.13001118162440695</td>\n",
       "      <td>0.3000225291116425</td>\n",
       "      <td>0.2523048617306058</td>\n",
       "      <td>0.2337697933269198</td>\n",
       "    </tr>\n",
       "    <tr>\n",
       "      <th>PAY_AMT4</th>\n",
       "      <td>0.15830253328354743</td>\n",
       "      <td>0.14739810422001587</td>\n",
       "      <td>0.14340460499244492</td>\n",
       "      <td>0.1301914077878168</td>\n",
       "      <td>0.293118463184434</td>\n",
       "      <td>0.25023682493343924</td>\n",
       "    </tr>\n",
       "    <tr>\n",
       "      <th>PAY_AMT5</th>\n",
       "      <td>0.16702571208290615</td>\n",
       "      <td>0.1579574116239592</td>\n",
       "      <td>0.1797123504064784</td>\n",
       "      <td>0.16043303762898942</td>\n",
       "      <td>0.14157417995959912</td>\n",
       "      <td>0.30772888950112604</td>\n",
       "    </tr>\n",
       "    <tr>\n",
       "      <th>PAY_AMT6</th>\n",
       "      <td>0.17934112200690228</td>\n",
       "      <td>0.17425616563434684</td>\n",
       "      <td>0.18232596615205957</td>\n",
       "      <td>0.17763699418675602</td>\n",
       "      <td>0.16418445035362986</td>\n",
       "      <td>0.11549416685165832</td>\n",
       "    </tr>\n",
       "  </tbody>\n",
       "</table>\n",
       "</div>"
      ],
      "text/plain": [
       "                    BILL_AMT1           BILL_AMT2           BILL_AMT3  \\\n",
       "LIMIT_BAL  0.2854298649650024 0.27831436399777376 0.28323578358169615   \n",
       "SEX                       nan                 nan                 nan   \n",
       "AGE                       nan                 nan                 nan   \n",
       "PAY_1                     nan                 nan                 nan   \n",
       "PAY_2                     nan                 nan                 nan   \n",
       "PAY_3                     nan                 nan                 nan   \n",
       "PAY_4                     nan                 nan                 nan   \n",
       "PAY_5                     nan                 nan                 nan   \n",
       "PAY_6                     nan                 nan                 nan   \n",
       "BILL_AMT1                 1.0  0.9514836727518374  0.8922785291271761   \n",
       "BILL_AMT2  0.9514836727518374                 1.0  0.9283262592714886   \n",
       "BILL_AMT3  0.8922785291271761  0.9283262592714886                 1.0   \n",
       "BILL_AMT4  0.8602721890293005  0.8924822912576753  0.9239694565909764   \n",
       "BILL_AMT5  0.8297786058330343   0.859778307271451  0.8839096973619937   \n",
       "BILL_AMT6  0.8026501885528919  0.8315935591018396  0.8533200905940386   \n",
       "PAY_AMT1  0.14027727757531827 0.28036535701408555  0.2443352376081392   \n",
       "PAY_AMT2                  nan 0.10085087751754053 0.31693597717969435   \n",
       "PAY_AMT3    0.156887138475675 0.15071819370166342 0.13001118162440695   \n",
       "PAY_AMT4  0.15830253328354743 0.14739810422001587 0.14340460499244492   \n",
       "PAY_AMT5  0.16702571208290615  0.1579574116239592  0.1797123504064784   \n",
       "PAY_AMT6  0.17934112200690228 0.17425616563434684 0.18232596615205957   \n",
       "\n",
       "                    BILL_AMT4           BILL_AMT5           BILL_AMT6  \n",
       "LIMIT_BAL 0.29398762371600184  0.2955623376582501  0.2903889506479491  \n",
       "SEX                       nan                 nan                 nan  \n",
       "AGE                       nan                 nan                 nan  \n",
       "PAY_1                     nan                 nan                 nan  \n",
       "PAY_2                     nan                 nan                 nan  \n",
       "PAY_3                     nan                 nan                 nan  \n",
       "PAY_4                     nan                 nan                 nan  \n",
       "PAY_5                     nan                 nan                 nan  \n",
       "PAY_6                     nan                 nan                 nan  \n",
       "BILL_AMT1  0.8602721890293005  0.8297786058330343  0.8026501885528919  \n",
       "BILL_AMT2  0.8924822912576753   0.859778307271451  0.8315935591018396  \n",
       "BILL_AMT3  0.9239694565909764  0.8839096973619937  0.8533200905940386  \n",
       "BILL_AMT4                 1.0  0.9401344040880266  0.9009409547979025  \n",
       "BILL_AMT5  0.9401344040880266                 1.0  0.9461968070522464  \n",
       "BILL_AMT6  0.9009409547979025  0.9461968070522464                 1.0  \n",
       "PAY_AMT1  0.23301185215341472 0.21703082377803495 0.19996500616338114  \n",
       "PAY_AMT2  0.20756372904210446  0.1812464910523023 0.17266293741805372  \n",
       "PAY_AMT3   0.3000225291116425  0.2523048617306058  0.2337697933269198  \n",
       "PAY_AMT4   0.1301914077878168   0.293118463184434 0.25023682493343924  \n",
       "PAY_AMT5  0.16043303762898942 0.14157417995959912 0.30772888950112604  \n",
       "PAY_AMT6  0.17763699418675602 0.16418445035362986 0.11549416685165832  "
      ]
     },
     "execution_count": 68,
     "metadata": {},
     "output_type": "execute_result"
    }
   ],
   "source": [
    "c = data.corr()[['BILL_AMT1', 'BILL_AMT2', 'BILL_AMT3', 'BILL_AMT4', 'BILL_AMT5', 'BILL_AMT6']]\n",
    "c[abs(c) > 0.1]"
   ]
  },
  {
   "cell_type": "markdown",
   "metadata": {},
   "source": [
    "Observamos que, con la excepción de la correlación entre BILL_AMT1 y PAY_AMT2 (la correlación entre el estado de cuenta en septiembre y el monto del pago anterior en agosto), todos los BILL_AMT tienen las mismas correlaciones notables en el nivel umbral de 0.1. Solo necesitamos examinar las correlaciones entre BILL_AMTs y entre BILL_AMTs y PAY_AMTs ya que todas las demás correlaciones han sido consideradas previamente."
   ]
  },
  {
   "cell_type": "markdown",
   "metadata": {},
   "source": [
    "Comenzamos con correlaciones con BILL_AMTs. Notamos sus altas correlaciones entre sí y observamos que sus correlaciones aumentan con la proximidad en el tiempo, de la misma manera que funcionaban las correlaciones entre el estado de reembolso. Esto significa que los estados de cuenta altos mes a mes están correlacionados, como es de esperar"
   ]
  },
  {
   "cell_type": "markdown",
   "metadata": {},
   "source": [
    "También notamos que el estado de cuenta está correlacionado con pagos anteriores. Esa es una cantidad de factura alta en el mes X está asociada con un pago previo alto en el mes X, así como en los meses anteriores y los próximos meses. Notamos una relación especial entre las variables por la cual BILL_AMTX está especialmente correlacionado con PAY_AMTX + 1. Esto significa que el monto de un estado de cuenta en el mes X está correlacionado con el monto del pago anterior en el mes siguiente, que es como debería."
   ]
  },
  {
   "cell_type": "markdown",
   "metadata": {},
   "source": [
    "PAY_AMTX\n",
    "PAY_AMT1: Amount of previous payment in September, 2005 (NT dollar)\n",
    "PAY_AMT2: Amount of previous payment in August, 2005 (NT dollar)\n",
    "PAY_AMT3: Amount of previous payment in July, 2005 (NT dollar)\n",
    "PAY_AMT4: Amount of previous payment in June, 2005 (NT dollar)\n",
    "PAY_AMT5: Amount of previous payment in May, 2005 (NT dollar)\n",
    "PAY_AMT6: Amount of previous payment in April, 2005 (NT dollar)"
   ]
  },
  {
   "cell_type": "code",
   "execution_count": 70,
   "metadata": {},
   "outputs": [
    {
     "data": {
      "image/png": "[encoded data removed]",
      "text/plain": [
       "<Figure size 432x288 with 6 Axes>"
      ]
     },
     "metadata": {
      "needs_background": "light"
     },
     "output_type": "display_data"
    }
   ],
   "source": [
    "prev = data[['PAY_AMT1', 'PAY_AMT2', 'PAY_AMT3', 'PAY_AMT4', 'PAY_AMT5', 'PAY_AMT6']]\n",
    "draw_histograms(prev, prev.columns, 2, 3, 20)"
   ]
  },
  {
   "cell_type": "code",
   "execution_count": 71,
   "metadata": {},
   "outputs": [
    {
     "data": {
      "image/png": "[encoded data removed]",
      "text/plain": [
       "<Figure size 432x288 with 6 Axes>"
      ]
     },
     "metadata": {
      "needs_background": "light"
     },
     "output_type": "display_data"
    }
   ],
   "source": [
    "draw_boxplots(prev, prev.columns, 2, 3)"
   ]
  },
  {
   "cell_type": "markdown",
   "metadata": {},
   "source": [
    "El monto de los pagos anteriores es muy bajo en relación con los valores atípicos que existen. Aparte de eso, no hay muchos patrones para observar.\n",
    "\n",
    "Estos son ejemplos de clientes ricos y bien remunerados."
   ]
  },
  {
   "cell_type": "code",
   "execution_count": 72,
   "metadata": {},
   "outputs": [
    {
     "data": {
      "text/html": [
       "<div>\n",
       "<style scoped>\n",
       "    .dataframe tbody tr th:only-of-type {\n",
       "        vertical-align: middle;\n",
       "    }\n",
       "\n",
       "    .dataframe tbody tr th {\n",
       "        vertical-align: top;\n",
       "    }\n",
       "\n",
       "    .dataframe thead th {\n",
       "        text-align: right;\n",
       "    }\n",
       "</style>\n",
       "<table border=\"1\" class=\"dataframe\">\n",
       "  <thead>\n",
       "    <tr style=\"text-align: right;\">\n",
       "      <th></th>\n",
       "      <th>PAY_AMT1</th>\n",
       "      <th>PAY_AMT2</th>\n",
       "      <th>PAY_AMT3</th>\n",
       "      <th>PAY_AMT4</th>\n",
       "      <th>PAY_AMT5</th>\n",
       "      <th>PAY_AMT6</th>\n",
       "    </tr>\n",
       "  </thead>\n",
       "  <tbody>\n",
       "    <tr>\n",
       "      <th>LIMIT_BAL</th>\n",
       "      <td>0.19523591523218456</td>\n",
       "      <td>0.1784079536837089</td>\n",
       "      <td>0.21016674772340774</td>\n",
       "      <td>0.20324241022461373</td>\n",
       "      <td>0.21720243239551573</td>\n",
       "      <td>0.2195953686044145</td>\n",
       "    </tr>\n",
       "    <tr>\n",
       "      <th>SEX</th>\n",
       "      <td>nan</td>\n",
       "      <td>nan</td>\n",
       "      <td>nan</td>\n",
       "      <td>nan</td>\n",
       "      <td>nan</td>\n",
       "      <td>nan</td>\n",
       "    </tr>\n",
       "    <tr>\n",
       "      <th>AGE</th>\n",
       "      <td>nan</td>\n",
       "      <td>nan</td>\n",
       "      <td>nan</td>\n",
       "      <td>nan</td>\n",
       "      <td>nan</td>\n",
       "      <td>nan</td>\n",
       "    </tr>\n",
       "    <tr>\n",
       "      <th>PAY_1</th>\n",
       "      <td>nan</td>\n",
       "      <td>nan</td>\n",
       "      <td>nan</td>\n",
       "      <td>nan</td>\n",
       "      <td>nan</td>\n",
       "      <td>nan</td>\n",
       "    </tr>\n",
       "    <tr>\n",
       "      <th>PAY_2</th>\n",
       "      <td>nan</td>\n",
       "      <td>nan</td>\n",
       "      <td>nan</td>\n",
       "      <td>nan</td>\n",
       "      <td>nan</td>\n",
       "      <td>nan</td>\n",
       "    </tr>\n",
       "    <tr>\n",
       "      <th>PAY_3</th>\n",
       "      <td>nan</td>\n",
       "      <td>nan</td>\n",
       "      <td>nan</td>\n",
       "      <td>nan</td>\n",
       "      <td>nan</td>\n",
       "      <td>nan</td>\n",
       "    </tr>\n",
       "    <tr>\n",
       "      <th>PAY_4</th>\n",
       "      <td>nan</td>\n",
       "      <td>nan</td>\n",
       "      <td>nan</td>\n",
       "      <td>nan</td>\n",
       "      <td>nan</td>\n",
       "      <td>nan</td>\n",
       "    </tr>\n",
       "    <tr>\n",
       "      <th>PAY_5</th>\n",
       "      <td>nan</td>\n",
       "      <td>nan</td>\n",
       "      <td>nan</td>\n",
       "      <td>nan</td>\n",
       "      <td>nan</td>\n",
       "      <td>nan</td>\n",
       "    </tr>\n",
       "    <tr>\n",
       "      <th>PAY_6</th>\n",
       "      <td>nan</td>\n",
       "      <td>nan</td>\n",
       "      <td>nan</td>\n",
       "      <td>nan</td>\n",
       "      <td>nan</td>\n",
       "      <td>nan</td>\n",
       "    </tr>\n",
       "    <tr>\n",
       "      <th>BILL_AMT1</th>\n",
       "      <td>0.14027727757531827</td>\n",
       "      <td>nan</td>\n",
       "      <td>0.156887138475675</td>\n",
       "      <td>0.15830253328354743</td>\n",
       "      <td>0.16702571208290615</td>\n",
       "      <td>0.17934112200690228</td>\n",
       "    </tr>\n",
       "    <tr>\n",
       "      <th>BILL_AMT2</th>\n",
       "      <td>0.28036535701408555</td>\n",
       "      <td>0.10085087751754053</td>\n",
       "      <td>0.15071819370166342</td>\n",
       "      <td>0.14739810422001587</td>\n",
       "      <td>0.1579574116239592</td>\n",
       "      <td>0.17425616563434684</td>\n",
       "    </tr>\n",
       "    <tr>\n",
       "      <th>BILL_AMT3</th>\n",
       "      <td>0.2443352376081392</td>\n",
       "      <td>0.31693597717969435</td>\n",
       "      <td>0.13001118162440695</td>\n",
       "      <td>0.14340460499244492</td>\n",
       "      <td>0.1797123504064784</td>\n",
       "      <td>0.18232596615205957</td>\n",
       "    </tr>\n",
       "    <tr>\n",
       "      <th>BILL_AMT4</th>\n",
       "      <td>0.23301185215341472</td>\n",
       "      <td>0.20756372904210446</td>\n",
       "      <td>0.3000225291116425</td>\n",
       "      <td>0.1301914077878168</td>\n",
       "      <td>0.16043303762898942</td>\n",
       "      <td>0.17763699418675602</td>\n",
       "    </tr>\n",
       "    <tr>\n",
       "      <th>BILL_AMT5</th>\n",
       "      <td>0.21703082377803495</td>\n",
       "      <td>0.1812464910523023</td>\n",
       "      <td>0.2523048617306058</td>\n",
       "      <td>0.293118463184434</td>\n",
       "      <td>0.14157417995959912</td>\n",
       "      <td>0.16418445035362986</td>\n",
       "    </tr>\n",
       "    <tr>\n",
       "      <th>BILL_AMT6</th>\n",
       "      <td>0.19996500616338114</td>\n",
       "      <td>0.17266293741805372</td>\n",
       "      <td>0.2337697933269198</td>\n",
       "      <td>0.25023682493343924</td>\n",
       "      <td>0.30772888950112604</td>\n",
       "      <td>0.11549416685165832</td>\n",
       "    </tr>\n",
       "    <tr>\n",
       "      <th>PAY_AMT1</th>\n",
       "      <td>1.0</td>\n",
       "      <td>0.2855755286868565</td>\n",
       "      <td>0.25219113895238043</td>\n",
       "      <td>0.1995579311706692</td>\n",
       "      <td>0.14845927501532108</td>\n",
       "      <td>0.18573525544574024</td>\n",
       "    </tr>\n",
       "    <tr>\n",
       "      <th>PAY_AMT2</th>\n",
       "      <td>0.2855755286868565</td>\n",
       "      <td>1.0</td>\n",
       "      <td>0.24477045029288258</td>\n",
       "      <td>0.18010674364564283</td>\n",
       "      <td>0.18090775259419362</td>\n",
       "      <td>0.15763391627235926</td>\n",
       "    </tr>\n",
       "    <tr>\n",
       "      <th>PAY_AMT3</th>\n",
       "      <td>0.25219113895238043</td>\n",
       "      <td>0.24477045029288258</td>\n",
       "      <td>1.0</td>\n",
       "      <td>0.21632509170083622</td>\n",
       "      <td>0.1592137203086918</td>\n",
       "      <td>0.16274003329184034</td>\n",
       "    </tr>\n",
       "    <tr>\n",
       "      <th>PAY_AMT4</th>\n",
       "      <td>0.1995579311706692</td>\n",
       "      <td>0.18010674364564283</td>\n",
       "      <td>0.21632509170083622</td>\n",
       "      <td>1.0</td>\n",
       "      <td>0.15183043582616415</td>\n",
       "      <td>0.15783391560138624</td>\n",
       "    </tr>\n",
       "    <tr>\n",
       "      <th>PAY_AMT5</th>\n",
       "      <td>0.14845927501532108</td>\n",
       "      <td>0.18090775259419362</td>\n",
       "      <td>0.1592137203086918</td>\n",
       "      <td>0.15183043582616415</td>\n",
       "      <td>1.0</td>\n",
       "      <td>0.15489552525960384</td>\n",
       "    </tr>\n",
       "    <tr>\n",
       "      <th>PAY_AMT6</th>\n",
       "      <td>0.18573525544574024</td>\n",
       "      <td>0.15763391627235926</td>\n",
       "      <td>0.16274003329184034</td>\n",
       "      <td>0.15783391560138624</td>\n",
       "      <td>0.15489552525960384</td>\n",
       "      <td>1.0</td>\n",
       "    </tr>\n",
       "  </tbody>\n",
       "</table>\n",
       "</div>"
      ],
      "text/plain": [
       "                     PAY_AMT1            PAY_AMT2            PAY_AMT3  \\\n",
       "LIMIT_BAL 0.19523591523218456  0.1784079536837089 0.21016674772340774   \n",
       "SEX                       nan                 nan                 nan   \n",
       "AGE                       nan                 nan                 nan   \n",
       "PAY_1                     nan                 nan                 nan   \n",
       "PAY_2                     nan                 nan                 nan   \n",
       "PAY_3                     nan                 nan                 nan   \n",
       "PAY_4                     nan                 nan                 nan   \n",
       "PAY_5                     nan                 nan                 nan   \n",
       "PAY_6                     nan                 nan                 nan   \n",
       "BILL_AMT1 0.14027727757531827                 nan   0.156887138475675   \n",
       "BILL_AMT2 0.28036535701408555 0.10085087751754053 0.15071819370166342   \n",
       "BILL_AMT3  0.2443352376081392 0.31693597717969435 0.13001118162440695   \n",
       "BILL_AMT4 0.23301185215341472 0.20756372904210446  0.3000225291116425   \n",
       "BILL_AMT5 0.21703082377803495  0.1812464910523023  0.2523048617306058   \n",
       "BILL_AMT6 0.19996500616338114 0.17266293741805372  0.2337697933269198   \n",
       "PAY_AMT1                  1.0  0.2855755286868565 0.25219113895238043   \n",
       "PAY_AMT2   0.2855755286868565                 1.0 0.24477045029288258   \n",
       "PAY_AMT3  0.25219113895238043 0.24477045029288258                 1.0   \n",
       "PAY_AMT4   0.1995579311706692 0.18010674364564283 0.21632509170083622   \n",
       "PAY_AMT5  0.14845927501532108 0.18090775259419362  0.1592137203086918   \n",
       "PAY_AMT6  0.18573525544574024 0.15763391627235926 0.16274003329184034   \n",
       "\n",
       "                     PAY_AMT4            PAY_AMT5            PAY_AMT6  \n",
       "LIMIT_BAL 0.20324241022461373 0.21720243239551573  0.2195953686044145  \n",
       "SEX                       nan                 nan                 nan  \n",
       "AGE                       nan                 nan                 nan  \n",
       "PAY_1                     nan                 nan                 nan  \n",
       "PAY_2                     nan                 nan                 nan  \n",
       "PAY_3                     nan                 nan                 nan  \n",
       "PAY_4                     nan                 nan                 nan  \n",
       "PAY_5                     nan                 nan                 nan  \n",
       "PAY_6                     nan                 nan                 nan  \n",
       "BILL_AMT1 0.15830253328354743 0.16702571208290615 0.17934112200690228  \n",
       "BILL_AMT2 0.14739810422001587  0.1579574116239592 0.17425616563434684  \n",
       "BILL_AMT3 0.14340460499244492  0.1797123504064784 0.18232596615205957  \n",
       "BILL_AMT4  0.1301914077878168 0.16043303762898942 0.17763699418675602  \n",
       "BILL_AMT5   0.293118463184434 0.14157417995959912 0.16418445035362986  \n",
       "BILL_AMT6 0.25023682493343924 0.30772888950112604 0.11549416685165832  \n",
       "PAY_AMT1   0.1995579311706692 0.14845927501532108 0.18573525544574024  \n",
       "PAY_AMT2  0.18010674364564283 0.18090775259419362 0.15763391627235926  \n",
       "PAY_AMT3  0.21632509170083622  0.1592137203086918 0.16274003329184034  \n",
       "PAY_AMT4                  1.0 0.15183043582616415 0.15783391560138624  \n",
       "PAY_AMT5  0.15183043582616415                 1.0 0.15489552525960384  \n",
       "PAY_AMT6  0.15783391560138624 0.15489552525960384                 1.0  "
      ]
     },
     "execution_count": 72,
     "metadata": {},
     "output_type": "execute_result"
    }
   ],
   "source": [
    "c = data.corr()[['PAY_AMT1', 'PAY_AMT2', 'PAY_AMT3', 'PAY_AMT4', 'PAY_AMT5', 'PAY_AMT6']]\n",
    "c[abs(c) > 0.1]"
   ]
  },
  {
   "cell_type": "markdown",
   "metadata": {},
   "source": [
    "#### default\n",
    "\n",
    "default: Default payment (1=yes, 0=no)"
   ]
  },
  {
   "cell_type": "code",
   "execution_count": 78,
   "metadata": {},
   "outputs": [
    {
     "name": "stdout",
     "output_type": "stream",
     "text": [
      "count     30000\n",
      "unique        2\n",
      "top           0\n",
      "freq      23364\n",
      "Name: default, dtype: int64\n"
     ]
    },
    {
     "data": {
      "image/png": "[encoded data removed]",
      "text/plain": [
       "<Figure size 432x288 with 1 Axes>"
      ]
     },
     "metadata": {
      "needs_background": "light"
     },
     "output_type": "display_data"
    },
    {
     "data": {
      "image/png": "[encoded data removed]",
      "text/plain": [
       "<Figure size 432x288 with 1 Axes>"
      ]
     },
     "metadata": {
      "needs_background": "light"
     },
     "output_type": "display_data"
    }
   ],
   "source": [
    "get_info('default', bins=[-0.5, 0.5, 1.5], rwidth=0.1 )"
   ]
  },
  {
   "cell_type": "code",
   "execution_count": 79,
   "metadata": {},
   "outputs": [
    {
     "data": {
      "text/plain": [
       "23364"
      ]
     },
     "execution_count": 79,
     "metadata": {},
     "output_type": "execute_result"
    }
   ],
   "source": [
    "data['default'].count() - data['default'].sum()"
   ]
  },
  {
   "cell_type": "markdown",
   "metadata": {},
   "source": [
    "Observamos que la mayoría de los valores (23,364) no son valores predeterminados, por lo que alrededor del 22,12% de nuestros valores son valores predeterminados (esta también es la media)."
   ]
  },
  {
   "cell_type": "markdown",
   "metadata": {},
   "source": [
    "### Análisis adicional"
   ]
  },
  {
   "cell_type": "code",
   "execution_count": 80,
   "metadata": {},
   "outputs": [
    {
     "data": {
      "text/html": [
       "<div>\n",
       "<style scoped>\n",
       "    .dataframe tbody tr th:only-of-type {\n",
       "        vertical-align: middle;\n",
       "    }\n",
       "\n",
       "    .dataframe tbody tr th {\n",
       "        vertical-align: top;\n",
       "    }\n",
       "\n",
       "    .dataframe thead th {\n",
       "        text-align: right;\n",
       "    }\n",
       "</style>\n",
       "<table border=\"1\" class=\"dataframe\">\n",
       "  <thead>\n",
       "    <tr style=\"text-align: right;\">\n",
       "      <th></th>\n",
       "      <th>BILL_AMT2</th>\n",
       "      <th>PAY_2</th>\n",
       "      <th>PAY_AMT2</th>\n",
       "      <th>BILL_AMT1</th>\n",
       "      <th>PAY_1</th>\n",
       "      <th>PAY_AMT1</th>\n",
       "      <th>LIMIT_BAL</th>\n",
       "      <th>default</th>\n",
       "    </tr>\n",
       "    <tr>\n",
       "      <th>ID</th>\n",
       "      <th></th>\n",
       "      <th></th>\n",
       "      <th></th>\n",
       "      <th></th>\n",
       "      <th></th>\n",
       "      <th></th>\n",
       "      <th></th>\n",
       "      <th></th>\n",
       "    </tr>\n",
       "  </thead>\n",
       "  <tbody>\n",
       "    <tr>\n",
       "      <th>27</th>\n",
       "      <td>-425.0</td>\n",
       "      <td>0</td>\n",
       "      <td>1,000.0</td>\n",
       "      <td>-109.0</td>\n",
       "      <td>1</td>\n",
       "      <td>0.0</td>\n",
       "      <td>60,000.0</td>\n",
       "      <td>1</td>\n",
       "    </tr>\n",
       "    <tr>\n",
       "      <th>69</th>\n",
       "      <td>-9,850.0</td>\n",
       "      <td>0</td>\n",
       "      <td>0.0</td>\n",
       "      <td>-190.0</td>\n",
       "      <td>1</td>\n",
       "      <td>0.0</td>\n",
       "      <td>130,000.0</td>\n",
       "      <td>0</td>\n",
       "    </tr>\n",
       "    <tr>\n",
       "      <th>110</th>\n",
       "      <td>-103.0</td>\n",
       "      <td>0</td>\n",
       "      <td>0.0</td>\n",
       "      <td>-103.0</td>\n",
       "      <td>1</td>\n",
       "      <td>0.0</td>\n",
       "      <td>360,000.0</td>\n",
       "      <td>0</td>\n",
       "    </tr>\n",
       "    <tr>\n",
       "      <th>150</th>\n",
       "      <td>-1,100.0</td>\n",
       "      <td>0</td>\n",
       "      <td>22,500.0</td>\n",
       "      <td>-1,100.0</td>\n",
       "      <td>1</td>\n",
       "      <td>0.0</td>\n",
       "      <td>260,000.0</td>\n",
       "      <td>0</td>\n",
       "    </tr>\n",
       "    <tr>\n",
       "      <th>174</th>\n",
       "      <td>-709.0</td>\n",
       "      <td>0</td>\n",
       "      <td>0.0</td>\n",
       "      <td>-709.0</td>\n",
       "      <td>1</td>\n",
       "      <td>0.0</td>\n",
       "      <td>50,000.0</td>\n",
       "      <td>1</td>\n",
       "    </tr>\n",
       "    <tr>\n",
       "      <th>187</th>\n",
       "      <td>57,077.0</td>\n",
       "      <td>0</td>\n",
       "      <td>5,295.0</td>\n",
       "      <td>2,616.0</td>\n",
       "      <td>1</td>\n",
       "      <td>57,087.0</td>\n",
       "      <td>360,000.0</td>\n",
       "      <td>0</td>\n",
       "    </tr>\n",
       "    <tr>\n",
       "      <th>217</th>\n",
       "      <td>-946.0</td>\n",
       "      <td>0</td>\n",
       "      <td>0.0</td>\n",
       "      <td>-946.0</td>\n",
       "      <td>1</td>\n",
       "      <td>0.0</td>\n",
       "      <td>240,000.0</td>\n",
       "      <td>1</td>\n",
       "    </tr>\n",
       "    <tr>\n",
       "      <th>277</th>\n",
       "      <td>2,715.0</td>\n",
       "      <td>0</td>\n",
       "      <td>0.0</td>\n",
       "      <td>171.0</td>\n",
       "      <td>2</td>\n",
       "      <td>2,728.0</td>\n",
       "      <td>460,000.0</td>\n",
       "      <td>1</td>\n",
       "    </tr>\n",
       "    <tr>\n",
       "      <th>320</th>\n",
       "      <td>-2.0</td>\n",
       "      <td>0</td>\n",
       "      <td>0.0</td>\n",
       "      <td>-2.0</td>\n",
       "      <td>1</td>\n",
       "      <td>0.0</td>\n",
       "      <td>180,000.0</td>\n",
       "      <td>0</td>\n",
       "    </tr>\n",
       "    <tr>\n",
       "      <th>331</th>\n",
       "      <td>505.0</td>\n",
       "      <td>0</td>\n",
       "      <td>0.0</td>\n",
       "      <td>-179.0</td>\n",
       "      <td>1</td>\n",
       "      <td>1,000.0</td>\n",
       "      <td>200,000.0</td>\n",
       "      <td>1</td>\n",
       "    </tr>\n",
       "    <tr>\n",
       "      <th>352</th>\n",
       "      <td>-13,543.0</td>\n",
       "      <td>0</td>\n",
       "      <td>47,015.0</td>\n",
       "      <td>-14,386.0</td>\n",
       "      <td>1</td>\n",
       "      <td>10,118.0</td>\n",
       "      <td>200,000.0</td>\n",
       "      <td>0</td>\n",
       "    </tr>\n",
       "    <tr>\n",
       "      <th>366</th>\n",
       "      <td>1,520.0</td>\n",
       "      <td>0</td>\n",
       "      <td>1,507.0</td>\n",
       "      <td>-9.0</td>\n",
       "      <td>1</td>\n",
       "      <td>1,529.0</td>\n",
       "      <td>330,000.0</td>\n",
       "      <td>0</td>\n",
       "    </tr>\n",
       "    <tr>\n",
       "      <th>392</th>\n",
       "      <td>35,918.0</td>\n",
       "      <td>0</td>\n",
       "      <td>2,000.0</td>\n",
       "      <td>-1,312.0</td>\n",
       "      <td>1</td>\n",
       "      <td>38,621.0</td>\n",
       "      <td>280,000.0</td>\n",
       "      <td>1</td>\n",
       "    </tr>\n",
       "    <tr>\n",
       "      <th>522</th>\n",
       "      <td>32,991.0</td>\n",
       "      <td>0</td>\n",
       "      <td>16,000.0</td>\n",
       "      <td>-58.0</td>\n",
       "      <td>1</td>\n",
       "      <td>33,049.0</td>\n",
       "      <td>410,000.0</td>\n",
       "      <td>0</td>\n",
       "    </tr>\n",
       "    <tr>\n",
       "      <th>529</th>\n",
       "      <td>-8.0</td>\n",
       "      <td>0</td>\n",
       "      <td>0.0</td>\n",
       "      <td>-8.0</td>\n",
       "      <td>1</td>\n",
       "      <td>0.0</td>\n",
       "      <td>360,000.0</td>\n",
       "      <td>0</td>\n",
       "    </tr>\n",
       "  </tbody>\n",
       "</table>\n",
       "</div>"
      ],
      "text/plain": [
       "     BILL_AMT2  PAY_2  PAY_AMT2  BILL_AMT1  PAY_1  PAY_AMT1  LIMIT_BAL default\n",
       "ID                                                                            \n",
       "27      -425.0      0   1,000.0     -109.0      1       0.0   60,000.0       1\n",
       "69    -9,850.0      0       0.0     -190.0      1       0.0  130,000.0       0\n",
       "110     -103.0      0       0.0     -103.0      1       0.0  360,000.0       0\n",
       "150   -1,100.0      0  22,500.0   -1,100.0      1       0.0  260,000.0       0\n",
       "174     -709.0      0       0.0     -709.0      1       0.0   50,000.0       1\n",
       "187   57,077.0      0   5,295.0    2,616.0      1  57,087.0  360,000.0       0\n",
       "217     -946.0      0       0.0     -946.0      1       0.0  240,000.0       1\n",
       "277    2,715.0      0       0.0      171.0      2   2,728.0  460,000.0       1\n",
       "320       -2.0      0       0.0       -2.0      1       0.0  180,000.0       0\n",
       "331      505.0      0       0.0     -179.0      1   1,000.0  200,000.0       1\n",
       "352  -13,543.0      0  47,015.0  -14,386.0      1  10,118.0  200,000.0       0\n",
       "366    1,520.0      0   1,507.0       -9.0      1   1,529.0  330,000.0       0\n",
       "392   35,918.0      0   2,000.0   -1,312.0      1  38,621.0  280,000.0       1\n",
       "522   32,991.0      0  16,000.0      -58.0      1  33,049.0  410,000.0       0\n",
       "529       -8.0      0       0.0       -8.0      1       0.0  360,000.0       0"
      ]
     },
     "execution_count": 80,
     "metadata": {},
     "output_type": "execute_result"
    }
   ],
   "source": [
    "replace = ((data.PAY_AMT1 > data.BILL_AMT2) & (data.PAY_1 > 0) & (data.PAY_2 == 0))\n",
    "data[replace] [['BILL_AMT2', 'PAY_2', 'PAY_AMT2', 'BILL_AMT1', 'PAY_1', 'PAY_AMT1', 'LIMIT_BAL', 'default']].head(15)"
   ]
  },
  {
   "cell_type": "markdown",
   "metadata": {},
   "source": [
    "Estos registros no parecen tener sentido. Representan valores que tenían un estado de reembolso de 0 en agosto (PAY_2 == 0), pagaban más en agosto de lo que era su factura en agosto (data.PAY_AMT1> data.BILL_AMT2), y ahora tienen un estado de retraso en los pagos (PAY_1> 0). Algunos incluso por defecto. Esto no debería ser posible.\n",
    "\n",
    "Un enfoque es convertir estas variables en una variable binaria que represente retrasos en los pagos o no."
   ]
  },
  {
   "cell_type": "code",
   "execution_count": null,
   "metadata": {},
   "outputs": [],
   "source": []
  }
 ],
 "metadata": {
  "kernelspec": {
   "display_name": "Python 3",
   "language": "python",
   "name": "python3"
  },
  "language_info": {
   "codemirror_mode": {
    "name": "ipython",
    "version": 3
   },
   "file_extension": ".py",
   "mimetype": "text/x-python",
   "name": "python",
   "nbconvert_exporter": "python",
   "pygments_lexer": "ipython3",
   "version": "3.7.4"
  }
 },
 "nbformat": 4,
 "nbformat_minor": 4
}
